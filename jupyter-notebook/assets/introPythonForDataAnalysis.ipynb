{
 "cells": [
  {
   "cell_type": "markdown",
   "metadata": {},
   "source": [
    "# Python for Data Analysis\n"
   ]
  },
  {
   "cell_type": "markdown",
   "metadata": {},
   "source": [
    "#### Research Computing Services\n",
    "Website: [rcs.bu.edu](http://www.bu.edu/tech/support/research/) <br>\n",
    "Tutorial materials: [http://rcs.bu.edu/examples/python/data_analysis](http://rcs.bu.edu/examples/python/data_analysis)\n"
   ]
  },
  {
   "cell_type": "code",
   "execution_count": 2,
   "metadata": {},
   "outputs": [],
   "source": [
    "#Import Python Libraries\n",
    "import numpy as np\n",
    "import scipy as sp\n",
    "import pandas as pd\n",
    "import matplotlib.pyplot as plt\n",
    "import seaborn as sns"
   ]
  },
  {
   "cell_type": "markdown",
   "metadata": {},
   "source": [
    "Pandas is a python package that deals mostly with :\n",
    "- **Series**  (1d homogeneous array)\n",
    "- **DataFrame** (2d labeled heterogeneous array) \n",
    "- **Panel** (general 3d array)"
   ]
  },
  {
   "cell_type": "markdown",
   "metadata": {},
   "source": [
    "### Pandas Series"
   ]
  },
  {
   "cell_type": "markdown",
   "metadata": {},
   "source": [
    "Pandas *Series* is one-dimentional labeled array containing data of the same type (integers, strings, floating point numbers, Python objects, etc. ). The axis labels are often referred to as *index*."
   ]
  },
  {
   "cell_type": "code",
   "execution_count": 3,
   "metadata": {},
   "outputs": [
    {
     "name": "stdout",
     "output_type": "stream",
     "text": [
      "0    0.402255\n",
      "1   -0.230922\n",
      "2    0.639320\n",
      "3    0.630335\n",
      "4    0.535300\n",
      "dtype: float64\n"
     ]
    }
   ],
   "source": [
    "# Example of creating Pandas series :\n",
    "s1 = pd.Series(np.random.randn(5))\n",
    "print(s1)"
   ]
  },
  {
   "cell_type": "markdown",
   "metadata": {},
   "source": [
    "We did not pass any index, so by default, it assigned the indexes ranging from 0 to len(data)-1"
   ]
  },
  {
   "cell_type": "code",
   "execution_count": 4,
   "metadata": {},
   "outputs": [
    {
     "name": "stdout",
     "output_type": "stream",
     "text": [
      "RangeIndex(start=0, stop=5, step=1)\n"
     ]
    }
   ],
   "source": [
    "# View index values\n",
    "print(s1.index)"
   ]
  },
  {
   "cell_type": "code",
   "execution_count": 6,
   "metadata": {},
   "outputs": [
    {
     "name": "stdout",
     "output_type": "stream",
     "text": [
      "a    0.034670\n",
      "b    0.808882\n",
      "c   -1.606984\n",
      "d   -0.151434\n",
      "e   -0.022333\n",
      "dtype: float64\n"
     ]
    }
   ],
   "source": [
    "# Creating Pandas series with index:\n",
    "s2 = pd.Series( np.random.randn(5), index=['a', 'b', 'c', 'd', 'e'] )\n",
    "print(s2)"
   ]
  },
  {
   "cell_type": "code",
   "execution_count": 7,
   "metadata": {},
   "outputs": [
    {
     "name": "stdout",
     "output_type": "stream",
     "text": [
      "Index(['a', 'b', 'c', 'd', 'e'], dtype='object')\n"
     ]
    }
   ],
   "source": [
    "# View index values\n",
    "print(s2.index)"
   ]
  },
  {
   "cell_type": "code",
   "execution_count": 8,
   "metadata": {},
   "outputs": [
    {
     "name": "stdout",
     "output_type": "stream",
     "text": [
      "{'pi': 3.1415, 'e': 2.71828}\n",
      "pi    3.14150\n",
      "e     2.71828\n",
      "dtype: float64\n"
     ]
    }
   ],
   "source": [
    "# Create a Series from dictionary\n",
    "data = {'pi': 3.1415, 'e': 2.71828}  # dictionary\n",
    "print(data)\n",
    "s3 = pd.Series ( data )\n",
    "print(s3)"
   ]
  },
  {
   "cell_type": "code",
   "execution_count": 9,
   "metadata": {},
   "outputs": [
    {
     "name": "stdout",
     "output_type": "stream",
     "text": [
      "e      2.71828\n",
      "pi     3.14150\n",
      "tau        NaN\n",
      "dtype: float64\n"
     ]
    }
   ],
   "source": [
    "# reordering the elements\n",
    "s4 = pd.Series ( data, index = ['e', 'pi', 'tau'])\n",
    "print(s4)"
   ]
  },
  {
   "cell_type": "markdown",
   "metadata": {},
   "source": [
    "NAN (non a number) - is used to specify a missing value in Pandas."
   ]
  },
  {
   "cell_type": "code",
   "execution_count": 10,
   "metadata": {},
   "outputs": [
    {
     "name": "stdout",
     "output_type": "stream",
     "text": [
      "0    1\n",
      "1    1\n",
      "2    1\n",
      "3    1\n",
      "4    1\n",
      "5    1\n",
      "6    1\n",
      "7    1\n",
      "8    1\n",
      "9    1\n",
      "Name: Ones, dtype: int64\n"
     ]
    }
   ],
   "source": [
    "# Creating a Pandas Series object from a single number:\n",
    "s5 = pd.Series( 1, index = range(10), name='Ones')\n",
    "print(s5)"
   ]
  },
  {
   "cell_type": "code",
   "execution_count": 11,
   "metadata": {},
   "outputs": [
    {
     "data": {
      "text/plain": [
       "0    0.402255\n",
       "1   -0.230922\n",
       "2    0.639320\n",
       "3    0.630335\n",
       "4    0.535300\n",
       "dtype: float64"
      ]
     },
     "execution_count": 11,
     "metadata": {},
     "output_type": "execute_result"
    }
   ],
   "source": [
    "s1"
   ]
  },
  {
   "cell_type": "code",
   "execution_count": 12,
   "metadata": {},
   "outputs": [
    {
     "name": "stdout",
     "output_type": "stream",
     "text": [
      "0    0.402255\n",
      "1   -0.230922\n",
      "2    0.639320\n",
      "3    0.630335\n",
      "4    0.535300\n",
      "dtype: float64\n"
     ]
    },
    {
     "data": {
      "text/plain": [
       "0.6303345197846171"
      ]
     },
     "execution_count": 12,
     "metadata": {},
     "output_type": "execute_result"
    }
   ],
   "source": [
    "# Many ways to \"slice\" Pandas series (series have zero-based index by default):\n",
    "print(s1)\n",
    "s1[3]  # returns 4th element"
   ]
  },
  {
   "cell_type": "code",
   "execution_count": 13,
   "metadata": {},
   "outputs": [
    {
     "data": {
      "text/plain": [
       "0    0.402255\n",
       "1   -0.230922\n",
       "dtype: float64"
      ]
     },
     "execution_count": 13,
     "metadata": {},
     "output_type": "execute_result"
    }
   ],
   "source": [
    "s1[:2] # First 2 elements\n"
   ]
  },
  {
   "cell_type": "code",
   "execution_count": 14,
   "metadata": {},
   "outputs": [
    {
     "name": "stdout",
     "output_type": "stream",
     "text": [
      "2    0.639320\n",
      "1   -0.230922\n",
      "0    0.402255\n",
      "dtype: float64\n"
     ]
    }
   ],
   "source": [
    "print( s1[ [2,1,0]])  # Elements out of order"
   ]
  },
  {
   "cell_type": "code",
   "execution_count": 16,
   "metadata": {},
   "outputs": [
    {
     "data": {
      "text/plain": [
       "3.1415"
      ]
     },
     "execution_count": 16,
     "metadata": {},
     "output_type": "execute_result"
    }
   ],
   "source": [
    "#Slicing series using index label (access series like a dictionary)\n",
    "\n",
    "s4['pi']"
   ]
  },
  {
   "cell_type": "code",
   "execution_count": 17,
   "metadata": {},
   "outputs": [
    {
     "data": {
      "text/plain": [
       "['T',\n",
       " '_AXIS_ALIASES',\n",
       " '_AXIS_IALIASES',\n",
       " '_AXIS_LEN',\n",
       " '_AXIS_NAMES',\n",
       " '_AXIS_NUMBERS',\n",
       " '_AXIS_ORDERS',\n",
       " '_AXIS_REVERSED',\n",
       " '_AXIS_SLICEMAP',\n",
       " '__abs__',\n",
       " '__add__',\n",
       " '__and__',\n",
       " '__array__',\n",
       " '__array_prepare__',\n",
       " '__array_priority__',\n",
       " '__array_wrap__',\n",
       " '__bool__',\n",
       " '__bytes__',\n",
       " '__class__',\n",
       " '__contains__',\n",
       " '__copy__',\n",
       " '__deepcopy__',\n",
       " '__delattr__',\n",
       " '__delitem__',\n",
       " '__dict__',\n",
       " '__dir__',\n",
       " '__div__',\n",
       " '__divmod__',\n",
       " '__doc__',\n",
       " '__eq__',\n",
       " '__finalize__',\n",
       " '__float__',\n",
       " '__floordiv__',\n",
       " '__format__',\n",
       " '__ge__',\n",
       " '__getattr__',\n",
       " '__getattribute__',\n",
       " '__getitem__',\n",
       " '__getstate__',\n",
       " '__gt__',\n",
       " '__hash__',\n",
       " '__iadd__',\n",
       " '__iand__',\n",
       " '__ifloordiv__',\n",
       " '__imod__',\n",
       " '__imul__',\n",
       " '__init__',\n",
       " '__init_subclass__',\n",
       " '__int__',\n",
       " '__invert__',\n",
       " '__ior__',\n",
       " '__ipow__',\n",
       " '__isub__',\n",
       " '__iter__',\n",
       " '__itruediv__',\n",
       " '__ixor__',\n",
       " '__le__',\n",
       " '__len__',\n",
       " '__long__',\n",
       " '__lt__',\n",
       " '__matmul__',\n",
       " '__mod__',\n",
       " '__module__',\n",
       " '__mul__',\n",
       " '__ne__',\n",
       " '__neg__',\n",
       " '__new__',\n",
       " '__nonzero__',\n",
       " '__or__',\n",
       " '__pos__',\n",
       " '__pow__',\n",
       " '__radd__',\n",
       " '__rand__',\n",
       " '__rdiv__',\n",
       " '__reduce__',\n",
       " '__reduce_ex__',\n",
       " '__repr__',\n",
       " '__rfloordiv__',\n",
       " '__rmatmul__',\n",
       " '__rmod__',\n",
       " '__rmul__',\n",
       " '__ror__',\n",
       " '__round__',\n",
       " '__rpow__',\n",
       " '__rsub__',\n",
       " '__rtruediv__',\n",
       " '__rxor__',\n",
       " '__setattr__',\n",
       " '__setitem__',\n",
       " '__setstate__',\n",
       " '__sizeof__',\n",
       " '__str__',\n",
       " '__sub__',\n",
       " '__subclasshook__',\n",
       " '__truediv__',\n",
       " '__unicode__',\n",
       " '__weakref__',\n",
       " '__xor__',\n",
       " '_accessors',\n",
       " '_add_numeric_operations',\n",
       " '_add_series_only_operations',\n",
       " '_add_series_or_dataframe_operations',\n",
       " '_agg_by_level',\n",
       " '_agg_doc',\n",
       " '_aggregate',\n",
       " '_aggregate_multiple_funcs',\n",
       " '_align_frame',\n",
       " '_align_series',\n",
       " '_binop',\n",
       " '_box_item_values',\n",
       " '_builtin_table',\n",
       " '_can_hold_na',\n",
       " '_check_inplace_setting',\n",
       " '_check_is_chained_assignment_possible',\n",
       " '_check_label_or_level_ambiguity',\n",
       " '_check_percentile',\n",
       " '_check_setitem_copy',\n",
       " '_clear_item_cache',\n",
       " '_clip_with_one_bound',\n",
       " '_clip_with_scalar',\n",
       " '_consolidate',\n",
       " '_consolidate_inplace',\n",
       " '_construct_axes_dict',\n",
       " '_construct_axes_dict_for_slice',\n",
       " '_construct_axes_dict_from',\n",
       " '_construct_axes_from_arguments',\n",
       " '_constructor',\n",
       " '_constructor_expanddim',\n",
       " '_constructor_sliced',\n",
       " '_convert',\n",
       " '_create_indexer',\n",
       " '_cython_table',\n",
       " '_deprecations',\n",
       " '_dir_additions',\n",
       " '_dir_deletions',\n",
       " '_drop_axis',\n",
       " '_drop_labels_or_levels',\n",
       " '_expand_axes',\n",
       " '_find_valid_index',\n",
       " '_formatting_values',\n",
       " '_from_axes',\n",
       " '_get_axis',\n",
       " '_get_axis_name',\n",
       " '_get_axis_number',\n",
       " '_get_axis_resolvers',\n",
       " '_get_block_manager_axis',\n",
       " '_get_bool_data',\n",
       " '_get_cacher',\n",
       " '_get_index_resolvers',\n",
       " '_get_item_cache',\n",
       " '_get_label_or_level_values',\n",
       " '_get_numeric_data',\n",
       " '_get_value',\n",
       " '_get_values',\n",
       " '_get_values_tuple',\n",
       " '_get_with',\n",
       " '_gotitem',\n",
       " '_iget_item_cache',\n",
       " '_index',\n",
       " '_indexed_same',\n",
       " '_info_axis',\n",
       " '_info_axis_name',\n",
       " '_info_axis_number',\n",
       " '_init_dict',\n",
       " '_init_mgr',\n",
       " '_internal_names',\n",
       " '_internal_names_set',\n",
       " '_is_builtin_func',\n",
       " '_is_cached',\n",
       " '_is_copy',\n",
       " '_is_cython_func',\n",
       " '_is_datelike_mixed_type',\n",
       " '_is_label_or_level_reference',\n",
       " '_is_label_reference',\n",
       " '_is_level_reference',\n",
       " '_is_mixed_type',\n",
       " '_is_numeric_mixed_type',\n",
       " '_is_view',\n",
       " '_ix',\n",
       " '_ixs',\n",
       " '_map_values',\n",
       " '_maybe_cache_changed',\n",
       " '_maybe_update_cacher',\n",
       " '_metadata',\n",
       " '_ndarray_values',\n",
       " '_needs_reindex_multi',\n",
       " '_obj_with_exclusions',\n",
       " '_protect_consolidate',\n",
       " '_reduce',\n",
       " '_reindex_axes',\n",
       " '_reindex_axis',\n",
       " '_reindex_indexer',\n",
       " '_reindex_multi',\n",
       " '_reindex_with_indexers',\n",
       " '_repr_data_resource_',\n",
       " '_repr_latex_',\n",
       " '_reset_cache',\n",
       " '_reset_cacher',\n",
       " '_selected_obj',\n",
       " '_selection',\n",
       " '_selection_list',\n",
       " '_selection_name',\n",
       " '_set_as_cached',\n",
       " '_set_axis',\n",
       " '_set_axis_name',\n",
       " '_set_is_copy',\n",
       " '_set_item',\n",
       " '_set_labels',\n",
       " '_set_name',\n",
       " '_set_subtyp',\n",
       " '_set_value',\n",
       " '_set_values',\n",
       " '_set_with',\n",
       " '_set_with_engine',\n",
       " '_setup_axes',\n",
       " '_shallow_copy',\n",
       " '_slice',\n",
       " '_stat_axis',\n",
       " '_stat_axis_name',\n",
       " '_stat_axis_number',\n",
       " '_take',\n",
       " '_to_dict_of_blocks',\n",
       " '_try_aggregate_string_function',\n",
       " '_typ',\n",
       " '_unpickle_series_compat',\n",
       " '_update_inplace',\n",
       " '_validate_dtype',\n",
       " '_values',\n",
       " '_where',\n",
       " '_xs',\n",
       " 'abs',\n",
       " 'add',\n",
       " 'add_prefix',\n",
       " 'add_suffix',\n",
       " 'agg',\n",
       " 'aggregate',\n",
       " 'align',\n",
       " 'all',\n",
       " 'any',\n",
       " 'append',\n",
       " 'apply',\n",
       " 'argmax',\n",
       " 'argmin',\n",
       " 'argsort',\n",
       " 'as_matrix',\n",
       " 'asfreq',\n",
       " 'asof',\n",
       " 'astype',\n",
       " 'at',\n",
       " 'at_time',\n",
       " 'autocorr',\n",
       " 'axes',\n",
       " 'base',\n",
       " 'between',\n",
       " 'between_time',\n",
       " 'bfill',\n",
       " 'bool',\n",
       " 'clip',\n",
       " 'clip_lower',\n",
       " 'clip_upper',\n",
       " 'combine',\n",
       " 'combine_first',\n",
       " 'compound',\n",
       " 'compress',\n",
       " 'copy',\n",
       " 'corr',\n",
       " 'count',\n",
       " 'cov',\n",
       " 'cummax',\n",
       " 'cummin',\n",
       " 'cumprod',\n",
       " 'cumsum',\n",
       " 'data',\n",
       " 'describe',\n",
       " 'diff',\n",
       " 'div',\n",
       " 'divide',\n",
       " 'divmod',\n",
       " 'dot',\n",
       " 'drop',\n",
       " 'drop_duplicates',\n",
       " 'dropna',\n",
       " 'dtype',\n",
       " 'dtypes',\n",
       " 'duplicated',\n",
       " 'e',\n",
       " 'empty',\n",
       " 'eq',\n",
       " 'equals',\n",
       " 'ewm',\n",
       " 'expanding',\n",
       " 'factorize',\n",
       " 'ffill',\n",
       " 'fillna',\n",
       " 'filter',\n",
       " 'first',\n",
       " 'first_valid_index',\n",
       " 'flags',\n",
       " 'floordiv',\n",
       " 'from_array',\n",
       " 'ftype',\n",
       " 'ftypes',\n",
       " 'ge',\n",
       " 'get',\n",
       " 'get_dtype_counts',\n",
       " 'get_ftype_counts',\n",
       " 'get_values',\n",
       " 'groupby',\n",
       " 'gt',\n",
       " 'hasnans',\n",
       " 'head',\n",
       " 'hist',\n",
       " 'iat',\n",
       " 'idxmax',\n",
       " 'idxmin',\n",
       " 'iloc',\n",
       " 'imag',\n",
       " 'index',\n",
       " 'infer_objects',\n",
       " 'interpolate',\n",
       " 'is_monotonic',\n",
       " 'is_monotonic_decreasing',\n",
       " 'is_monotonic_increasing',\n",
       " 'is_unique',\n",
       " 'isin',\n",
       " 'isna',\n",
       " 'isnull',\n",
       " 'item',\n",
       " 'items',\n",
       " 'itemsize',\n",
       " 'iteritems',\n",
       " 'ix',\n",
       " 'keys',\n",
       " 'kurt',\n",
       " 'kurtosis',\n",
       " 'last',\n",
       " 'last_valid_index',\n",
       " 'le',\n",
       " 'loc',\n",
       " 'lt',\n",
       " 'mad',\n",
       " 'map',\n",
       " 'mask',\n",
       " 'max',\n",
       " 'mean',\n",
       " 'median',\n",
       " 'memory_usage',\n",
       " 'min',\n",
       " 'mod',\n",
       " 'mode',\n",
       " 'mul',\n",
       " 'multiply',\n",
       " 'name',\n",
       " 'nbytes',\n",
       " 'ndim',\n",
       " 'ne',\n",
       " 'nlargest',\n",
       " 'nonzero',\n",
       " 'notna',\n",
       " 'notnull',\n",
       " 'nsmallest',\n",
       " 'nunique',\n",
       " 'pct_change',\n",
       " 'pi',\n",
       " 'pipe',\n",
       " 'plot',\n",
       " 'pop',\n",
       " 'pow',\n",
       " 'prod',\n",
       " 'product',\n",
       " 'ptp',\n",
       " 'put',\n",
       " 'quantile',\n",
       " 'radd',\n",
       " 'rank',\n",
       " 'ravel',\n",
       " 'rdiv',\n",
       " 'real',\n",
       " 'reindex',\n",
       " 'reindex_axis',\n",
       " 'reindex_like',\n",
       " 'rename',\n",
       " 'rename_axis',\n",
       " 'reorder_levels',\n",
       " 'repeat',\n",
       " 'replace',\n",
       " 'resample',\n",
       " 'reset_index',\n",
       " 'rfloordiv',\n",
       " 'rmod',\n",
       " 'rmul',\n",
       " 'rolling',\n",
       " 'round',\n",
       " 'rpow',\n",
       " 'rsub',\n",
       " 'rtruediv',\n",
       " 'sample',\n",
       " 'searchsorted',\n",
       " 'select',\n",
       " 'sem',\n",
       " 'set_axis',\n",
       " 'shape',\n",
       " 'shift',\n",
       " 'size',\n",
       " 'skew',\n",
       " 'slice_shift',\n",
       " 'sort_index',\n",
       " 'sort_values',\n",
       " 'squeeze',\n",
       " 'std',\n",
       " 'strides',\n",
       " 'sub',\n",
       " 'subtract',\n",
       " 'sum',\n",
       " 'swapaxes',\n",
       " 'swaplevel',\n",
       " 'tail',\n",
       " 'take',\n",
       " 'tau',\n",
       " 'to_clipboard',\n",
       " 'to_csv',\n",
       " 'to_dense',\n",
       " 'to_dict',\n",
       " 'to_excel',\n",
       " 'to_frame',\n",
       " 'to_hdf',\n",
       " 'to_json',\n",
       " 'to_latex',\n",
       " 'to_msgpack',\n",
       " 'to_period',\n",
       " 'to_pickle',\n",
       " 'to_sparse',\n",
       " 'to_sql',\n",
       " 'to_string',\n",
       " 'to_timestamp',\n",
       " 'to_xarray',\n",
       " 'tolist',\n",
       " 'transform',\n",
       " 'transpose',\n",
       " 'truediv',\n",
       " 'truncate',\n",
       " 'tshift',\n",
       " 'tz_convert',\n",
       " 'tz_localize',\n",
       " 'unique',\n",
       " 'unstack',\n",
       " 'update',\n",
       " 'value_counts',\n",
       " 'values',\n",
       " 'var',\n",
       " 'view',\n",
       " 'where',\n",
       " 'xs']"
      ]
     },
     "execution_count": 17,
     "metadata": {},
     "output_type": "execute_result"
    }
   ],
   "source": [
    "dir(s4)"
   ]
  },
  {
   "cell_type": "code",
   "execution_count": 20,
   "metadata": {},
   "outputs": [
    {
     "name": "stdout",
     "output_type": "stream",
     "text": [
      "e      2.71828\n",
      "pi     3.14150\n",
      "tau        NaN\n",
      "dtype: float64\n",
      "Median: 2.9298900000000003\n"
     ]
    }
   ],
   "source": [
    "# Series can be used as ndarray:\n",
    "print(s4)\n",
    "print(\"Median:\" , s4.median())"
   ]
  },
  {
   "cell_type": "code",
   "execution_count": 21,
   "metadata": {},
   "outputs": [
    {
     "data": {
      "text/plain": [
       "0    0.402255\n",
       "2    0.639320\n",
       "3    0.630335\n",
       "4    0.535300\n",
       "dtype: float64"
      ]
     },
     "execution_count": 21,
     "metadata": {},
     "output_type": "execute_result"
    }
   ],
   "source": [
    "s1[s1 > 0]"
   ]
  },
  {
   "cell_type": "code",
   "execution_count": 28,
   "metadata": {},
   "outputs": [
    {
     "data": {
      "text/plain": [
       "pi    3.1415\n",
       "dtype: float64"
      ]
     },
     "execution_count": 28,
     "metadata": {},
     "output_type": "execute_result"
    }
   ],
   "source": [
    "# numpy functions can be used on series as usual:\n",
    "s4[s4 > s4.median()]"
   ]
  },
  {
   "cell_type": "code",
   "execution_count": 29,
   "metadata": {},
   "outputs": [
    {
     "name": "stdout",
     "output_type": "stream",
     "text": [
      "0    0.402255\n",
      "1   -0.230922\n",
      "2    0.639320\n",
      "3    0.630335\n",
      "4    0.535300\n",
      "dtype: float64\n"
     ]
    },
    {
     "data": {
      "text/plain": [
       "0    1.495193\n",
       "1    0.793801\n",
       "2    1.895191\n",
       "3    1.878239\n",
       "4    1.707961\n",
       "dtype: float64"
      ]
     },
     "execution_count": 29,
     "metadata": {},
     "output_type": "execute_result"
    }
   ],
   "source": [
    "# vector operations:\n",
    "print(s1)\n",
    "np.exp(s1)"
   ]
  },
  {
   "cell_type": "code",
   "execution_count": 32,
   "metadata": {},
   "outputs": [
    {
     "name": "stdout",
     "output_type": "stream",
     "text": [
      "0    0\n",
      "1    1\n",
      "2    2\n",
      "3    3\n",
      "4    4\n",
      "5    5\n",
      "dtype: int64\n"
     ]
    },
    {
     "data": {
      "text/plain": [
       "0    NaN\n",
       "1    2.0\n",
       "2    4.0\n",
       "3    6.0\n",
       "4    8.0\n",
       "5    NaN\n",
       "dtype: float64"
      ]
     },
     "execution_count": 32,
     "metadata": {},
     "output_type": "execute_result"
    }
   ],
   "source": [
    "# Unlike ndarray Series automatically allign the data based on label:\n",
    "s5 = pd.Series (range(6))\n",
    "print(s5)\n",
    "s5[1:] + s5[:-1]"
   ]
  },
  {
   "cell_type": "markdown",
   "metadata": {},
   "source": [
    "#### Popular Attributes and Methods:\n",
    "\n",
    "|  Attribute/Method | Description |\n",
    "|-----|-----|\n",
    "| dtype | data type of values in series |\n",
    "| empty | True if series is empty |\n",
    "| size | number of elements |\n",
    "| values | Returns values as ndarray |\n",
    "| head() | First n elements |\n",
    "| tail() | Last n elements |"
   ]
  },
  {
   "cell_type": "markdown",
   "metadata": {},
   "source": [
    "*Exercise* "
   ]
  },
  {
   "cell_type": "code",
   "execution_count": 40,
   "metadata": {},
   "outputs": [
    {
     "name": "stdout",
     "output_type": "stream",
     "text": [
      "0    -0.392470\n",
      "1     2.015399\n",
      "2    -1.220223\n",
      "3    -2.041651\n",
      "4    -0.347499\n",
      "5    -0.179473\n",
      "6    -1.907624\n",
      "7     1.107395\n",
      "8     0.234887\n",
      "9    -0.009683\n",
      "10    0.846857\n",
      "11   -0.545460\n",
      "12   -0.464866\n",
      "13   -1.305710\n",
      "14   -0.007016\n",
      "15    0.220170\n",
      "16    0.232632\n",
      "17    0.670223\n",
      "18    0.910800\n",
      "19   -0.311216\n",
      "20   -0.805779\n",
      "dtype: float64\n"
     ]
    }
   ],
   "source": [
    "# Create a series of your choice and explore it\n",
    "# <your code goes here >\n",
    "mys = pd.Series( np.random.randn(21))\n",
    "print(mys)"
   ]
  },
  {
   "cell_type": "code",
   "execution_count": 34,
   "metadata": {},
   "outputs": [
    {
     "data": {
      "text/plain": [
       "0    1.754823\n",
       "1   -2.560892\n",
       "2   -0.210170\n",
       "3   -0.385927\n",
       "4   -0.916864\n",
       "dtype: float64"
      ]
     },
     "execution_count": 34,
     "metadata": {},
     "output_type": "execute_result"
    }
   ],
   "source": [
    "mys.head()"
   ]
  },
  {
   "cell_type": "code",
   "execution_count": 35,
   "metadata": {},
   "outputs": [
    {
     "data": {
      "text/plain": [
       "False"
      ]
     },
     "execution_count": 35,
     "metadata": {},
     "output_type": "execute_result"
    }
   ],
   "source": [
    "mys.empty"
   ]
  },
  {
   "cell_type": "markdown",
   "metadata": {},
   "source": [
    "### Pandas DataFrame"
   ]
  },
  {
   "cell_type": "markdown",
   "metadata": {},
   "source": [
    "Pandas *DataFrame* is two-dimensional, size-mutable, heterogeneous tabular data structure with labeled rows and columns ( axes ). Can be thought of a dictionary-like container to store python Series objects."
   ]
  },
  {
   "cell_type": "code",
   "execution_count": 44,
   "metadata": {},
   "outputs": [
    {
     "name": "stdout",
     "output_type": "stream",
     "text": [
      "    Name  Age\n",
      "0  Alice   21\n",
      "1    Bob   25\n",
      "2  Chris   23\n"
     ]
    }
   ],
   "source": [
    "d =  pd.DataFrame({ 'Name': pd.Series(['Alice','Bob','Chris']), \n",
    "                  'Age': pd.Series([ 21,25,23]) } )\n",
    "print(d)"
   ]
  },
  {
   "cell_type": "code",
   "execution_count": 42,
   "metadata": {},
   "outputs": [
    {
     "data": {
      "text/html": [
       "<div>\n",
       "<style scoped>\n",
       "    .dataframe tbody tr th:only-of-type {\n",
       "        vertical-align: middle;\n",
       "    }\n",
       "\n",
       "    .dataframe tbody tr th {\n",
       "        vertical-align: top;\n",
       "    }\n",
       "\n",
       "    .dataframe thead th {\n",
       "        text-align: right;\n",
       "    }\n",
       "</style>\n",
       "<table border=\"1\" class=\"dataframe\">\n",
       "  <thead>\n",
       "    <tr style=\"text-align: right;\">\n",
       "      <th></th>\n",
       "      <th>Name</th>\n",
       "      <th>Age</th>\n",
       "      <th>height</th>\n",
       "    </tr>\n",
       "  </thead>\n",
       "  <tbody>\n",
       "    <tr>\n",
       "      <th>0</th>\n",
       "      <td>Alice</td>\n",
       "      <td>21</td>\n",
       "      <td>5.2</td>\n",
       "    </tr>\n",
       "    <tr>\n",
       "      <th>1</th>\n",
       "      <td>Bob</td>\n",
       "      <td>25</td>\n",
       "      <td>6.0</td>\n",
       "    </tr>\n",
       "    <tr>\n",
       "      <th>2</th>\n",
       "      <td>Chris</td>\n",
       "      <td>23</td>\n",
       "      <td>5.6</td>\n",
       "    </tr>\n",
       "  </tbody>\n",
       "</table>\n",
       "</div>"
      ],
      "text/plain": [
       "    Name  Age  height\n",
       "0  Alice   21     5.2\n",
       "1    Bob   25     6.0\n",
       "2  Chris   23     5.6"
      ]
     },
     "execution_count": 42,
     "metadata": {},
     "output_type": "execute_result"
    }
   ],
   "source": [
    "#Add a new column:\n",
    "d['height'] = pd.Series([5.2,6.0,5.6])\n",
    "d"
   ]
  },
  {
   "cell_type": "code",
   "execution_count": 46,
   "metadata": {},
   "outputs": [
    {
     "data": {
      "text/html": [
       "<div>\n",
       "<style scoped>\n",
       "    .dataframe tbody tr th:only-of-type {\n",
       "        vertical-align: middle;\n",
       "    }\n",
       "\n",
       "    .dataframe tbody tr th {\n",
       "        vertical-align: top;\n",
       "    }\n",
       "\n",
       "    .dataframe thead th {\n",
       "        text-align: right;\n",
       "    }\n",
       "</style>\n",
       "<table border=\"1\" class=\"dataframe\">\n",
       "  <thead>\n",
       "    <tr style=\"text-align: right;\">\n",
       "      <th></th>\n",
       "      <th>rank</th>\n",
       "      <th>discipline</th>\n",
       "      <th>phd</th>\n",
       "      <th>service</th>\n",
       "      <th>sex</th>\n",
       "      <th>salary</th>\n",
       "    </tr>\n",
       "  </thead>\n",
       "  <tbody>\n",
       "    <tr>\n",
       "      <th>0</th>\n",
       "      <td>Prof</td>\n",
       "      <td>B</td>\n",
       "      <td>56</td>\n",
       "      <td>49</td>\n",
       "      <td>Male</td>\n",
       "      <td>186960</td>\n",
       "    </tr>\n",
       "    <tr>\n",
       "      <th>1</th>\n",
       "      <td>Prof</td>\n",
       "      <td>A</td>\n",
       "      <td>12</td>\n",
       "      <td>6</td>\n",
       "      <td>Male</td>\n",
       "      <td>93000</td>\n",
       "    </tr>\n",
       "    <tr>\n",
       "      <th>2</th>\n",
       "      <td>Prof</td>\n",
       "      <td>A</td>\n",
       "      <td>23</td>\n",
       "      <td>20</td>\n",
       "      <td>Male</td>\n",
       "      <td>110515</td>\n",
       "    </tr>\n",
       "    <tr>\n",
       "      <th>3</th>\n",
       "      <td>Prof</td>\n",
       "      <td>A</td>\n",
       "      <td>40</td>\n",
       "      <td>31</td>\n",
       "      <td>Male</td>\n",
       "      <td>131205</td>\n",
       "    </tr>\n",
       "    <tr>\n",
       "      <th>4</th>\n",
       "      <td>Prof</td>\n",
       "      <td>B</td>\n",
       "      <td>20</td>\n",
       "      <td>18</td>\n",
       "      <td>Male</td>\n",
       "      <td>104800</td>\n",
       "    </tr>\n",
       "    <tr>\n",
       "      <th>5</th>\n",
       "      <td>Prof</td>\n",
       "      <td>A</td>\n",
       "      <td>20</td>\n",
       "      <td>20</td>\n",
       "      <td>Male</td>\n",
       "      <td>122400</td>\n",
       "    </tr>\n",
       "    <tr>\n",
       "      <th>6</th>\n",
       "      <td>AssocProf</td>\n",
       "      <td>A</td>\n",
       "      <td>20</td>\n",
       "      <td>17</td>\n",
       "      <td>Male</td>\n",
       "      <td>81285</td>\n",
       "    </tr>\n",
       "    <tr>\n",
       "      <th>7</th>\n",
       "      <td>Prof</td>\n",
       "      <td>A</td>\n",
       "      <td>18</td>\n",
       "      <td>18</td>\n",
       "      <td>Male</td>\n",
       "      <td>126300</td>\n",
       "    </tr>\n",
       "    <tr>\n",
       "      <th>8</th>\n",
       "      <td>Prof</td>\n",
       "      <td>A</td>\n",
       "      <td>29</td>\n",
       "      <td>19</td>\n",
       "      <td>Male</td>\n",
       "      <td>94350</td>\n",
       "    </tr>\n",
       "    <tr>\n",
       "      <th>9</th>\n",
       "      <td>Prof</td>\n",
       "      <td>A</td>\n",
       "      <td>51</td>\n",
       "      <td>51</td>\n",
       "      <td>Male</td>\n",
       "      <td>57800</td>\n",
       "    </tr>\n",
       "    <tr>\n",
       "      <th>10</th>\n",
       "      <td>Prof</td>\n",
       "      <td>B</td>\n",
       "      <td>39</td>\n",
       "      <td>33</td>\n",
       "      <td>Male</td>\n",
       "      <td>128250</td>\n",
       "    </tr>\n",
       "    <tr>\n",
       "      <th>11</th>\n",
       "      <td>Prof</td>\n",
       "      <td>B</td>\n",
       "      <td>23</td>\n",
       "      <td>23</td>\n",
       "      <td>Male</td>\n",
       "      <td>134778</td>\n",
       "    </tr>\n",
       "    <tr>\n",
       "      <th>12</th>\n",
       "      <td>AsstProf</td>\n",
       "      <td>B</td>\n",
       "      <td>1</td>\n",
       "      <td>0</td>\n",
       "      <td>Male</td>\n",
       "      <td>88000</td>\n",
       "    </tr>\n",
       "    <tr>\n",
       "      <th>13</th>\n",
       "      <td>Prof</td>\n",
       "      <td>B</td>\n",
       "      <td>35</td>\n",
       "      <td>33</td>\n",
       "      <td>Male</td>\n",
       "      <td>162200</td>\n",
       "    </tr>\n",
       "    <tr>\n",
       "      <th>14</th>\n",
       "      <td>Prof</td>\n",
       "      <td>B</td>\n",
       "      <td>25</td>\n",
       "      <td>19</td>\n",
       "      <td>Male</td>\n",
       "      <td>153750</td>\n",
       "    </tr>\n",
       "    <tr>\n",
       "      <th>15</th>\n",
       "      <td>Prof</td>\n",
       "      <td>B</td>\n",
       "      <td>17</td>\n",
       "      <td>3</td>\n",
       "      <td>Male</td>\n",
       "      <td>150480</td>\n",
       "    </tr>\n",
       "    <tr>\n",
       "      <th>16</th>\n",
       "      <td>AsstProf</td>\n",
       "      <td>B</td>\n",
       "      <td>8</td>\n",
       "      <td>3</td>\n",
       "      <td>Male</td>\n",
       "      <td>75044</td>\n",
       "    </tr>\n",
       "    <tr>\n",
       "      <th>17</th>\n",
       "      <td>AsstProf</td>\n",
       "      <td>B</td>\n",
       "      <td>4</td>\n",
       "      <td>0</td>\n",
       "      <td>Male</td>\n",
       "      <td>92000</td>\n",
       "    </tr>\n",
       "    <tr>\n",
       "      <th>18</th>\n",
       "      <td>Prof</td>\n",
       "      <td>A</td>\n",
       "      <td>19</td>\n",
       "      <td>7</td>\n",
       "      <td>Male</td>\n",
       "      <td>107300</td>\n",
       "    </tr>\n",
       "    <tr>\n",
       "      <th>19</th>\n",
       "      <td>Prof</td>\n",
       "      <td>A</td>\n",
       "      <td>29</td>\n",
       "      <td>27</td>\n",
       "      <td>Male</td>\n",
       "      <td>150500</td>\n",
       "    </tr>\n",
       "    <tr>\n",
       "      <th>20</th>\n",
       "      <td>AsstProf</td>\n",
       "      <td>B</td>\n",
       "      <td>4</td>\n",
       "      <td>4</td>\n",
       "      <td>Male</td>\n",
       "      <td>92000</td>\n",
       "    </tr>\n",
       "    <tr>\n",
       "      <th>21</th>\n",
       "      <td>Prof</td>\n",
       "      <td>A</td>\n",
       "      <td>33</td>\n",
       "      <td>30</td>\n",
       "      <td>Male</td>\n",
       "      <td>103106</td>\n",
       "    </tr>\n",
       "    <tr>\n",
       "      <th>22</th>\n",
       "      <td>AsstProf</td>\n",
       "      <td>A</td>\n",
       "      <td>4</td>\n",
       "      <td>2</td>\n",
       "      <td>Male</td>\n",
       "      <td>73000</td>\n",
       "    </tr>\n",
       "    <tr>\n",
       "      <th>23</th>\n",
       "      <td>AsstProf</td>\n",
       "      <td>A</td>\n",
       "      <td>2</td>\n",
       "      <td>0</td>\n",
       "      <td>Male</td>\n",
       "      <td>85000</td>\n",
       "    </tr>\n",
       "    <tr>\n",
       "      <th>24</th>\n",
       "      <td>Prof</td>\n",
       "      <td>A</td>\n",
       "      <td>30</td>\n",
       "      <td>23</td>\n",
       "      <td>Male</td>\n",
       "      <td>91100</td>\n",
       "    </tr>\n",
       "    <tr>\n",
       "      <th>25</th>\n",
       "      <td>Prof</td>\n",
       "      <td>B</td>\n",
       "      <td>35</td>\n",
       "      <td>31</td>\n",
       "      <td>Male</td>\n",
       "      <td>99418</td>\n",
       "    </tr>\n",
       "    <tr>\n",
       "      <th>26</th>\n",
       "      <td>Prof</td>\n",
       "      <td>A</td>\n",
       "      <td>38</td>\n",
       "      <td>19</td>\n",
       "      <td>Male</td>\n",
       "      <td>148750</td>\n",
       "    </tr>\n",
       "    <tr>\n",
       "      <th>27</th>\n",
       "      <td>Prof</td>\n",
       "      <td>A</td>\n",
       "      <td>45</td>\n",
       "      <td>43</td>\n",
       "      <td>Male</td>\n",
       "      <td>155865</td>\n",
       "    </tr>\n",
       "    <tr>\n",
       "      <th>28</th>\n",
       "      <td>AsstProf</td>\n",
       "      <td>B</td>\n",
       "      <td>7</td>\n",
       "      <td>2</td>\n",
       "      <td>Male</td>\n",
       "      <td>91300</td>\n",
       "    </tr>\n",
       "    <tr>\n",
       "      <th>29</th>\n",
       "      <td>Prof</td>\n",
       "      <td>B</td>\n",
       "      <td>21</td>\n",
       "      <td>20</td>\n",
       "      <td>Male</td>\n",
       "      <td>123683</td>\n",
       "    </tr>\n",
       "    <tr>\n",
       "      <th>...</th>\n",
       "      <td>...</td>\n",
       "      <td>...</td>\n",
       "      <td>...</td>\n",
       "      <td>...</td>\n",
       "      <td>...</td>\n",
       "      <td>...</td>\n",
       "    </tr>\n",
       "    <tr>\n",
       "      <th>48</th>\n",
       "      <td>Prof</td>\n",
       "      <td>B</td>\n",
       "      <td>17</td>\n",
       "      <td>17</td>\n",
       "      <td>Female</td>\n",
       "      <td>111512</td>\n",
       "    </tr>\n",
       "    <tr>\n",
       "      <th>49</th>\n",
       "      <td>Prof</td>\n",
       "      <td>B</td>\n",
       "      <td>17</td>\n",
       "      <td>18</td>\n",
       "      <td>Female</td>\n",
       "      <td>122960</td>\n",
       "    </tr>\n",
       "    <tr>\n",
       "      <th>50</th>\n",
       "      <td>AsstProf</td>\n",
       "      <td>B</td>\n",
       "      <td>10</td>\n",
       "      <td>5</td>\n",
       "      <td>Female</td>\n",
       "      <td>97032</td>\n",
       "    </tr>\n",
       "    <tr>\n",
       "      <th>51</th>\n",
       "      <td>Prof</td>\n",
       "      <td>B</td>\n",
       "      <td>20</td>\n",
       "      <td>14</td>\n",
       "      <td>Female</td>\n",
       "      <td>127512</td>\n",
       "    </tr>\n",
       "    <tr>\n",
       "      <th>52</th>\n",
       "      <td>Prof</td>\n",
       "      <td>A</td>\n",
       "      <td>12</td>\n",
       "      <td>0</td>\n",
       "      <td>Female</td>\n",
       "      <td>105000</td>\n",
       "    </tr>\n",
       "    <tr>\n",
       "      <th>53</th>\n",
       "      <td>AsstProf</td>\n",
       "      <td>A</td>\n",
       "      <td>5</td>\n",
       "      <td>3</td>\n",
       "      <td>Female</td>\n",
       "      <td>73500</td>\n",
       "    </tr>\n",
       "    <tr>\n",
       "      <th>54</th>\n",
       "      <td>AssocProf</td>\n",
       "      <td>A</td>\n",
       "      <td>25</td>\n",
       "      <td>22</td>\n",
       "      <td>Female</td>\n",
       "      <td>62884</td>\n",
       "    </tr>\n",
       "    <tr>\n",
       "      <th>55</th>\n",
       "      <td>AsstProf</td>\n",
       "      <td>A</td>\n",
       "      <td>2</td>\n",
       "      <td>0</td>\n",
       "      <td>Female</td>\n",
       "      <td>72500</td>\n",
       "    </tr>\n",
       "    <tr>\n",
       "      <th>56</th>\n",
       "      <td>AssocProf</td>\n",
       "      <td>A</td>\n",
       "      <td>10</td>\n",
       "      <td>8</td>\n",
       "      <td>Female</td>\n",
       "      <td>77500</td>\n",
       "    </tr>\n",
       "    <tr>\n",
       "      <th>57</th>\n",
       "      <td>AsstProf</td>\n",
       "      <td>A</td>\n",
       "      <td>3</td>\n",
       "      <td>1</td>\n",
       "      <td>Female</td>\n",
       "      <td>72500</td>\n",
       "    </tr>\n",
       "    <tr>\n",
       "      <th>58</th>\n",
       "      <td>Prof</td>\n",
       "      <td>B</td>\n",
       "      <td>36</td>\n",
       "      <td>26</td>\n",
       "      <td>Female</td>\n",
       "      <td>144651</td>\n",
       "    </tr>\n",
       "    <tr>\n",
       "      <th>59</th>\n",
       "      <td>AssocProf</td>\n",
       "      <td>B</td>\n",
       "      <td>12</td>\n",
       "      <td>10</td>\n",
       "      <td>Female</td>\n",
       "      <td>103994</td>\n",
       "    </tr>\n",
       "    <tr>\n",
       "      <th>60</th>\n",
       "      <td>AsstProf</td>\n",
       "      <td>B</td>\n",
       "      <td>3</td>\n",
       "      <td>3</td>\n",
       "      <td>Female</td>\n",
       "      <td>92000</td>\n",
       "    </tr>\n",
       "    <tr>\n",
       "      <th>61</th>\n",
       "      <td>AssocProf</td>\n",
       "      <td>B</td>\n",
       "      <td>13</td>\n",
       "      <td>10</td>\n",
       "      <td>Female</td>\n",
       "      <td>103750</td>\n",
       "    </tr>\n",
       "    <tr>\n",
       "      <th>62</th>\n",
       "      <td>AssocProf</td>\n",
       "      <td>B</td>\n",
       "      <td>14</td>\n",
       "      <td>7</td>\n",
       "      <td>Female</td>\n",
       "      <td>109650</td>\n",
       "    </tr>\n",
       "    <tr>\n",
       "      <th>63</th>\n",
       "      <td>Prof</td>\n",
       "      <td>A</td>\n",
       "      <td>29</td>\n",
       "      <td>27</td>\n",
       "      <td>Female</td>\n",
       "      <td>91000</td>\n",
       "    </tr>\n",
       "    <tr>\n",
       "      <th>64</th>\n",
       "      <td>AssocProf</td>\n",
       "      <td>A</td>\n",
       "      <td>26</td>\n",
       "      <td>24</td>\n",
       "      <td>Female</td>\n",
       "      <td>73300</td>\n",
       "    </tr>\n",
       "    <tr>\n",
       "      <th>65</th>\n",
       "      <td>Prof</td>\n",
       "      <td>A</td>\n",
       "      <td>36</td>\n",
       "      <td>19</td>\n",
       "      <td>Female</td>\n",
       "      <td>117555</td>\n",
       "    </tr>\n",
       "    <tr>\n",
       "      <th>66</th>\n",
       "      <td>AsstProf</td>\n",
       "      <td>A</td>\n",
       "      <td>7</td>\n",
       "      <td>6</td>\n",
       "      <td>Female</td>\n",
       "      <td>63100</td>\n",
       "    </tr>\n",
       "    <tr>\n",
       "      <th>67</th>\n",
       "      <td>Prof</td>\n",
       "      <td>A</td>\n",
       "      <td>17</td>\n",
       "      <td>11</td>\n",
       "      <td>Female</td>\n",
       "      <td>90450</td>\n",
       "    </tr>\n",
       "    <tr>\n",
       "      <th>68</th>\n",
       "      <td>AsstProf</td>\n",
       "      <td>A</td>\n",
       "      <td>4</td>\n",
       "      <td>2</td>\n",
       "      <td>Female</td>\n",
       "      <td>77500</td>\n",
       "    </tr>\n",
       "    <tr>\n",
       "      <th>69</th>\n",
       "      <td>Prof</td>\n",
       "      <td>A</td>\n",
       "      <td>28</td>\n",
       "      <td>7</td>\n",
       "      <td>Female</td>\n",
       "      <td>116450</td>\n",
       "    </tr>\n",
       "    <tr>\n",
       "      <th>70</th>\n",
       "      <td>AsstProf</td>\n",
       "      <td>A</td>\n",
       "      <td>8</td>\n",
       "      <td>3</td>\n",
       "      <td>Female</td>\n",
       "      <td>78500</td>\n",
       "    </tr>\n",
       "    <tr>\n",
       "      <th>71</th>\n",
       "      <td>AssocProf</td>\n",
       "      <td>B</td>\n",
       "      <td>12</td>\n",
       "      <td>9</td>\n",
       "      <td>Female</td>\n",
       "      <td>71065</td>\n",
       "    </tr>\n",
       "    <tr>\n",
       "      <th>72</th>\n",
       "      <td>Prof</td>\n",
       "      <td>B</td>\n",
       "      <td>24</td>\n",
       "      <td>15</td>\n",
       "      <td>Female</td>\n",
       "      <td>161101</td>\n",
       "    </tr>\n",
       "    <tr>\n",
       "      <th>73</th>\n",
       "      <td>Prof</td>\n",
       "      <td>B</td>\n",
       "      <td>18</td>\n",
       "      <td>10</td>\n",
       "      <td>Female</td>\n",
       "      <td>105450</td>\n",
       "    </tr>\n",
       "    <tr>\n",
       "      <th>74</th>\n",
       "      <td>AssocProf</td>\n",
       "      <td>B</td>\n",
       "      <td>19</td>\n",
       "      <td>6</td>\n",
       "      <td>Female</td>\n",
       "      <td>104542</td>\n",
       "    </tr>\n",
       "    <tr>\n",
       "      <th>75</th>\n",
       "      <td>Prof</td>\n",
       "      <td>B</td>\n",
       "      <td>17</td>\n",
       "      <td>17</td>\n",
       "      <td>Female</td>\n",
       "      <td>124312</td>\n",
       "    </tr>\n",
       "    <tr>\n",
       "      <th>76</th>\n",
       "      <td>Prof</td>\n",
       "      <td>A</td>\n",
       "      <td>28</td>\n",
       "      <td>14</td>\n",
       "      <td>Female</td>\n",
       "      <td>109954</td>\n",
       "    </tr>\n",
       "    <tr>\n",
       "      <th>77</th>\n",
       "      <td>Prof</td>\n",
       "      <td>A</td>\n",
       "      <td>23</td>\n",
       "      <td>15</td>\n",
       "      <td>Female</td>\n",
       "      <td>109646</td>\n",
       "    </tr>\n",
       "  </tbody>\n",
       "</table>\n",
       "<p>78 rows × 6 columns</p>\n",
       "</div>"
      ],
      "text/plain": [
       "         rank discipline  phd  service     sex  salary\n",
       "0        Prof          B   56       49    Male  186960\n",
       "1        Prof          A   12        6    Male   93000\n",
       "2        Prof          A   23       20    Male  110515\n",
       "3        Prof          A   40       31    Male  131205\n",
       "4        Prof          B   20       18    Male  104800\n",
       "5        Prof          A   20       20    Male  122400\n",
       "6   AssocProf          A   20       17    Male   81285\n",
       "7        Prof          A   18       18    Male  126300\n",
       "8        Prof          A   29       19    Male   94350\n",
       "9        Prof          A   51       51    Male   57800\n",
       "10       Prof          B   39       33    Male  128250\n",
       "11       Prof          B   23       23    Male  134778\n",
       "12   AsstProf          B    1        0    Male   88000\n",
       "13       Prof          B   35       33    Male  162200\n",
       "14       Prof          B   25       19    Male  153750\n",
       "15       Prof          B   17        3    Male  150480\n",
       "16   AsstProf          B    8        3    Male   75044\n",
       "17   AsstProf          B    4        0    Male   92000\n",
       "18       Prof          A   19        7    Male  107300\n",
       "19       Prof          A   29       27    Male  150500\n",
       "20   AsstProf          B    4        4    Male   92000\n",
       "21       Prof          A   33       30    Male  103106\n",
       "22   AsstProf          A    4        2    Male   73000\n",
       "23   AsstProf          A    2        0    Male   85000\n",
       "24       Prof          A   30       23    Male   91100\n",
       "25       Prof          B   35       31    Male   99418\n",
       "26       Prof          A   38       19    Male  148750\n",
       "27       Prof          A   45       43    Male  155865\n",
       "28   AsstProf          B    7        2    Male   91300\n",
       "29       Prof          B   21       20    Male  123683\n",
       "..        ...        ...  ...      ...     ...     ...\n",
       "48       Prof          B   17       17  Female  111512\n",
       "49       Prof          B   17       18  Female  122960\n",
       "50   AsstProf          B   10        5  Female   97032\n",
       "51       Prof          B   20       14  Female  127512\n",
       "52       Prof          A   12        0  Female  105000\n",
       "53   AsstProf          A    5        3  Female   73500\n",
       "54  AssocProf          A   25       22  Female   62884\n",
       "55   AsstProf          A    2        0  Female   72500\n",
       "56  AssocProf          A   10        8  Female   77500\n",
       "57   AsstProf          A    3        1  Female   72500\n",
       "58       Prof          B   36       26  Female  144651\n",
       "59  AssocProf          B   12       10  Female  103994\n",
       "60   AsstProf          B    3        3  Female   92000\n",
       "61  AssocProf          B   13       10  Female  103750\n",
       "62  AssocProf          B   14        7  Female  109650\n",
       "63       Prof          A   29       27  Female   91000\n",
       "64  AssocProf          A   26       24  Female   73300\n",
       "65       Prof          A   36       19  Female  117555\n",
       "66   AsstProf          A    7        6  Female   63100\n",
       "67       Prof          A   17       11  Female   90450\n",
       "68   AsstProf          A    4        2  Female   77500\n",
       "69       Prof          A   28        7  Female  116450\n",
       "70   AsstProf          A    8        3  Female   78500\n",
       "71  AssocProf          B   12        9  Female   71065\n",
       "72       Prof          B   24       15  Female  161101\n",
       "73       Prof          B   18       10  Female  105450\n",
       "74  AssocProf          B   19        6  Female  104542\n",
       "75       Prof          B   17       17  Female  124312\n",
       "76       Prof          A   28       14  Female  109954\n",
       "77       Prof          A   23       15  Female  109646\n",
       "\n",
       "[78 rows x 6 columns]"
      ]
     },
     "execution_count": 46,
     "metadata": {},
     "output_type": "execute_result"
    }
   ],
   "source": [
    "#Read csv file\n",
    "df = pd.read_csv(\"http://rcs.bu.edu/examples/python/data_analysis/Salaries.csv\")\n",
    "df"
   ]
  },
  {
   "cell_type": "code",
   "execution_count": 47,
   "metadata": {},
   "outputs": [
    {
     "data": {
      "text/html": [
       "<div>\n",
       "<style scoped>\n",
       "    .dataframe tbody tr th:only-of-type {\n",
       "        vertical-align: middle;\n",
       "    }\n",
       "\n",
       "    .dataframe tbody tr th {\n",
       "        vertical-align: top;\n",
       "    }\n",
       "\n",
       "    .dataframe thead th {\n",
       "        text-align: right;\n",
       "    }\n",
       "</style>\n",
       "<table border=\"1\" class=\"dataframe\">\n",
       "  <thead>\n",
       "    <tr style=\"text-align: right;\">\n",
       "      <th></th>\n",
       "      <th>rank</th>\n",
       "      <th>discipline</th>\n",
       "      <th>phd</th>\n",
       "      <th>service</th>\n",
       "      <th>sex</th>\n",
       "      <th>salary</th>\n",
       "    </tr>\n",
       "  </thead>\n",
       "  <tbody>\n",
       "    <tr>\n",
       "      <th>0</th>\n",
       "      <td>Prof</td>\n",
       "      <td>B</td>\n",
       "      <td>56</td>\n",
       "      <td>49</td>\n",
       "      <td>Male</td>\n",
       "      <td>186960</td>\n",
       "    </tr>\n",
       "    <tr>\n",
       "      <th>1</th>\n",
       "      <td>Prof</td>\n",
       "      <td>A</td>\n",
       "      <td>12</td>\n",
       "      <td>6</td>\n",
       "      <td>Male</td>\n",
       "      <td>93000</td>\n",
       "    </tr>\n",
       "    <tr>\n",
       "      <th>2</th>\n",
       "      <td>Prof</td>\n",
       "      <td>A</td>\n",
       "      <td>23</td>\n",
       "      <td>20</td>\n",
       "      <td>Male</td>\n",
       "      <td>110515</td>\n",
       "    </tr>\n",
       "    <tr>\n",
       "      <th>3</th>\n",
       "      <td>Prof</td>\n",
       "      <td>A</td>\n",
       "      <td>40</td>\n",
       "      <td>31</td>\n",
       "      <td>Male</td>\n",
       "      <td>131205</td>\n",
       "    </tr>\n",
       "    <tr>\n",
       "      <th>4</th>\n",
       "      <td>Prof</td>\n",
       "      <td>B</td>\n",
       "      <td>20</td>\n",
       "      <td>18</td>\n",
       "      <td>Male</td>\n",
       "      <td>104800</td>\n",
       "    </tr>\n",
       "    <tr>\n",
       "      <th>5</th>\n",
       "      <td>Prof</td>\n",
       "      <td>A</td>\n",
       "      <td>20</td>\n",
       "      <td>20</td>\n",
       "      <td>Male</td>\n",
       "      <td>122400</td>\n",
       "    </tr>\n",
       "    <tr>\n",
       "      <th>6</th>\n",
       "      <td>AssocProf</td>\n",
       "      <td>A</td>\n",
       "      <td>20</td>\n",
       "      <td>17</td>\n",
       "      <td>Male</td>\n",
       "      <td>81285</td>\n",
       "    </tr>\n",
       "    <tr>\n",
       "      <th>7</th>\n",
       "      <td>Prof</td>\n",
       "      <td>A</td>\n",
       "      <td>18</td>\n",
       "      <td>18</td>\n",
       "      <td>Male</td>\n",
       "      <td>126300</td>\n",
       "    </tr>\n",
       "    <tr>\n",
       "      <th>8</th>\n",
       "      <td>Prof</td>\n",
       "      <td>A</td>\n",
       "      <td>29</td>\n",
       "      <td>19</td>\n",
       "      <td>Male</td>\n",
       "      <td>94350</td>\n",
       "    </tr>\n",
       "    <tr>\n",
       "      <th>9</th>\n",
       "      <td>Prof</td>\n",
       "      <td>A</td>\n",
       "      <td>51</td>\n",
       "      <td>51</td>\n",
       "      <td>Male</td>\n",
       "      <td>57800</td>\n",
       "    </tr>\n",
       "  </tbody>\n",
       "</table>\n",
       "</div>"
      ],
      "text/plain": [
       "        rank discipline  phd  service   sex  salary\n",
       "0       Prof          B   56       49  Male  186960\n",
       "1       Prof          A   12        6  Male   93000\n",
       "2       Prof          A   23       20  Male  110515\n",
       "3       Prof          A   40       31  Male  131205\n",
       "4       Prof          B   20       18  Male  104800\n",
       "5       Prof          A   20       20  Male  122400\n",
       "6  AssocProf          A   20       17  Male   81285\n",
       "7       Prof          A   18       18  Male  126300\n",
       "8       Prof          A   29       19  Male   94350\n",
       "9       Prof          A   51       51  Male   57800"
      ]
     },
     "execution_count": 47,
     "metadata": {},
     "output_type": "execute_result"
    }
   ],
   "source": [
    "#Display a few first records\n",
    "df.head(10)"
   ]
  },
  {
   "cell_type": "markdown",
   "metadata": {},
   "source": [
    "---\n",
    "*Excersize*"
   ]
  },
  {
   "cell_type": "code",
   "execution_count": 48,
   "metadata": {},
   "outputs": [
    {
     "data": {
      "text/html": [
       "<div>\n",
       "<style scoped>\n",
       "    .dataframe tbody tr th:only-of-type {\n",
       "        vertical-align: middle;\n",
       "    }\n",
       "\n",
       "    .dataframe tbody tr th {\n",
       "        vertical-align: top;\n",
       "    }\n",
       "\n",
       "    .dataframe thead th {\n",
       "        text-align: right;\n",
       "    }\n",
       "</style>\n",
       "<table border=\"1\" class=\"dataframe\">\n",
       "  <thead>\n",
       "    <tr style=\"text-align: right;\">\n",
       "      <th></th>\n",
       "      <th>rank</th>\n",
       "      <th>discipline</th>\n",
       "      <th>phd</th>\n",
       "      <th>service</th>\n",
       "      <th>sex</th>\n",
       "      <th>salary</th>\n",
       "    </tr>\n",
       "  </thead>\n",
       "  <tbody>\n",
       "    <tr>\n",
       "      <th>0</th>\n",
       "      <td>Prof</td>\n",
       "      <td>B</td>\n",
       "      <td>56</td>\n",
       "      <td>49</td>\n",
       "      <td>Male</td>\n",
       "      <td>186960</td>\n",
       "    </tr>\n",
       "    <tr>\n",
       "      <th>1</th>\n",
       "      <td>Prof</td>\n",
       "      <td>A</td>\n",
       "      <td>12</td>\n",
       "      <td>6</td>\n",
       "      <td>Male</td>\n",
       "      <td>93000</td>\n",
       "    </tr>\n",
       "    <tr>\n",
       "      <th>2</th>\n",
       "      <td>Prof</td>\n",
       "      <td>A</td>\n",
       "      <td>23</td>\n",
       "      <td>20</td>\n",
       "      <td>Male</td>\n",
       "      <td>110515</td>\n",
       "    </tr>\n",
       "    <tr>\n",
       "      <th>3</th>\n",
       "      <td>Prof</td>\n",
       "      <td>A</td>\n",
       "      <td>40</td>\n",
       "      <td>31</td>\n",
       "      <td>Male</td>\n",
       "      <td>131205</td>\n",
       "    </tr>\n",
       "    <tr>\n",
       "      <th>4</th>\n",
       "      <td>Prof</td>\n",
       "      <td>B</td>\n",
       "      <td>20</td>\n",
       "      <td>18</td>\n",
       "      <td>Male</td>\n",
       "      <td>104800</td>\n",
       "    </tr>\n",
       "    <tr>\n",
       "      <th>5</th>\n",
       "      <td>Prof</td>\n",
       "      <td>A</td>\n",
       "      <td>20</td>\n",
       "      <td>20</td>\n",
       "      <td>Male</td>\n",
       "      <td>122400</td>\n",
       "    </tr>\n",
       "    <tr>\n",
       "      <th>6</th>\n",
       "      <td>AssocProf</td>\n",
       "      <td>A</td>\n",
       "      <td>20</td>\n",
       "      <td>17</td>\n",
       "      <td>Male</td>\n",
       "      <td>81285</td>\n",
       "    </tr>\n",
       "    <tr>\n",
       "      <th>7</th>\n",
       "      <td>Prof</td>\n",
       "      <td>A</td>\n",
       "      <td>18</td>\n",
       "      <td>18</td>\n",
       "      <td>Male</td>\n",
       "      <td>126300</td>\n",
       "    </tr>\n",
       "    <tr>\n",
       "      <th>8</th>\n",
       "      <td>Prof</td>\n",
       "      <td>A</td>\n",
       "      <td>29</td>\n",
       "      <td>19</td>\n",
       "      <td>Male</td>\n",
       "      <td>94350</td>\n",
       "    </tr>\n",
       "    <tr>\n",
       "      <th>9</th>\n",
       "      <td>Prof</td>\n",
       "      <td>A</td>\n",
       "      <td>51</td>\n",
       "      <td>51</td>\n",
       "      <td>Male</td>\n",
       "      <td>57800</td>\n",
       "    </tr>\n",
       "  </tbody>\n",
       "</table>\n",
       "</div>"
      ],
      "text/plain": [
       "        rank discipline  phd  service   sex  salary\n",
       "0       Prof          B   56       49  Male  186960\n",
       "1       Prof          A   12        6  Male   93000\n",
       "2       Prof          A   23       20  Male  110515\n",
       "3       Prof          A   40       31  Male  131205\n",
       "4       Prof          B   20       18  Male  104800\n",
       "5       Prof          A   20       20  Male  122400\n",
       "6  AssocProf          A   20       17  Male   81285\n",
       "7       Prof          A   18       18  Male  126300\n",
       "8       Prof          A   29       19  Male   94350\n",
       "9       Prof          A   51       51  Male   57800"
      ]
     },
     "execution_count": 48,
     "metadata": {},
     "output_type": "execute_result"
    }
   ],
   "source": [
    "#Display first 10 records\n",
    "df.head(10)"
   ]
  },
  {
   "cell_type": "code",
   "execution_count": 49,
   "metadata": {},
   "outputs": [
    {
     "data": {
      "text/html": [
       "<div>\n",
       "<style scoped>\n",
       "    .dataframe tbody tr th:only-of-type {\n",
       "        vertical-align: middle;\n",
       "    }\n",
       "\n",
       "    .dataframe tbody tr th {\n",
       "        vertical-align: top;\n",
       "    }\n",
       "\n",
       "    .dataframe thead th {\n",
       "        text-align: right;\n",
       "    }\n",
       "</style>\n",
       "<table border=\"1\" class=\"dataframe\">\n",
       "  <thead>\n",
       "    <tr style=\"text-align: right;\">\n",
       "      <th></th>\n",
       "      <th>rank</th>\n",
       "      <th>discipline</th>\n",
       "      <th>phd</th>\n",
       "      <th>service</th>\n",
       "      <th>sex</th>\n",
       "      <th>salary</th>\n",
       "    </tr>\n",
       "  </thead>\n",
       "  <tbody>\n",
       "    <tr>\n",
       "      <th>0</th>\n",
       "      <td>Prof</td>\n",
       "      <td>B</td>\n",
       "      <td>56</td>\n",
       "      <td>49</td>\n",
       "      <td>Male</td>\n",
       "      <td>186960</td>\n",
       "    </tr>\n",
       "    <tr>\n",
       "      <th>1</th>\n",
       "      <td>Prof</td>\n",
       "      <td>A</td>\n",
       "      <td>12</td>\n",
       "      <td>6</td>\n",
       "      <td>Male</td>\n",
       "      <td>93000</td>\n",
       "    </tr>\n",
       "    <tr>\n",
       "      <th>2</th>\n",
       "      <td>Prof</td>\n",
       "      <td>A</td>\n",
       "      <td>23</td>\n",
       "      <td>20</td>\n",
       "      <td>Male</td>\n",
       "      <td>110515</td>\n",
       "    </tr>\n",
       "    <tr>\n",
       "      <th>3</th>\n",
       "      <td>Prof</td>\n",
       "      <td>A</td>\n",
       "      <td>40</td>\n",
       "      <td>31</td>\n",
       "      <td>Male</td>\n",
       "      <td>131205</td>\n",
       "    </tr>\n",
       "    <tr>\n",
       "      <th>4</th>\n",
       "      <td>Prof</td>\n",
       "      <td>B</td>\n",
       "      <td>20</td>\n",
       "      <td>18</td>\n",
       "      <td>Male</td>\n",
       "      <td>104800</td>\n",
       "    </tr>\n",
       "    <tr>\n",
       "      <th>5</th>\n",
       "      <td>Prof</td>\n",
       "      <td>A</td>\n",
       "      <td>20</td>\n",
       "      <td>20</td>\n",
       "      <td>Male</td>\n",
       "      <td>122400</td>\n",
       "    </tr>\n",
       "    <tr>\n",
       "      <th>6</th>\n",
       "      <td>AssocProf</td>\n",
       "      <td>A</td>\n",
       "      <td>20</td>\n",
       "      <td>17</td>\n",
       "      <td>Male</td>\n",
       "      <td>81285</td>\n",
       "    </tr>\n",
       "    <tr>\n",
       "      <th>7</th>\n",
       "      <td>Prof</td>\n",
       "      <td>A</td>\n",
       "      <td>18</td>\n",
       "      <td>18</td>\n",
       "      <td>Male</td>\n",
       "      <td>126300</td>\n",
       "    </tr>\n",
       "    <tr>\n",
       "      <th>8</th>\n",
       "      <td>Prof</td>\n",
       "      <td>A</td>\n",
       "      <td>29</td>\n",
       "      <td>19</td>\n",
       "      <td>Male</td>\n",
       "      <td>94350</td>\n",
       "    </tr>\n",
       "    <tr>\n",
       "      <th>9</th>\n",
       "      <td>Prof</td>\n",
       "      <td>A</td>\n",
       "      <td>51</td>\n",
       "      <td>51</td>\n",
       "      <td>Male</td>\n",
       "      <td>57800</td>\n",
       "    </tr>\n",
       "    <tr>\n",
       "      <th>10</th>\n",
       "      <td>Prof</td>\n",
       "      <td>B</td>\n",
       "      <td>39</td>\n",
       "      <td>33</td>\n",
       "      <td>Male</td>\n",
       "      <td>128250</td>\n",
       "    </tr>\n",
       "    <tr>\n",
       "      <th>11</th>\n",
       "      <td>Prof</td>\n",
       "      <td>B</td>\n",
       "      <td>23</td>\n",
       "      <td>23</td>\n",
       "      <td>Male</td>\n",
       "      <td>134778</td>\n",
       "    </tr>\n",
       "    <tr>\n",
       "      <th>12</th>\n",
       "      <td>AsstProf</td>\n",
       "      <td>B</td>\n",
       "      <td>1</td>\n",
       "      <td>0</td>\n",
       "      <td>Male</td>\n",
       "      <td>88000</td>\n",
       "    </tr>\n",
       "    <tr>\n",
       "      <th>13</th>\n",
       "      <td>Prof</td>\n",
       "      <td>B</td>\n",
       "      <td>35</td>\n",
       "      <td>33</td>\n",
       "      <td>Male</td>\n",
       "      <td>162200</td>\n",
       "    </tr>\n",
       "    <tr>\n",
       "      <th>14</th>\n",
       "      <td>Prof</td>\n",
       "      <td>B</td>\n",
       "      <td>25</td>\n",
       "      <td>19</td>\n",
       "      <td>Male</td>\n",
       "      <td>153750</td>\n",
       "    </tr>\n",
       "    <tr>\n",
       "      <th>15</th>\n",
       "      <td>Prof</td>\n",
       "      <td>B</td>\n",
       "      <td>17</td>\n",
       "      <td>3</td>\n",
       "      <td>Male</td>\n",
       "      <td>150480</td>\n",
       "    </tr>\n",
       "    <tr>\n",
       "      <th>16</th>\n",
       "      <td>AsstProf</td>\n",
       "      <td>B</td>\n",
       "      <td>8</td>\n",
       "      <td>3</td>\n",
       "      <td>Male</td>\n",
       "      <td>75044</td>\n",
       "    </tr>\n",
       "    <tr>\n",
       "      <th>17</th>\n",
       "      <td>AsstProf</td>\n",
       "      <td>B</td>\n",
       "      <td>4</td>\n",
       "      <td>0</td>\n",
       "      <td>Male</td>\n",
       "      <td>92000</td>\n",
       "    </tr>\n",
       "    <tr>\n",
       "      <th>18</th>\n",
       "      <td>Prof</td>\n",
       "      <td>A</td>\n",
       "      <td>19</td>\n",
       "      <td>7</td>\n",
       "      <td>Male</td>\n",
       "      <td>107300</td>\n",
       "    </tr>\n",
       "    <tr>\n",
       "      <th>19</th>\n",
       "      <td>Prof</td>\n",
       "      <td>A</td>\n",
       "      <td>29</td>\n",
       "      <td>27</td>\n",
       "      <td>Male</td>\n",
       "      <td>150500</td>\n",
       "    </tr>\n",
       "  </tbody>\n",
       "</table>\n",
       "</div>"
      ],
      "text/plain": [
       "         rank discipline  phd  service   sex  salary\n",
       "0        Prof          B   56       49  Male  186960\n",
       "1        Prof          A   12        6  Male   93000\n",
       "2        Prof          A   23       20  Male  110515\n",
       "3        Prof          A   40       31  Male  131205\n",
       "4        Prof          B   20       18  Male  104800\n",
       "5        Prof          A   20       20  Male  122400\n",
       "6   AssocProf          A   20       17  Male   81285\n",
       "7        Prof          A   18       18  Male  126300\n",
       "8        Prof          A   29       19  Male   94350\n",
       "9        Prof          A   51       51  Male   57800\n",
       "10       Prof          B   39       33  Male  128250\n",
       "11       Prof          B   23       23  Male  134778\n",
       "12   AsstProf          B    1        0  Male   88000\n",
       "13       Prof          B   35       33  Male  162200\n",
       "14       Prof          B   25       19  Male  153750\n",
       "15       Prof          B   17        3  Male  150480\n",
       "16   AsstProf          B    8        3  Male   75044\n",
       "17   AsstProf          B    4        0  Male   92000\n",
       "18       Prof          A   19        7  Male  107300\n",
       "19       Prof          A   29       27  Male  150500"
      ]
     },
     "execution_count": 49,
     "metadata": {},
     "output_type": "execute_result"
    }
   ],
   "source": [
    "#Display first 20 records\n",
    "df.head(20)"
   ]
  },
  {
   "cell_type": "code",
   "execution_count": null,
   "metadata": {},
   "outputs": [],
   "source": [
    "#Display the last 5 records\n",
    "# <your code goes here>\n",
    "df.tail(7)"
   ]
  },
  {
   "cell_type": "markdown",
   "metadata": {},
   "source": [
    "---"
   ]
  },
  {
   "cell_type": "code",
   "execution_count": 50,
   "metadata": {},
   "outputs": [
    {
     "data": {
      "text/plain": [
       "pandas.core.frame.DataFrame"
      ]
     },
     "execution_count": 50,
     "metadata": {},
     "output_type": "execute_result"
    }
   ],
   "source": [
    "#Identify the type of df object\n",
    "type(df)"
   ]
  },
  {
   "cell_type": "code",
   "execution_count": 51,
   "metadata": {},
   "outputs": [
    {
     "data": {
      "text/plain": [
       "dtype('int64')"
      ]
     },
     "execution_count": 51,
     "metadata": {},
     "output_type": "execute_result"
    }
   ],
   "source": [
    "#Check the type of a column \"salary\"\n",
    "df['salary'].dtype"
   ]
  },
  {
   "cell_type": "code",
   "execution_count": 52,
   "metadata": {},
   "outputs": [
    {
     "data": {
      "text/plain": [
       "rank          object\n",
       "discipline    object\n",
       "phd            int64\n",
       "service        int64\n",
       "sex           object\n",
       "salary         int64\n",
       "dtype: object"
      ]
     },
     "execution_count": 52,
     "metadata": {},
     "output_type": "execute_result"
    }
   ],
   "source": [
    "#List the types of all columns\n",
    "df.dtypes"
   ]
  },
  {
   "cell_type": "code",
   "execution_count": 53,
   "metadata": {},
   "outputs": [
    {
     "data": {
      "text/plain": [
       "Index(['rank', 'discipline', 'phd', 'service', 'sex', 'salary'], dtype='object')"
      ]
     },
     "execution_count": 53,
     "metadata": {},
     "output_type": "execute_result"
    }
   ],
   "source": [
    "#List the column names\n",
    "df.columns"
   ]
  },
  {
   "cell_type": "code",
   "execution_count": 54,
   "metadata": {},
   "outputs": [
    {
     "data": {
      "text/plain": [
       "[RangeIndex(start=0, stop=78, step=1),\n",
       " Index(['rank', 'discipline', 'phd', 'service', 'sex', 'salary'], dtype='object')]"
      ]
     },
     "execution_count": 54,
     "metadata": {},
     "output_type": "execute_result"
    }
   ],
   "source": [
    "#List the row labels and the column names\n",
    "df.axes"
   ]
  },
  {
   "cell_type": "code",
   "execution_count": 55,
   "metadata": {},
   "outputs": [
    {
     "data": {
      "text/plain": [
       "2"
      ]
     },
     "execution_count": 55,
     "metadata": {},
     "output_type": "execute_result"
    }
   ],
   "source": [
    "#Number of dimensions\n",
    "df.ndim"
   ]
  },
  {
   "cell_type": "code",
   "execution_count": 56,
   "metadata": {},
   "outputs": [
    {
     "data": {
      "text/plain": [
       "468"
      ]
     },
     "execution_count": 56,
     "metadata": {},
     "output_type": "execute_result"
    }
   ],
   "source": [
    "#Total number of elements in the Data Frame\n",
    "df.size"
   ]
  },
  {
   "cell_type": "code",
   "execution_count": 57,
   "metadata": {},
   "outputs": [
    {
     "data": {
      "text/plain": [
       "(78, 6)"
      ]
     },
     "execution_count": 57,
     "metadata": {},
     "output_type": "execute_result"
    }
   ],
   "source": [
    "#Number of rows and columns\n",
    "df.shape"
   ]
  },
  {
   "cell_type": "code",
   "execution_count": 58,
   "metadata": {},
   "outputs": [
    {
     "data": {
      "text/html": [
       "<div>\n",
       "<style scoped>\n",
       "    .dataframe tbody tr th:only-of-type {\n",
       "        vertical-align: middle;\n",
       "    }\n",
       "\n",
       "    .dataframe tbody tr th {\n",
       "        vertical-align: top;\n",
       "    }\n",
       "\n",
       "    .dataframe thead th {\n",
       "        text-align: right;\n",
       "    }\n",
       "</style>\n",
       "<table border=\"1\" class=\"dataframe\">\n",
       "  <thead>\n",
       "    <tr style=\"text-align: right;\">\n",
       "      <th></th>\n",
       "      <th>phd</th>\n",
       "      <th>service</th>\n",
       "      <th>salary</th>\n",
       "    </tr>\n",
       "  </thead>\n",
       "  <tbody>\n",
       "    <tr>\n",
       "      <th>count</th>\n",
       "      <td>78.000000</td>\n",
       "      <td>78.000000</td>\n",
       "      <td>78.000000</td>\n",
       "    </tr>\n",
       "    <tr>\n",
       "      <th>mean</th>\n",
       "      <td>19.705128</td>\n",
       "      <td>15.051282</td>\n",
       "      <td>108023.782051</td>\n",
       "    </tr>\n",
       "    <tr>\n",
       "      <th>std</th>\n",
       "      <td>12.498425</td>\n",
       "      <td>12.139768</td>\n",
       "      <td>28293.661022</td>\n",
       "    </tr>\n",
       "    <tr>\n",
       "      <th>min</th>\n",
       "      <td>1.000000</td>\n",
       "      <td>0.000000</td>\n",
       "      <td>57800.000000</td>\n",
       "    </tr>\n",
       "    <tr>\n",
       "      <th>25%</th>\n",
       "      <td>10.250000</td>\n",
       "      <td>5.250000</td>\n",
       "      <td>88612.500000</td>\n",
       "    </tr>\n",
       "    <tr>\n",
       "      <th>50%</th>\n",
       "      <td>18.500000</td>\n",
       "      <td>14.500000</td>\n",
       "      <td>104671.000000</td>\n",
       "    </tr>\n",
       "    <tr>\n",
       "      <th>75%</th>\n",
       "      <td>27.750000</td>\n",
       "      <td>20.750000</td>\n",
       "      <td>126774.750000</td>\n",
       "    </tr>\n",
       "    <tr>\n",
       "      <th>max</th>\n",
       "      <td>56.000000</td>\n",
       "      <td>51.000000</td>\n",
       "      <td>186960.000000</td>\n",
       "    </tr>\n",
       "  </tbody>\n",
       "</table>\n",
       "</div>"
      ],
      "text/plain": [
       "             phd    service         salary\n",
       "count  78.000000  78.000000      78.000000\n",
       "mean   19.705128  15.051282  108023.782051\n",
       "std    12.498425  12.139768   28293.661022\n",
       "min     1.000000   0.000000   57800.000000\n",
       "25%    10.250000   5.250000   88612.500000\n",
       "50%    18.500000  14.500000  104671.000000\n",
       "75%    27.750000  20.750000  126774.750000\n",
       "max    56.000000  51.000000  186960.000000"
      ]
     },
     "execution_count": 58,
     "metadata": {},
     "output_type": "execute_result"
    }
   ],
   "source": [
    "#Output basic statistics for the numeric columns\n",
    "df.describe()"
   ]
  },
  {
   "cell_type": "code",
   "execution_count": 59,
   "metadata": {},
   "outputs": [
    {
     "data": {
      "text/plain": [
       "phd            19.705128\n",
       "service        15.051282\n",
       "salary     108023.782051\n",
       "dtype: float64"
      ]
     },
     "execution_count": 59,
     "metadata": {},
     "output_type": "execute_result"
    }
   ],
   "source": [
    "#Calculate mean for all numeric columns\n",
    "df.mean()"
   ]
  },
  {
   "cell_type": "markdown",
   "metadata": {},
   "source": [
    "---\n",
    "*Excersize*"
   ]
  },
  {
   "cell_type": "code",
   "execution_count": 60,
   "metadata": {},
   "outputs": [
    {
     "data": {
      "text/plain": [
       "phd           12.498425\n",
       "service       12.139768\n",
       "salary     28293.661022\n",
       "dtype: float64"
      ]
     },
     "execution_count": 60,
     "metadata": {},
     "output_type": "execute_result"
    }
   ],
   "source": [
    "#Calculate the standard deviation (std() method) for all numeric columns\n",
    "# <your code goes here>\n",
    "df.std()"
   ]
  },
  {
   "cell_type": "code",
   "execution_count": 65,
   "metadata": {},
   "outputs": [
    {
     "data": {
      "text/plain": [
       "phd            21.52\n",
       "service        17.60\n",
       "salary     113789.14\n",
       "dtype: float64"
      ]
     },
     "execution_count": 65,
     "metadata": {},
     "output_type": "execute_result"
    }
   ],
   "source": [
    "#Calculate average of the columns in the first 50 rows\n",
    "df.head(50).mean()"
   ]
  },
  {
   "cell_type": "markdown",
   "metadata": {
    "collapsed": true
   },
   "source": [
    "---\n",
    "### Data slicing and grouping"
   ]
  },
  {
   "cell_type": "code",
   "execution_count": 66,
   "metadata": {},
   "outputs": [
    {
     "data": {
      "text/plain": [
       "0    Male\n",
       "1    Male\n",
       "2    Male\n",
       "3    Male\n",
       "4    Male\n",
       "Name: sex, dtype: object"
      ]
     },
     "execution_count": 66,
     "metadata": {},
     "output_type": "execute_result"
    }
   ],
   "source": [
    "#Extract a column by name (method 1)\n",
    "df['sex'].head()"
   ]
  },
  {
   "cell_type": "code",
   "execution_count": 67,
   "metadata": {},
   "outputs": [
    {
     "data": {
      "text/plain": [
       "Index(['rank', 'discipline', 'phd', 'service', 'sex', 'salary'], dtype='object')"
      ]
     },
     "execution_count": 67,
     "metadata": {},
     "output_type": "execute_result"
    }
   ],
   "source": [
    "#Extract a column name (method 2)\n",
    "df.columns"
   ]
  },
  {
   "cell_type": "markdown",
   "metadata": {},
   "source": [
    "---\n",
    "*Excersize*"
   ]
  },
  {
   "cell_type": "code",
   "execution_count": 68,
   "metadata": {},
   "outputs": [
    {
     "data": {
      "text/plain": [
       "count        78.000000\n",
       "mean     108023.782051\n",
       "std       28293.661022\n",
       "min       57800.000000\n",
       "25%       88612.500000\n",
       "50%      104671.000000\n",
       "75%      126774.750000\n",
       "max      186960.000000\n",
       "Name: salary, dtype: float64"
      ]
     },
     "execution_count": 68,
     "metadata": {},
     "output_type": "execute_result"
    }
   ],
   "source": [
    "#Calculate the basic statistics for the salary column (used describe() method)\n",
    "df['salary'].describe()"
   ]
  },
  {
   "cell_type": "code",
   "execution_count": 69,
   "metadata": {},
   "outputs": [
    {
     "data": {
      "text/plain": [
       "78"
      ]
     },
     "execution_count": 69,
     "metadata": {},
     "output_type": "execute_result"
    }
   ],
   "source": [
    "#Calculate how many values in the salary column (use count() method)\n",
    "df['salary'].count()"
   ]
  },
  {
   "cell_type": "code",
   "execution_count": 71,
   "metadata": {},
   "outputs": [
    {
     "data": {
      "text/plain": [
       "108023.78205128205"
      ]
     },
     "execution_count": 71,
     "metadata": {},
     "output_type": "execute_result"
    }
   ],
   "source": [
    "#Calculate the average salary\n",
    "df['salary'].mean()"
   ]
  },
  {
   "cell_type": "markdown",
   "metadata": {},
   "source": [
    "---"
   ]
  },
  {
   "cell_type": "code",
   "execution_count": 77,
   "metadata": {},
   "outputs": [
    {
     "data": {
      "text/plain": [
       "<pandas.core.groupby.groupby.DataFrameGroupBy object at 0x000002A87E2FC668>"
      ]
     },
     "execution_count": 77,
     "metadata": {},
     "output_type": "execute_result"
    }
   ],
   "source": [
    "#Group data using rank\n",
    "df_rank = df.groupby('rank')\n",
    "df\n",
    "df_rank"
   ]
  },
  {
   "cell_type": "code",
   "execution_count": 78,
   "metadata": {},
   "outputs": [
    {
     "data": {
      "text/html": [
       "<div>\n",
       "<style scoped>\n",
       "    .dataframe tbody tr th:only-of-type {\n",
       "        vertical-align: middle;\n",
       "    }\n",
       "\n",
       "    .dataframe tbody tr th {\n",
       "        vertical-align: top;\n",
       "    }\n",
       "\n",
       "    .dataframe thead th {\n",
       "        text-align: right;\n",
       "    }\n",
       "</style>\n",
       "<table border=\"1\" class=\"dataframe\">\n",
       "  <thead>\n",
       "    <tr style=\"text-align: right;\">\n",
       "      <th></th>\n",
       "      <th>phd</th>\n",
       "      <th>service</th>\n",
       "      <th>salary</th>\n",
       "    </tr>\n",
       "    <tr>\n",
       "      <th>rank</th>\n",
       "      <th></th>\n",
       "      <th></th>\n",
       "      <th></th>\n",
       "    </tr>\n",
       "  </thead>\n",
       "  <tbody>\n",
       "    <tr>\n",
       "      <th>AssocProf</th>\n",
       "      <td>15.076923</td>\n",
       "      <td>11.307692</td>\n",
       "      <td>91786.230769</td>\n",
       "    </tr>\n",
       "    <tr>\n",
       "      <th>AsstProf</th>\n",
       "      <td>5.052632</td>\n",
       "      <td>2.210526</td>\n",
       "      <td>81362.789474</td>\n",
       "    </tr>\n",
       "    <tr>\n",
       "      <th>Prof</th>\n",
       "      <td>27.065217</td>\n",
       "      <td>21.413043</td>\n",
       "      <td>123624.804348</td>\n",
       "    </tr>\n",
       "  </tbody>\n",
       "</table>\n",
       "</div>"
      ],
      "text/plain": [
       "                 phd    service         salary\n",
       "rank                                          \n",
       "AssocProf  15.076923  11.307692   91786.230769\n",
       "AsstProf    5.052632   2.210526   81362.789474\n",
       "Prof       27.065217  21.413043  123624.804348"
      ]
     },
     "execution_count": 78,
     "metadata": {},
     "output_type": "execute_result"
    }
   ],
   "source": [
    "#Calculate mean of all numeric columns for the grouped object\n",
    "df_rank.mean()"
   ]
  },
  {
   "cell_type": "code",
   "execution_count": 81,
   "metadata": {},
   "outputs": [
    {
     "data": {
      "text/html": [
       "<div>\n",
       "<style scoped>\n",
       "    .dataframe tbody tr th:only-of-type {\n",
       "        vertical-align: middle;\n",
       "    }\n",
       "\n",
       "    .dataframe tbody tr th {\n",
       "        vertical-align: top;\n",
       "    }\n",
       "\n",
       "    .dataframe thead th {\n",
       "        text-align: right;\n",
       "    }\n",
       "</style>\n",
       "<table border=\"1\" class=\"dataframe\">\n",
       "  <thead>\n",
       "    <tr style=\"text-align: right;\">\n",
       "      <th></th>\n",
       "      <th>phd</th>\n",
       "      <th>service</th>\n",
       "      <th>salary</th>\n",
       "    </tr>\n",
       "    <tr>\n",
       "      <th>sex</th>\n",
       "      <th></th>\n",
       "      <th></th>\n",
       "      <th></th>\n",
       "    </tr>\n",
       "  </thead>\n",
       "  <tbody>\n",
       "    <tr>\n",
       "      <th>Female</th>\n",
       "      <td>16.512821</td>\n",
       "      <td>11.564103</td>\n",
       "      <td>101002.410256</td>\n",
       "    </tr>\n",
       "    <tr>\n",
       "      <th>Male</th>\n",
       "      <td>22.897436</td>\n",
       "      <td>18.538462</td>\n",
       "      <td>115045.153846</td>\n",
       "    </tr>\n",
       "  </tbody>\n",
       "</table>\n",
       "</div>"
      ],
      "text/plain": [
       "              phd    service         salary\n",
       "sex                                        \n",
       "Female  16.512821  11.564103  101002.410256\n",
       "Male    22.897436  18.538462  115045.153846"
      ]
     },
     "execution_count": 81,
     "metadata": {},
     "output_type": "execute_result"
    }
   ],
   "source": [
    "df.groupby('sex').mean()"
   ]
  },
  {
   "cell_type": "code",
   "execution_count": 83,
   "metadata": {},
   "outputs": [
    {
     "data": {
      "text/plain": [
       "sex\n",
       "Female    101002.410256\n",
       "Male      115045.153846\n",
       "Name: salary, dtype: float64"
      ]
     },
     "execution_count": 83,
     "metadata": {},
     "output_type": "execute_result"
    }
   ],
   "source": [
    "#Calculate the mean salary for men and women. The following produces Pandas Series (single brackets around salary)\n",
    "df.groupby('sex')['salary'].mean()"
   ]
  },
  {
   "cell_type": "code",
   "execution_count": 84,
   "metadata": {},
   "outputs": [
    {
     "data": {
      "text/html": [
       "<div>\n",
       "<style scoped>\n",
       "    .dataframe tbody tr th:only-of-type {\n",
       "        vertical-align: middle;\n",
       "    }\n",
       "\n",
       "    .dataframe tbody tr th {\n",
       "        vertical-align: top;\n",
       "    }\n",
       "\n",
       "    .dataframe thead th {\n",
       "        text-align: right;\n",
       "    }\n",
       "</style>\n",
       "<table border=\"1\" class=\"dataframe\">\n",
       "  <thead>\n",
       "    <tr style=\"text-align: right;\">\n",
       "      <th></th>\n",
       "      <th>salary</th>\n",
       "    </tr>\n",
       "    <tr>\n",
       "      <th>sex</th>\n",
       "      <th></th>\n",
       "    </tr>\n",
       "  </thead>\n",
       "  <tbody>\n",
       "    <tr>\n",
       "      <th>Female</th>\n",
       "      <td>101002.410256</td>\n",
       "    </tr>\n",
       "    <tr>\n",
       "      <th>Male</th>\n",
       "      <td>115045.153846</td>\n",
       "    </tr>\n",
       "  </tbody>\n",
       "</table>\n",
       "</div>"
      ],
      "text/plain": [
       "               salary\n",
       "sex                  \n",
       "Female  101002.410256\n",
       "Male    115045.153846"
      ]
     },
     "execution_count": 84,
     "metadata": {},
     "output_type": "execute_result"
    }
   ],
   "source": [
    "# If we use double brackets Pandas will produce a DataFrame\n",
    "df.groupby('sex')[['salary']].mean()"
   ]
  },
  {
   "cell_type": "code",
   "execution_count": 85,
   "metadata": {},
   "outputs": [
    {
     "data": {
      "text/html": [
       "<div>\n",
       "<style scoped>\n",
       "    .dataframe tbody tr th:only-of-type {\n",
       "        vertical-align: middle;\n",
       "    }\n",
       "\n",
       "    .dataframe tbody tr th {\n",
       "        vertical-align: top;\n",
       "    }\n",
       "\n",
       "    .dataframe thead th {\n",
       "        text-align: right;\n",
       "    }\n",
       "</style>\n",
       "<table border=\"1\" class=\"dataframe\">\n",
       "  <thead>\n",
       "    <tr style=\"text-align: right;\">\n",
       "      <th></th>\n",
       "      <th></th>\n",
       "      <th>salary</th>\n",
       "    </tr>\n",
       "    <tr>\n",
       "      <th>rank</th>\n",
       "      <th>sex</th>\n",
       "      <th></th>\n",
       "    </tr>\n",
       "  </thead>\n",
       "  <tbody>\n",
       "    <tr>\n",
       "      <th rowspan=\"2\" valign=\"top\">AssocProf</th>\n",
       "      <th>Female</th>\n",
       "      <td>88512.800000</td>\n",
       "    </tr>\n",
       "    <tr>\n",
       "      <th>Male</th>\n",
       "      <td>102697.666667</td>\n",
       "    </tr>\n",
       "    <tr>\n",
       "      <th rowspan=\"2\" valign=\"top\">AsstProf</th>\n",
       "      <th>Female</th>\n",
       "      <td>78049.909091</td>\n",
       "    </tr>\n",
       "    <tr>\n",
       "      <th>Male</th>\n",
       "      <td>85918.000000</td>\n",
       "    </tr>\n",
       "    <tr>\n",
       "      <th rowspan=\"2\" valign=\"top\">Prof</th>\n",
       "      <th>Female</th>\n",
       "      <td>121967.611111</td>\n",
       "    </tr>\n",
       "    <tr>\n",
       "      <th>Male</th>\n",
       "      <td>124690.142857</td>\n",
       "    </tr>\n",
       "  </tbody>\n",
       "</table>\n",
       "</div>"
      ],
      "text/plain": [
       "                         salary\n",
       "rank      sex                  \n",
       "AssocProf Female   88512.800000\n",
       "          Male    102697.666667\n",
       "AsstProf  Female   78049.909091\n",
       "          Male     85918.000000\n",
       "Prof      Female  121967.611111\n",
       "          Male    124690.142857"
      ]
     },
     "execution_count": 85,
     "metadata": {},
     "output_type": "execute_result"
    }
   ],
   "source": [
    "# Group using 2 variables - sex and rank:\n",
    "df.groupby(['rank','sex'], sort=True)[['salary']].mean()"
   ]
  },
  {
   "cell_type": "markdown",
   "metadata": {},
   "source": [
    "---\n",
    "*Excersize*"
   ]
  },
  {
   "cell_type": "code",
   "execution_count": 86,
   "metadata": {},
   "outputs": [
    {
     "data": {
      "text/html": [
       "<div>\n",
       "<style scoped>\n",
       "    .dataframe tbody tr th:only-of-type {\n",
       "        vertical-align: middle;\n",
       "    }\n",
       "\n",
       "    .dataframe tbody tr th {\n",
       "        vertical-align: top;\n",
       "    }\n",
       "\n",
       "    .dataframe thead th {\n",
       "        text-align: right;\n",
       "    }\n",
       "</style>\n",
       "<table border=\"1\" class=\"dataframe\">\n",
       "  <thead>\n",
       "    <tr style=\"text-align: right;\">\n",
       "      <th></th>\n",
       "      <th>salary</th>\n",
       "    </tr>\n",
       "    <tr>\n",
       "      <th>discipline</th>\n",
       "      <th></th>\n",
       "    </tr>\n",
       "  </thead>\n",
       "  <tbody>\n",
       "    <tr>\n",
       "      <th>A</th>\n",
       "      <td>98331.111111</td>\n",
       "    </tr>\n",
       "    <tr>\n",
       "      <th>B</th>\n",
       "      <td>116331.785714</td>\n",
       "    </tr>\n",
       "  </tbody>\n",
       "</table>\n",
       "</div>"
      ],
      "text/plain": [
       "                   salary\n",
       "discipline               \n",
       "A            98331.111111\n",
       "B           116331.785714"
      ]
     },
     "execution_count": 86,
     "metadata": {},
     "output_type": "execute_result"
    }
   ],
   "source": [
    "# Group data by the discipline and find the average salary for each group\n",
    "df.groupby('discipline')[['salary']].mean()"
   ]
  },
  {
   "cell_type": "markdown",
   "metadata": {},
   "source": [
    "---\n",
    "### Filtering"
   ]
  },
  {
   "cell_type": "code",
   "execution_count": 87,
   "metadata": {},
   "outputs": [
    {
     "data": {
      "text/html": [
       "<div>\n",
       "<style scoped>\n",
       "    .dataframe tbody tr th:only-of-type {\n",
       "        vertical-align: middle;\n",
       "    }\n",
       "\n",
       "    .dataframe tbody tr th {\n",
       "        vertical-align: top;\n",
       "    }\n",
       "\n",
       "    .dataframe thead th {\n",
       "        text-align: right;\n",
       "    }\n",
       "</style>\n",
       "<table border=\"1\" class=\"dataframe\">\n",
       "  <thead>\n",
       "    <tr style=\"text-align: right;\">\n",
       "      <th></th>\n",
       "      <th>rank</th>\n",
       "      <th>discipline</th>\n",
       "      <th>phd</th>\n",
       "      <th>service</th>\n",
       "      <th>sex</th>\n",
       "      <th>salary</th>\n",
       "    </tr>\n",
       "  </thead>\n",
       "  <tbody>\n",
       "    <tr>\n",
       "      <th>0</th>\n",
       "      <td>Prof</td>\n",
       "      <td>B</td>\n",
       "      <td>56</td>\n",
       "      <td>49</td>\n",
       "      <td>Male</td>\n",
       "      <td>186960</td>\n",
       "    </tr>\n",
       "    <tr>\n",
       "      <th>3</th>\n",
       "      <td>Prof</td>\n",
       "      <td>A</td>\n",
       "      <td>40</td>\n",
       "      <td>31</td>\n",
       "      <td>Male</td>\n",
       "      <td>131205</td>\n",
       "    </tr>\n",
       "    <tr>\n",
       "      <th>5</th>\n",
       "      <td>Prof</td>\n",
       "      <td>A</td>\n",
       "      <td>20</td>\n",
       "      <td>20</td>\n",
       "      <td>Male</td>\n",
       "      <td>122400</td>\n",
       "    </tr>\n",
       "    <tr>\n",
       "      <th>7</th>\n",
       "      <td>Prof</td>\n",
       "      <td>A</td>\n",
       "      <td>18</td>\n",
       "      <td>18</td>\n",
       "      <td>Male</td>\n",
       "      <td>126300</td>\n",
       "    </tr>\n",
       "    <tr>\n",
       "      <th>10</th>\n",
       "      <td>Prof</td>\n",
       "      <td>B</td>\n",
       "      <td>39</td>\n",
       "      <td>33</td>\n",
       "      <td>Male</td>\n",
       "      <td>128250</td>\n",
       "    </tr>\n",
       "  </tbody>\n",
       "</table>\n",
       "</div>"
      ],
      "text/plain": [
       "    rank discipline  phd  service   sex  salary\n",
       "0   Prof          B   56       49  Male  186960\n",
       "3   Prof          A   40       31  Male  131205\n",
       "5   Prof          A   20       20  Male  122400\n",
       "7   Prof          A   18       18  Male  126300\n",
       "10  Prof          B   39       33  Male  128250"
      ]
     },
     "execution_count": 87,
     "metadata": {},
     "output_type": "execute_result"
    }
   ],
   "source": [
    "#Select observation with the value in the salary column > 120K\n",
    "df_sub = df[ df['salary'] > 120000]\n",
    "df_sub.head()"
   ]
  },
  {
   "cell_type": "code",
   "execution_count": 88,
   "metadata": {},
   "outputs": [
    {
     "data": {
      "text/plain": [
       "[Int64Index([ 0,  3,  5,  7, 10, 11, 13, 14, 15, 19, 26, 27, 29, 31, 35, 36, 39,\n",
       "             40, 44, 45, 49, 51, 58, 72, 75],\n",
       "            dtype='int64'),\n",
       " Index(['rank', 'discipline', 'phd', 'service', 'sex', 'salary'], dtype='object')]"
      ]
     },
     "execution_count": 88,
     "metadata": {},
     "output_type": "execute_result"
    }
   ],
   "source": [
    "df_sub.axes"
   ]
  },
  {
   "cell_type": "code",
   "execution_count": 89,
   "metadata": {},
   "outputs": [
    {
     "data": {
      "text/html": [
       "<div>\n",
       "<style scoped>\n",
       "    .dataframe tbody tr th:only-of-type {\n",
       "        vertical-align: middle;\n",
       "    }\n",
       "\n",
       "    .dataframe tbody tr th {\n",
       "        vertical-align: top;\n",
       "    }\n",
       "\n",
       "    .dataframe thead th {\n",
       "        text-align: right;\n",
       "    }\n",
       "</style>\n",
       "<table border=\"1\" class=\"dataframe\">\n",
       "  <thead>\n",
       "    <tr style=\"text-align: right;\">\n",
       "      <th></th>\n",
       "      <th>rank</th>\n",
       "      <th>discipline</th>\n",
       "      <th>phd</th>\n",
       "      <th>service</th>\n",
       "      <th>sex</th>\n",
       "      <th>salary</th>\n",
       "    </tr>\n",
       "  </thead>\n",
       "  <tbody>\n",
       "    <tr>\n",
       "      <th>39</th>\n",
       "      <td>Prof</td>\n",
       "      <td>B</td>\n",
       "      <td>18</td>\n",
       "      <td>18</td>\n",
       "      <td>Female</td>\n",
       "      <td>129000</td>\n",
       "    </tr>\n",
       "    <tr>\n",
       "      <th>40</th>\n",
       "      <td>Prof</td>\n",
       "      <td>A</td>\n",
       "      <td>39</td>\n",
       "      <td>36</td>\n",
       "      <td>Female</td>\n",
       "      <td>137000</td>\n",
       "    </tr>\n",
       "    <tr>\n",
       "      <th>41</th>\n",
       "      <td>AssocProf</td>\n",
       "      <td>A</td>\n",
       "      <td>13</td>\n",
       "      <td>8</td>\n",
       "      <td>Female</td>\n",
       "      <td>74830</td>\n",
       "    </tr>\n",
       "    <tr>\n",
       "      <th>42</th>\n",
       "      <td>AsstProf</td>\n",
       "      <td>B</td>\n",
       "      <td>4</td>\n",
       "      <td>2</td>\n",
       "      <td>Female</td>\n",
       "      <td>80225</td>\n",
       "    </tr>\n",
       "    <tr>\n",
       "      <th>43</th>\n",
       "      <td>AsstProf</td>\n",
       "      <td>B</td>\n",
       "      <td>5</td>\n",
       "      <td>0</td>\n",
       "      <td>Female</td>\n",
       "      <td>77000</td>\n",
       "    </tr>\n",
       "  </tbody>\n",
       "</table>\n",
       "</div>"
      ],
      "text/plain": [
       "         rank discipline  phd  service     sex  salary\n",
       "39       Prof          B   18       18  Female  129000\n",
       "40       Prof          A   39       36  Female  137000\n",
       "41  AssocProf          A   13        8  Female   74830\n",
       "42   AsstProf          B    4        2  Female   80225\n",
       "43   AsstProf          B    5        0  Female   77000"
      ]
     },
     "execution_count": 89,
     "metadata": {},
     "output_type": "execute_result"
    }
   ],
   "source": [
    "#Select data for female professors\n",
    "df_w = df[ df['sex'] == 'Female']\n",
    "df_w.head()"
   ]
  },
  {
   "cell_type": "markdown",
   "metadata": {},
   "source": [
    "---\n",
    "*Excersize*"
   ]
  },
  {
   "cell_type": "code",
   "execution_count": 90,
   "metadata": {},
   "outputs": [
    {
     "data": {
      "text/plain": [
       "phd           21.53\n",
       "service       15.72\n",
       "salary     98331.11\n",
       "dtype: float64"
      ]
     },
     "execution_count": 90,
     "metadata": {},
     "output_type": "execute_result"
    }
   ],
   "source": [
    "# Using filtering, find the mean value of the salary for the discipline A\n",
    "df[ df['discipline'] =='A'].mean().round(2)\n"
   ]
  },
  {
   "cell_type": "code",
   "execution_count": 95,
   "metadata": {},
   "outputs": [
    {
     "data": {
      "text/html": [
       "<div>\n",
       "<style scoped>\n",
       "    .dataframe tbody tr th:only-of-type {\n",
       "        vertical-align: middle;\n",
       "    }\n",
       "\n",
       "    .dataframe tbody tr th {\n",
       "        vertical-align: top;\n",
       "    }\n",
       "\n",
       "    .dataframe thead th {\n",
       "        text-align: right;\n",
       "    }\n",
       "</style>\n",
       "<table border=\"1\" class=\"dataframe\">\n",
       "  <thead>\n",
       "    <tr style=\"text-align: right;\">\n",
       "      <th></th>\n",
       "      <th>rank</th>\n",
       "      <th>discipline</th>\n",
       "      <th>phd</th>\n",
       "      <th>service</th>\n",
       "      <th>salary</th>\n",
       "    </tr>\n",
       "    <tr>\n",
       "      <th>sex</th>\n",
       "      <th></th>\n",
       "      <th></th>\n",
       "      <th></th>\n",
       "      <th></th>\n",
       "      <th></th>\n",
       "    </tr>\n",
       "  </thead>\n",
       "  <tbody>\n",
       "    <tr>\n",
       "      <th>Female</th>\n",
       "      <td>21</td>\n",
       "      <td>21</td>\n",
       "      <td>21</td>\n",
       "      <td>21</td>\n",
       "      <td>21</td>\n",
       "    </tr>\n",
       "    <tr>\n",
       "      <th>Male</th>\n",
       "      <td>25</td>\n",
       "      <td>25</td>\n",
       "      <td>25</td>\n",
       "      <td>25</td>\n",
       "      <td>25</td>\n",
       "    </tr>\n",
       "  </tbody>\n",
       "</table>\n",
       "</div>"
      ],
      "text/plain": [
       "        rank  discipline  phd  service  salary\n",
       "sex                                           \n",
       "Female    21          21   21       21      21\n",
       "Male      25          25   25       25      25"
      ]
     },
     "execution_count": 95,
     "metadata": {},
     "output_type": "execute_result"
    }
   ],
   "source": [
    "# Challange:\n",
    "# Extract (filter) only observations with high salary ( > 100K) and find how many female and male professors in each group\n",
    "df_highSalary =  df[df['salary']>100000]\n",
    "df_highSalary.groupby('sex').count()"
   ]
  },
  {
   "cell_type": "markdown",
   "metadata": {},
   "source": [
    "---\n",
    "### More on slicing the dataset"
   ]
  },
  {
   "cell_type": "code",
   "execution_count": 97,
   "metadata": {
    "scrolled": true
   },
   "outputs": [
    {
     "data": {
      "text/plain": [
       "0     186960\n",
       "1      93000\n",
       "2     110515\n",
       "3     131205\n",
       "4     104800\n",
       "5     122400\n",
       "6      81285\n",
       "7     126300\n",
       "8      94350\n",
       "9      57800\n",
       "10    128250\n",
       "11    134778\n",
       "12     88000\n",
       "13    162200\n",
       "14    153750\n",
       "15    150480\n",
       "16     75044\n",
       "17     92000\n",
       "18    107300\n",
       "19    150500\n",
       "20     92000\n",
       "21    103106\n",
       "22     73000\n",
       "23     85000\n",
       "24     91100\n",
       "25     99418\n",
       "26    148750\n",
       "27    155865\n",
       "28     91300\n",
       "29    123683\n",
       "       ...  \n",
       "48    111512\n",
       "49    122960\n",
       "50     97032\n",
       "51    127512\n",
       "52    105000\n",
       "53     73500\n",
       "54     62884\n",
       "55     72500\n",
       "56     77500\n",
       "57     72500\n",
       "58    144651\n",
       "59    103994\n",
       "60     92000\n",
       "61    103750\n",
       "62    109650\n",
       "63     91000\n",
       "64     73300\n",
       "65    117555\n",
       "66     63100\n",
       "67     90450\n",
       "68     77500\n",
       "69    116450\n",
       "70     78500\n",
       "71     71065\n",
       "72    161101\n",
       "73    105450\n",
       "74    104542\n",
       "75    124312\n",
       "76    109954\n",
       "77    109646\n",
       "Name: salary, Length: 78, dtype: int64"
      ]
     },
     "execution_count": 97,
     "metadata": {},
     "output_type": "execute_result"
    }
   ],
   "source": [
    "#Select column salary\n",
    "df1 = df['salary']"
   ]
  },
  {
   "cell_type": "code",
   "execution_count": 98,
   "metadata": {},
   "outputs": [
    {
     "data": {
      "text/plain": [
       "pandas.core.series.Series"
      ]
     },
     "execution_count": 98,
     "metadata": {},
     "output_type": "execute_result"
    }
   ],
   "source": [
    "#Check data type of the result\n",
    "type(df1)"
   ]
  },
  {
   "cell_type": "code",
   "execution_count": 99,
   "metadata": {},
   "outputs": [
    {
     "data": {
      "text/plain": [
       "0    186960\n",
       "1     93000\n",
       "2    110515\n",
       "3    131205\n",
       "4    104800\n",
       "Name: salary, dtype: int64"
      ]
     },
     "execution_count": 99,
     "metadata": {},
     "output_type": "execute_result"
    }
   ],
   "source": [
    "#Look at the first few elements of the output\n",
    "df1.head()"
   ]
  },
  {
   "cell_type": "code",
   "execution_count": 101,
   "metadata": {},
   "outputs": [
    {
     "data": {
      "text/html": [
       "<div>\n",
       "<style scoped>\n",
       "    .dataframe tbody tr th:only-of-type {\n",
       "        vertical-align: middle;\n",
       "    }\n",
       "\n",
       "    .dataframe tbody tr th {\n",
       "        vertical-align: top;\n",
       "    }\n",
       "\n",
       "    .dataframe thead th {\n",
       "        text-align: right;\n",
       "    }\n",
       "</style>\n",
       "<table border=\"1\" class=\"dataframe\">\n",
       "  <thead>\n",
       "    <tr style=\"text-align: right;\">\n",
       "      <th></th>\n",
       "      <th>salary</th>\n",
       "    </tr>\n",
       "  </thead>\n",
       "  <tbody>\n",
       "    <tr>\n",
       "      <th>0</th>\n",
       "      <td>186960</td>\n",
       "    </tr>\n",
       "    <tr>\n",
       "      <th>1</th>\n",
       "      <td>93000</td>\n",
       "    </tr>\n",
       "    <tr>\n",
       "      <th>2</th>\n",
       "      <td>110515</td>\n",
       "    </tr>\n",
       "    <tr>\n",
       "      <th>3</th>\n",
       "      <td>131205</td>\n",
       "    </tr>\n",
       "    <tr>\n",
       "      <th>4</th>\n",
       "      <td>104800</td>\n",
       "    </tr>\n",
       "    <tr>\n",
       "      <th>5</th>\n",
       "      <td>122400</td>\n",
       "    </tr>\n",
       "    <tr>\n",
       "      <th>6</th>\n",
       "      <td>81285</td>\n",
       "    </tr>\n",
       "    <tr>\n",
       "      <th>7</th>\n",
       "      <td>126300</td>\n",
       "    </tr>\n",
       "    <tr>\n",
       "      <th>8</th>\n",
       "      <td>94350</td>\n",
       "    </tr>\n",
       "    <tr>\n",
       "      <th>9</th>\n",
       "      <td>57800</td>\n",
       "    </tr>\n",
       "    <tr>\n",
       "      <th>10</th>\n",
       "      <td>128250</td>\n",
       "    </tr>\n",
       "    <tr>\n",
       "      <th>11</th>\n",
       "      <td>134778</td>\n",
       "    </tr>\n",
       "    <tr>\n",
       "      <th>12</th>\n",
       "      <td>88000</td>\n",
       "    </tr>\n",
       "    <tr>\n",
       "      <th>13</th>\n",
       "      <td>162200</td>\n",
       "    </tr>\n",
       "    <tr>\n",
       "      <th>14</th>\n",
       "      <td>153750</td>\n",
       "    </tr>\n",
       "    <tr>\n",
       "      <th>15</th>\n",
       "      <td>150480</td>\n",
       "    </tr>\n",
       "    <tr>\n",
       "      <th>16</th>\n",
       "      <td>75044</td>\n",
       "    </tr>\n",
       "    <tr>\n",
       "      <th>17</th>\n",
       "      <td>92000</td>\n",
       "    </tr>\n",
       "    <tr>\n",
       "      <th>18</th>\n",
       "      <td>107300</td>\n",
       "    </tr>\n",
       "    <tr>\n",
       "      <th>19</th>\n",
       "      <td>150500</td>\n",
       "    </tr>\n",
       "    <tr>\n",
       "      <th>20</th>\n",
       "      <td>92000</td>\n",
       "    </tr>\n",
       "    <tr>\n",
       "      <th>21</th>\n",
       "      <td>103106</td>\n",
       "    </tr>\n",
       "    <tr>\n",
       "      <th>22</th>\n",
       "      <td>73000</td>\n",
       "    </tr>\n",
       "    <tr>\n",
       "      <th>23</th>\n",
       "      <td>85000</td>\n",
       "    </tr>\n",
       "    <tr>\n",
       "      <th>24</th>\n",
       "      <td>91100</td>\n",
       "    </tr>\n",
       "    <tr>\n",
       "      <th>25</th>\n",
       "      <td>99418</td>\n",
       "    </tr>\n",
       "    <tr>\n",
       "      <th>26</th>\n",
       "      <td>148750</td>\n",
       "    </tr>\n",
       "    <tr>\n",
       "      <th>27</th>\n",
       "      <td>155865</td>\n",
       "    </tr>\n",
       "    <tr>\n",
       "      <th>28</th>\n",
       "      <td>91300</td>\n",
       "    </tr>\n",
       "    <tr>\n",
       "      <th>29</th>\n",
       "      <td>123683</td>\n",
       "    </tr>\n",
       "    <tr>\n",
       "      <th>...</th>\n",
       "      <td>...</td>\n",
       "    </tr>\n",
       "    <tr>\n",
       "      <th>48</th>\n",
       "      <td>111512</td>\n",
       "    </tr>\n",
       "    <tr>\n",
       "      <th>49</th>\n",
       "      <td>122960</td>\n",
       "    </tr>\n",
       "    <tr>\n",
       "      <th>50</th>\n",
       "      <td>97032</td>\n",
       "    </tr>\n",
       "    <tr>\n",
       "      <th>51</th>\n",
       "      <td>127512</td>\n",
       "    </tr>\n",
       "    <tr>\n",
       "      <th>52</th>\n",
       "      <td>105000</td>\n",
       "    </tr>\n",
       "    <tr>\n",
       "      <th>53</th>\n",
       "      <td>73500</td>\n",
       "    </tr>\n",
       "    <tr>\n",
       "      <th>54</th>\n",
       "      <td>62884</td>\n",
       "    </tr>\n",
       "    <tr>\n",
       "      <th>55</th>\n",
       "      <td>72500</td>\n",
       "    </tr>\n",
       "    <tr>\n",
       "      <th>56</th>\n",
       "      <td>77500</td>\n",
       "    </tr>\n",
       "    <tr>\n",
       "      <th>57</th>\n",
       "      <td>72500</td>\n",
       "    </tr>\n",
       "    <tr>\n",
       "      <th>58</th>\n",
       "      <td>144651</td>\n",
       "    </tr>\n",
       "    <tr>\n",
       "      <th>59</th>\n",
       "      <td>103994</td>\n",
       "    </tr>\n",
       "    <tr>\n",
       "      <th>60</th>\n",
       "      <td>92000</td>\n",
       "    </tr>\n",
       "    <tr>\n",
       "      <th>61</th>\n",
       "      <td>103750</td>\n",
       "    </tr>\n",
       "    <tr>\n",
       "      <th>62</th>\n",
       "      <td>109650</td>\n",
       "    </tr>\n",
       "    <tr>\n",
       "      <th>63</th>\n",
       "      <td>91000</td>\n",
       "    </tr>\n",
       "    <tr>\n",
       "      <th>64</th>\n",
       "      <td>73300</td>\n",
       "    </tr>\n",
       "    <tr>\n",
       "      <th>65</th>\n",
       "      <td>117555</td>\n",
       "    </tr>\n",
       "    <tr>\n",
       "      <th>66</th>\n",
       "      <td>63100</td>\n",
       "    </tr>\n",
       "    <tr>\n",
       "      <th>67</th>\n",
       "      <td>90450</td>\n",
       "    </tr>\n",
       "    <tr>\n",
       "      <th>68</th>\n",
       "      <td>77500</td>\n",
       "    </tr>\n",
       "    <tr>\n",
       "      <th>69</th>\n",
       "      <td>116450</td>\n",
       "    </tr>\n",
       "    <tr>\n",
       "      <th>70</th>\n",
       "      <td>78500</td>\n",
       "    </tr>\n",
       "    <tr>\n",
       "      <th>71</th>\n",
       "      <td>71065</td>\n",
       "    </tr>\n",
       "    <tr>\n",
       "      <th>72</th>\n",
       "      <td>161101</td>\n",
       "    </tr>\n",
       "    <tr>\n",
       "      <th>73</th>\n",
       "      <td>105450</td>\n",
       "    </tr>\n",
       "    <tr>\n",
       "      <th>74</th>\n",
       "      <td>104542</td>\n",
       "    </tr>\n",
       "    <tr>\n",
       "      <th>75</th>\n",
       "      <td>124312</td>\n",
       "    </tr>\n",
       "    <tr>\n",
       "      <th>76</th>\n",
       "      <td>109954</td>\n",
       "    </tr>\n",
       "    <tr>\n",
       "      <th>77</th>\n",
       "      <td>109646</td>\n",
       "    </tr>\n",
       "  </tbody>\n",
       "</table>\n",
       "<p>78 rows × 1 columns</p>\n",
       "</div>"
      ],
      "text/plain": [
       "    salary\n",
       "0   186960\n",
       "1    93000\n",
       "2   110515\n",
       "3   131205\n",
       "4   104800\n",
       "5   122400\n",
       "6    81285\n",
       "7   126300\n",
       "8    94350\n",
       "9    57800\n",
       "10  128250\n",
       "11  134778\n",
       "12   88000\n",
       "13  162200\n",
       "14  153750\n",
       "15  150480\n",
       "16   75044\n",
       "17   92000\n",
       "18  107300\n",
       "19  150500\n",
       "20   92000\n",
       "21  103106\n",
       "22   73000\n",
       "23   85000\n",
       "24   91100\n",
       "25   99418\n",
       "26  148750\n",
       "27  155865\n",
       "28   91300\n",
       "29  123683\n",
       "..     ...\n",
       "48  111512\n",
       "49  122960\n",
       "50   97032\n",
       "51  127512\n",
       "52  105000\n",
       "53   73500\n",
       "54   62884\n",
       "55   72500\n",
       "56   77500\n",
       "57   72500\n",
       "58  144651\n",
       "59  103994\n",
       "60   92000\n",
       "61  103750\n",
       "62  109650\n",
       "63   91000\n",
       "64   73300\n",
       "65  117555\n",
       "66   63100\n",
       "67   90450\n",
       "68   77500\n",
       "69  116450\n",
       "70   78500\n",
       "71   71065\n",
       "72  161101\n",
       "73  105450\n",
       "74  104542\n",
       "75  124312\n",
       "76  109954\n",
       "77  109646\n",
       "\n",
       "[78 rows x 1 columns]"
      ]
     },
     "execution_count": 101,
     "metadata": {},
     "output_type": "execute_result"
    }
   ],
   "source": [
    "#Select column salary and make the output to be a data frame\n",
    "df2 = df[['salary']]\n",
    "df2"
   ]
  },
  {
   "cell_type": "code",
   "execution_count": 102,
   "metadata": {},
   "outputs": [
    {
     "data": {
      "text/plain": [
       "pandas.core.frame.DataFrame"
      ]
     },
     "execution_count": 102,
     "metadata": {},
     "output_type": "execute_result"
    }
   ],
   "source": [
    "#Check the type\n",
    "type(df2)"
   ]
  },
  {
   "cell_type": "code",
   "execution_count": 103,
   "metadata": {},
   "outputs": [
    {
     "data": {
      "text/html": [
       "<div>\n",
       "<style scoped>\n",
       "    .dataframe tbody tr th:only-of-type {\n",
       "        vertical-align: middle;\n",
       "    }\n",
       "\n",
       "    .dataframe tbody tr th {\n",
       "        vertical-align: top;\n",
       "    }\n",
       "\n",
       "    .dataframe thead th {\n",
       "        text-align: right;\n",
       "    }\n",
       "</style>\n",
       "<table border=\"1\" class=\"dataframe\">\n",
       "  <thead>\n",
       "    <tr style=\"text-align: right;\">\n",
       "      <th></th>\n",
       "      <th>rank</th>\n",
       "      <th>discipline</th>\n",
       "      <th>phd</th>\n",
       "      <th>service</th>\n",
       "      <th>sex</th>\n",
       "      <th>salary</th>\n",
       "    </tr>\n",
       "  </thead>\n",
       "  <tbody>\n",
       "    <tr>\n",
       "      <th>0</th>\n",
       "      <td>Prof</td>\n",
       "      <td>B</td>\n",
       "      <td>56</td>\n",
       "      <td>49</td>\n",
       "      <td>Male</td>\n",
       "      <td>186960</td>\n",
       "    </tr>\n",
       "    <tr>\n",
       "      <th>1</th>\n",
       "      <td>Prof</td>\n",
       "      <td>A</td>\n",
       "      <td>12</td>\n",
       "      <td>6</td>\n",
       "      <td>Male</td>\n",
       "      <td>93000</td>\n",
       "    </tr>\n",
       "    <tr>\n",
       "      <th>2</th>\n",
       "      <td>Prof</td>\n",
       "      <td>A</td>\n",
       "      <td>23</td>\n",
       "      <td>20</td>\n",
       "      <td>Male</td>\n",
       "      <td>110515</td>\n",
       "    </tr>\n",
       "    <tr>\n",
       "      <th>3</th>\n",
       "      <td>Prof</td>\n",
       "      <td>A</td>\n",
       "      <td>40</td>\n",
       "      <td>31</td>\n",
       "      <td>Male</td>\n",
       "      <td>131205</td>\n",
       "    </tr>\n",
       "    <tr>\n",
       "      <th>4</th>\n",
       "      <td>Prof</td>\n",
       "      <td>B</td>\n",
       "      <td>20</td>\n",
       "      <td>18</td>\n",
       "      <td>Male</td>\n",
       "      <td>104800</td>\n",
       "    </tr>\n",
       "    <tr>\n",
       "      <th>5</th>\n",
       "      <td>Prof</td>\n",
       "      <td>A</td>\n",
       "      <td>20</td>\n",
       "      <td>20</td>\n",
       "      <td>Male</td>\n",
       "      <td>122400</td>\n",
       "    </tr>\n",
       "    <tr>\n",
       "      <th>6</th>\n",
       "      <td>AssocProf</td>\n",
       "      <td>A</td>\n",
       "      <td>20</td>\n",
       "      <td>17</td>\n",
       "      <td>Male</td>\n",
       "      <td>81285</td>\n",
       "    </tr>\n",
       "    <tr>\n",
       "      <th>7</th>\n",
       "      <td>Prof</td>\n",
       "      <td>A</td>\n",
       "      <td>18</td>\n",
       "      <td>18</td>\n",
       "      <td>Male</td>\n",
       "      <td>126300</td>\n",
       "    </tr>\n",
       "    <tr>\n",
       "      <th>8</th>\n",
       "      <td>Prof</td>\n",
       "      <td>A</td>\n",
       "      <td>29</td>\n",
       "      <td>19</td>\n",
       "      <td>Male</td>\n",
       "      <td>94350</td>\n",
       "    </tr>\n",
       "    <tr>\n",
       "      <th>9</th>\n",
       "      <td>Prof</td>\n",
       "      <td>A</td>\n",
       "      <td>51</td>\n",
       "      <td>51</td>\n",
       "      <td>Male</td>\n",
       "      <td>57800</td>\n",
       "    </tr>\n",
       "  </tbody>\n",
       "</table>\n",
       "</div>"
      ],
      "text/plain": [
       "        rank discipline  phd  service   sex  salary\n",
       "0       Prof          B   56       49  Male  186960\n",
       "1       Prof          A   12        6  Male   93000\n",
       "2       Prof          A   23       20  Male  110515\n",
       "3       Prof          A   40       31  Male  131205\n",
       "4       Prof          B   20       18  Male  104800\n",
       "5       Prof          A   20       20  Male  122400\n",
       "6  AssocProf          A   20       17  Male   81285\n",
       "7       Prof          A   18       18  Male  126300\n",
       "8       Prof          A   29       19  Male   94350\n",
       "9       Prof          A   51       51  Male   57800"
      ]
     },
     "execution_count": 103,
     "metadata": {},
     "output_type": "execute_result"
    }
   ],
   "source": [
    "#Select a subset of rows (based on their position):\n",
    "# Note 1: The location of the first row is 0\n",
    "# Note 2: The last value in the range is not included\n",
    "df[0:10]"
   ]
  },
  {
   "cell_type": "code",
   "execution_count": 104,
   "metadata": {},
   "outputs": [
    {
     "data": {
      "text/html": [
       "<div>\n",
       "<style scoped>\n",
       "    .dataframe tbody tr th:only-of-type {\n",
       "        vertical-align: middle;\n",
       "    }\n",
       "\n",
       "    .dataframe tbody tr th {\n",
       "        vertical-align: top;\n",
       "    }\n",
       "\n",
       "    .dataframe thead th {\n",
       "        text-align: right;\n",
       "    }\n",
       "</style>\n",
       "<table border=\"1\" class=\"dataframe\">\n",
       "  <thead>\n",
       "    <tr style=\"text-align: right;\">\n",
       "      <th></th>\n",
       "      <th>rank</th>\n",
       "      <th>sex</th>\n",
       "      <th>salary</th>\n",
       "    </tr>\n",
       "  </thead>\n",
       "  <tbody>\n",
       "    <tr>\n",
       "      <th>10</th>\n",
       "      <td>Prof</td>\n",
       "      <td>Male</td>\n",
       "      <td>128250</td>\n",
       "    </tr>\n",
       "    <tr>\n",
       "      <th>11</th>\n",
       "      <td>Prof</td>\n",
       "      <td>Male</td>\n",
       "      <td>134778</td>\n",
       "    </tr>\n",
       "    <tr>\n",
       "      <th>12</th>\n",
       "      <td>AsstProf</td>\n",
       "      <td>Male</td>\n",
       "      <td>88000</td>\n",
       "    </tr>\n",
       "    <tr>\n",
       "      <th>13</th>\n",
       "      <td>Prof</td>\n",
       "      <td>Male</td>\n",
       "      <td>162200</td>\n",
       "    </tr>\n",
       "    <tr>\n",
       "      <th>14</th>\n",
       "      <td>Prof</td>\n",
       "      <td>Male</td>\n",
       "      <td>153750</td>\n",
       "    </tr>\n",
       "    <tr>\n",
       "      <th>15</th>\n",
       "      <td>Prof</td>\n",
       "      <td>Male</td>\n",
       "      <td>150480</td>\n",
       "    </tr>\n",
       "    <tr>\n",
       "      <th>16</th>\n",
       "      <td>AsstProf</td>\n",
       "      <td>Male</td>\n",
       "      <td>75044</td>\n",
       "    </tr>\n",
       "    <tr>\n",
       "      <th>17</th>\n",
       "      <td>AsstProf</td>\n",
       "      <td>Male</td>\n",
       "      <td>92000</td>\n",
       "    </tr>\n",
       "    <tr>\n",
       "      <th>18</th>\n",
       "      <td>Prof</td>\n",
       "      <td>Male</td>\n",
       "      <td>107300</td>\n",
       "    </tr>\n",
       "    <tr>\n",
       "      <th>19</th>\n",
       "      <td>Prof</td>\n",
       "      <td>Male</td>\n",
       "      <td>150500</td>\n",
       "    </tr>\n",
       "    <tr>\n",
       "      <th>20</th>\n",
       "      <td>AsstProf</td>\n",
       "      <td>Male</td>\n",
       "      <td>92000</td>\n",
       "    </tr>\n",
       "  </tbody>\n",
       "</table>\n",
       "</div>"
      ],
      "text/plain": [
       "        rank   sex  salary\n",
       "10      Prof  Male  128250\n",
       "11      Prof  Male  134778\n",
       "12  AsstProf  Male   88000\n",
       "13      Prof  Male  162200\n",
       "14      Prof  Male  153750\n",
       "15      Prof  Male  150480\n",
       "16  AsstProf  Male   75044\n",
       "17  AsstProf  Male   92000\n",
       "18      Prof  Male  107300\n",
       "19      Prof  Male  150500\n",
       "20  AsstProf  Male   92000"
      ]
     },
     "execution_count": 104,
     "metadata": {},
     "output_type": "execute_result"
    }
   ],
   "source": [
    "#If we want to select both rows and columns we can use method .loc\n",
    "df.loc[10:20,['rank', 'sex','salary']]"
   ]
  },
  {
   "cell_type": "code",
   "execution_count": 105,
   "metadata": {},
   "outputs": [
    {
     "data": {
      "text/html": [
       "<div>\n",
       "<style scoped>\n",
       "    .dataframe tbody tr th:only-of-type {\n",
       "        vertical-align: middle;\n",
       "    }\n",
       "\n",
       "    .dataframe tbody tr th {\n",
       "        vertical-align: top;\n",
       "    }\n",
       "\n",
       "    .dataframe thead th {\n",
       "        text-align: right;\n",
       "    }\n",
       "</style>\n",
       "<table border=\"1\" class=\"dataframe\">\n",
       "  <thead>\n",
       "    <tr style=\"text-align: right;\">\n",
       "      <th></th>\n",
       "      <th>rank</th>\n",
       "      <th>discipline</th>\n",
       "      <th>phd</th>\n",
       "      <th>service</th>\n",
       "      <th>sex</th>\n",
       "      <th>salary</th>\n",
       "    </tr>\n",
       "  </thead>\n",
       "  <tbody>\n",
       "    <tr>\n",
       "      <th>0</th>\n",
       "      <td>Prof</td>\n",
       "      <td>B</td>\n",
       "      <td>56</td>\n",
       "      <td>49</td>\n",
       "      <td>Male</td>\n",
       "      <td>186960</td>\n",
       "    </tr>\n",
       "    <tr>\n",
       "      <th>3</th>\n",
       "      <td>Prof</td>\n",
       "      <td>A</td>\n",
       "      <td>40</td>\n",
       "      <td>31</td>\n",
       "      <td>Male</td>\n",
       "      <td>131205</td>\n",
       "    </tr>\n",
       "    <tr>\n",
       "      <th>5</th>\n",
       "      <td>Prof</td>\n",
       "      <td>A</td>\n",
       "      <td>20</td>\n",
       "      <td>20</td>\n",
       "      <td>Male</td>\n",
       "      <td>122400</td>\n",
       "    </tr>\n",
       "    <tr>\n",
       "      <th>7</th>\n",
       "      <td>Prof</td>\n",
       "      <td>A</td>\n",
       "      <td>18</td>\n",
       "      <td>18</td>\n",
       "      <td>Male</td>\n",
       "      <td>126300</td>\n",
       "    </tr>\n",
       "    <tr>\n",
       "      <th>10</th>\n",
       "      <td>Prof</td>\n",
       "      <td>B</td>\n",
       "      <td>39</td>\n",
       "      <td>33</td>\n",
       "      <td>Male</td>\n",
       "      <td>128250</td>\n",
       "    </tr>\n",
       "    <tr>\n",
       "      <th>11</th>\n",
       "      <td>Prof</td>\n",
       "      <td>B</td>\n",
       "      <td>23</td>\n",
       "      <td>23</td>\n",
       "      <td>Male</td>\n",
       "      <td>134778</td>\n",
       "    </tr>\n",
       "    <tr>\n",
       "      <th>13</th>\n",
       "      <td>Prof</td>\n",
       "      <td>B</td>\n",
       "      <td>35</td>\n",
       "      <td>33</td>\n",
       "      <td>Male</td>\n",
       "      <td>162200</td>\n",
       "    </tr>\n",
       "    <tr>\n",
       "      <th>14</th>\n",
       "      <td>Prof</td>\n",
       "      <td>B</td>\n",
       "      <td>25</td>\n",
       "      <td>19</td>\n",
       "      <td>Male</td>\n",
       "      <td>153750</td>\n",
       "    </tr>\n",
       "    <tr>\n",
       "      <th>15</th>\n",
       "      <td>Prof</td>\n",
       "      <td>B</td>\n",
       "      <td>17</td>\n",
       "      <td>3</td>\n",
       "      <td>Male</td>\n",
       "      <td>150480</td>\n",
       "    </tr>\n",
       "    <tr>\n",
       "      <th>19</th>\n",
       "      <td>Prof</td>\n",
       "      <td>A</td>\n",
       "      <td>29</td>\n",
       "      <td>27</td>\n",
       "      <td>Male</td>\n",
       "      <td>150500</td>\n",
       "    </tr>\n",
       "    <tr>\n",
       "      <th>26</th>\n",
       "      <td>Prof</td>\n",
       "      <td>A</td>\n",
       "      <td>38</td>\n",
       "      <td>19</td>\n",
       "      <td>Male</td>\n",
       "      <td>148750</td>\n",
       "    </tr>\n",
       "    <tr>\n",
       "      <th>27</th>\n",
       "      <td>Prof</td>\n",
       "      <td>A</td>\n",
       "      <td>45</td>\n",
       "      <td>43</td>\n",
       "      <td>Male</td>\n",
       "      <td>155865</td>\n",
       "    </tr>\n",
       "    <tr>\n",
       "      <th>29</th>\n",
       "      <td>Prof</td>\n",
       "      <td>B</td>\n",
       "      <td>21</td>\n",
       "      <td>20</td>\n",
       "      <td>Male</td>\n",
       "      <td>123683</td>\n",
       "    </tr>\n",
       "    <tr>\n",
       "      <th>31</th>\n",
       "      <td>Prof</td>\n",
       "      <td>B</td>\n",
       "      <td>22</td>\n",
       "      <td>21</td>\n",
       "      <td>Male</td>\n",
       "      <td>155750</td>\n",
       "    </tr>\n",
       "    <tr>\n",
       "      <th>35</th>\n",
       "      <td>Prof</td>\n",
       "      <td>B</td>\n",
       "      <td>28</td>\n",
       "      <td>23</td>\n",
       "      <td>Male</td>\n",
       "      <td>126933</td>\n",
       "    </tr>\n",
       "  </tbody>\n",
       "</table>\n",
       "</div>"
      ],
      "text/plain": [
       "    rank discipline  phd  service   sex  salary\n",
       "0   Prof          B   56       49  Male  186960\n",
       "3   Prof          A   40       31  Male  131205\n",
       "5   Prof          A   20       20  Male  122400\n",
       "7   Prof          A   18       18  Male  126300\n",
       "10  Prof          B   39       33  Male  128250\n",
       "11  Prof          B   23       23  Male  134778\n",
       "13  Prof          B   35       33  Male  162200\n",
       "14  Prof          B   25       19  Male  153750\n",
       "15  Prof          B   17        3  Male  150480\n",
       "19  Prof          A   29       27  Male  150500\n",
       "26  Prof          A   38       19  Male  148750\n",
       "27  Prof          A   45       43  Male  155865\n",
       "29  Prof          B   21       20  Male  123683\n",
       "31  Prof          B   22       21  Male  155750\n",
       "35  Prof          B   28       23  Male  126933"
      ]
     },
     "execution_count": 105,
     "metadata": {},
     "output_type": "execute_result"
    }
   ],
   "source": [
    "df_sub.head(15)"
   ]
  },
  {
   "cell_type": "code",
   "execution_count": 106,
   "metadata": {},
   "outputs": [
    {
     "data": {
      "text/html": [
       "<div>\n",
       "<style scoped>\n",
       "    .dataframe tbody tr th:only-of-type {\n",
       "        vertical-align: middle;\n",
       "    }\n",
       "\n",
       "    .dataframe tbody tr th {\n",
       "        vertical-align: top;\n",
       "    }\n",
       "\n",
       "    .dataframe thead th {\n",
       "        text-align: right;\n",
       "    }\n",
       "</style>\n",
       "<table border=\"1\" class=\"dataframe\">\n",
       "  <thead>\n",
       "    <tr style=\"text-align: right;\">\n",
       "      <th></th>\n",
       "      <th>rank</th>\n",
       "      <th>sex</th>\n",
       "      <th>salary</th>\n",
       "    </tr>\n",
       "  </thead>\n",
       "  <tbody>\n",
       "    <tr>\n",
       "      <th>10</th>\n",
       "      <td>Prof</td>\n",
       "      <td>Male</td>\n",
       "      <td>128250</td>\n",
       "    </tr>\n",
       "    <tr>\n",
       "      <th>11</th>\n",
       "      <td>Prof</td>\n",
       "      <td>Male</td>\n",
       "      <td>134778</td>\n",
       "    </tr>\n",
       "    <tr>\n",
       "      <th>13</th>\n",
       "      <td>Prof</td>\n",
       "      <td>Male</td>\n",
       "      <td>162200</td>\n",
       "    </tr>\n",
       "    <tr>\n",
       "      <th>14</th>\n",
       "      <td>Prof</td>\n",
       "      <td>Male</td>\n",
       "      <td>153750</td>\n",
       "    </tr>\n",
       "    <tr>\n",
       "      <th>15</th>\n",
       "      <td>Prof</td>\n",
       "      <td>Male</td>\n",
       "      <td>150480</td>\n",
       "    </tr>\n",
       "    <tr>\n",
       "      <th>19</th>\n",
       "      <td>Prof</td>\n",
       "      <td>Male</td>\n",
       "      <td>150500</td>\n",
       "    </tr>\n",
       "  </tbody>\n",
       "</table>\n",
       "</div>"
      ],
      "text/plain": [
       "    rank   sex  salary\n",
       "10  Prof  Male  128250\n",
       "11  Prof  Male  134778\n",
       "13  Prof  Male  162200\n",
       "14  Prof  Male  153750\n",
       "15  Prof  Male  150480\n",
       "19  Prof  Male  150500"
      ]
     },
     "execution_count": 106,
     "metadata": {},
     "output_type": "execute_result"
    }
   ],
   "source": [
    "#Let's see what we get for our df_sub data frame\n",
    "# Method .loc subset the data frame based on the labels:\n",
    "df_sub.loc[10:20,['rank','sex','salary']]"
   ]
  },
  {
   "cell_type": "code",
   "execution_count": 107,
   "metadata": {},
   "outputs": [
    {
     "data": {
      "text/html": [
       "<div>\n",
       "<style scoped>\n",
       "    .dataframe tbody tr th:only-of-type {\n",
       "        vertical-align: middle;\n",
       "    }\n",
       "\n",
       "    .dataframe tbody tr th {\n",
       "        vertical-align: top;\n",
       "    }\n",
       "\n",
       "    .dataframe thead th {\n",
       "        text-align: right;\n",
       "    }\n",
       "</style>\n",
       "<table border=\"1\" class=\"dataframe\">\n",
       "  <thead>\n",
       "    <tr style=\"text-align: right;\">\n",
       "      <th></th>\n",
       "      <th>rank</th>\n",
       "      <th>service</th>\n",
       "      <th>sex</th>\n",
       "      <th>salary</th>\n",
       "    </tr>\n",
       "  </thead>\n",
       "  <tbody>\n",
       "    <tr>\n",
       "      <th>26</th>\n",
       "      <td>Prof</td>\n",
       "      <td>19</td>\n",
       "      <td>Male</td>\n",
       "      <td>148750</td>\n",
       "    </tr>\n",
       "    <tr>\n",
       "      <th>27</th>\n",
       "      <td>Prof</td>\n",
       "      <td>43</td>\n",
       "      <td>Male</td>\n",
       "      <td>155865</td>\n",
       "    </tr>\n",
       "    <tr>\n",
       "      <th>29</th>\n",
       "      <td>Prof</td>\n",
       "      <td>20</td>\n",
       "      <td>Male</td>\n",
       "      <td>123683</td>\n",
       "    </tr>\n",
       "    <tr>\n",
       "      <th>31</th>\n",
       "      <td>Prof</td>\n",
       "      <td>21</td>\n",
       "      <td>Male</td>\n",
       "      <td>155750</td>\n",
       "    </tr>\n",
       "    <tr>\n",
       "      <th>35</th>\n",
       "      <td>Prof</td>\n",
       "      <td>23</td>\n",
       "      <td>Male</td>\n",
       "      <td>126933</td>\n",
       "    </tr>\n",
       "    <tr>\n",
       "      <th>36</th>\n",
       "      <td>Prof</td>\n",
       "      <td>45</td>\n",
       "      <td>Male</td>\n",
       "      <td>146856</td>\n",
       "    </tr>\n",
       "    <tr>\n",
       "      <th>39</th>\n",
       "      <td>Prof</td>\n",
       "      <td>18</td>\n",
       "      <td>Female</td>\n",
       "      <td>129000</td>\n",
       "    </tr>\n",
       "    <tr>\n",
       "      <th>40</th>\n",
       "      <td>Prof</td>\n",
       "      <td>36</td>\n",
       "      <td>Female</td>\n",
       "      <td>137000</td>\n",
       "    </tr>\n",
       "    <tr>\n",
       "      <th>44</th>\n",
       "      <td>Prof</td>\n",
       "      <td>19</td>\n",
       "      <td>Female</td>\n",
       "      <td>151768</td>\n",
       "    </tr>\n",
       "    <tr>\n",
       "      <th>45</th>\n",
       "      <td>Prof</td>\n",
       "      <td>25</td>\n",
       "      <td>Female</td>\n",
       "      <td>140096</td>\n",
       "    </tr>\n",
       "  </tbody>\n",
       "</table>\n",
       "</div>"
      ],
      "text/plain": [
       "    rank  service     sex  salary\n",
       "26  Prof       19    Male  148750\n",
       "27  Prof       43    Male  155865\n",
       "29  Prof       20    Male  123683\n",
       "31  Prof       21    Male  155750\n",
       "35  Prof       23    Male  126933\n",
       "36  Prof       45    Male  146856\n",
       "39  Prof       18  Female  129000\n",
       "40  Prof       36  Female  137000\n",
       "44  Prof       19  Female  151768\n",
       "45  Prof       25  Female  140096"
      ]
     },
     "execution_count": 107,
     "metadata": {},
     "output_type": "execute_result"
    }
   ],
   "source": [
    "#  Unlike method .loc, method iloc selects rows (and columns) by position:\n",
    "df_sub.iloc[10:20, [0,3,4,5]]"
   ]
  },
  {
   "cell_type": "markdown",
   "metadata": {},
   "source": [
    "### Sorting the Data"
   ]
  },
  {
   "cell_type": "code",
   "execution_count": 108,
   "metadata": {},
   "outputs": [
    {
     "data": {
      "text/html": [
       "<div>\n",
       "<style scoped>\n",
       "    .dataframe tbody tr th:only-of-type {\n",
       "        vertical-align: middle;\n",
       "    }\n",
       "\n",
       "    .dataframe tbody tr th {\n",
       "        vertical-align: top;\n",
       "    }\n",
       "\n",
       "    .dataframe thead th {\n",
       "        text-align: right;\n",
       "    }\n",
       "</style>\n",
       "<table border=\"1\" class=\"dataframe\">\n",
       "  <thead>\n",
       "    <tr style=\"text-align: right;\">\n",
       "      <th></th>\n",
       "      <th>rank</th>\n",
       "      <th>discipline</th>\n",
       "      <th>phd</th>\n",
       "      <th>service</th>\n",
       "      <th>sex</th>\n",
       "      <th>salary</th>\n",
       "    </tr>\n",
       "  </thead>\n",
       "  <tbody>\n",
       "    <tr>\n",
       "      <th>55</th>\n",
       "      <td>AsstProf</td>\n",
       "      <td>A</td>\n",
       "      <td>2</td>\n",
       "      <td>0</td>\n",
       "      <td>Female</td>\n",
       "      <td>72500</td>\n",
       "    </tr>\n",
       "    <tr>\n",
       "      <th>23</th>\n",
       "      <td>AsstProf</td>\n",
       "      <td>A</td>\n",
       "      <td>2</td>\n",
       "      <td>0</td>\n",
       "      <td>Male</td>\n",
       "      <td>85000</td>\n",
       "    </tr>\n",
       "    <tr>\n",
       "      <th>43</th>\n",
       "      <td>AsstProf</td>\n",
       "      <td>B</td>\n",
       "      <td>5</td>\n",
       "      <td>0</td>\n",
       "      <td>Female</td>\n",
       "      <td>77000</td>\n",
       "    </tr>\n",
       "    <tr>\n",
       "      <th>17</th>\n",
       "      <td>AsstProf</td>\n",
       "      <td>B</td>\n",
       "      <td>4</td>\n",
       "      <td>0</td>\n",
       "      <td>Male</td>\n",
       "      <td>92000</td>\n",
       "    </tr>\n",
       "    <tr>\n",
       "      <th>12</th>\n",
       "      <td>AsstProf</td>\n",
       "      <td>B</td>\n",
       "      <td>1</td>\n",
       "      <td>0</td>\n",
       "      <td>Male</td>\n",
       "      <td>88000</td>\n",
       "    </tr>\n",
       "  </tbody>\n",
       "</table>\n",
       "</div>"
      ],
      "text/plain": [
       "        rank discipline  phd  service     sex  salary\n",
       "55  AsstProf          A    2        0  Female   72500\n",
       "23  AsstProf          A    2        0    Male   85000\n",
       "43  AsstProf          B    5        0  Female   77000\n",
       "17  AsstProf          B    4        0    Male   92000\n",
       "12  AsstProf          B    1        0    Male   88000"
      ]
     },
     "execution_count": 108,
     "metadata": {},
     "output_type": "execute_result"
    }
   ],
   "source": [
    "#Sort the data frame by yrs.service and create a new data frame\n",
    "df_sorted = df.sort_values(by = 'service')\n",
    "df_sorted.head()"
   ]
  },
  {
   "cell_type": "code",
   "execution_count": 110,
   "metadata": {},
   "outputs": [
    {
     "data": {
      "text/html": [
       "<div>\n",
       "<style scoped>\n",
       "    .dataframe tbody tr th:only-of-type {\n",
       "        vertical-align: middle;\n",
       "    }\n",
       "\n",
       "    .dataframe tbody tr th {\n",
       "        vertical-align: top;\n",
       "    }\n",
       "\n",
       "    .dataframe thead th {\n",
       "        text-align: right;\n",
       "    }\n",
       "</style>\n",
       "<table border=\"1\" class=\"dataframe\">\n",
       "  <thead>\n",
       "    <tr style=\"text-align: right;\">\n",
       "      <th></th>\n",
       "      <th>rank</th>\n",
       "      <th>discipline</th>\n",
       "      <th>phd</th>\n",
       "      <th>service</th>\n",
       "      <th>sex</th>\n",
       "      <th>salary</th>\n",
       "    </tr>\n",
       "  </thead>\n",
       "  <tbody>\n",
       "    <tr>\n",
       "      <th>9</th>\n",
       "      <td>Prof</td>\n",
       "      <td>A</td>\n",
       "      <td>51</td>\n",
       "      <td>51</td>\n",
       "      <td>Male</td>\n",
       "      <td>57800</td>\n",
       "    </tr>\n",
       "    <tr>\n",
       "      <th>0</th>\n",
       "      <td>Prof</td>\n",
       "      <td>B</td>\n",
       "      <td>56</td>\n",
       "      <td>49</td>\n",
       "      <td>Male</td>\n",
       "      <td>186960</td>\n",
       "    </tr>\n",
       "    <tr>\n",
       "      <th>36</th>\n",
       "      <td>Prof</td>\n",
       "      <td>B</td>\n",
       "      <td>45</td>\n",
       "      <td>45</td>\n",
       "      <td>Male</td>\n",
       "      <td>146856</td>\n",
       "    </tr>\n",
       "    <tr>\n",
       "      <th>27</th>\n",
       "      <td>Prof</td>\n",
       "      <td>A</td>\n",
       "      <td>45</td>\n",
       "      <td>43</td>\n",
       "      <td>Male</td>\n",
       "      <td>155865</td>\n",
       "    </tr>\n",
       "    <tr>\n",
       "      <th>40</th>\n",
       "      <td>Prof</td>\n",
       "      <td>A</td>\n",
       "      <td>39</td>\n",
       "      <td>36</td>\n",
       "      <td>Female</td>\n",
       "      <td>137000</td>\n",
       "    </tr>\n",
       "  </tbody>\n",
       "</table>\n",
       "</div>"
      ],
      "text/plain": [
       "    rank discipline  phd  service     sex  salary\n",
       "9   Prof          A   51       51    Male   57800\n",
       "0   Prof          B   56       49    Male  186960\n",
       "36  Prof          B   45       45    Male  146856\n",
       "27  Prof          A   45       43    Male  155865\n",
       "40  Prof          A   39       36  Female  137000"
      ]
     },
     "execution_count": 110,
     "metadata": {},
     "output_type": "execute_result"
    }
   ],
   "source": [
    "#Sort the data frame by yrs.service and overwrite the original dataset\n",
    "df.sort_values(by = 'service', ascending = False, inplace = True)\n",
    "df.head()"
   ]
  },
  {
   "cell_type": "code",
   "execution_count": 111,
   "metadata": {},
   "outputs": [
    {
     "data": {
      "text/html": [
       "<div>\n",
       "<style scoped>\n",
       "    .dataframe tbody tr th:only-of-type {\n",
       "        vertical-align: middle;\n",
       "    }\n",
       "\n",
       "    .dataframe tbody tr th {\n",
       "        vertical-align: top;\n",
       "    }\n",
       "\n",
       "    .dataframe thead th {\n",
       "        text-align: right;\n",
       "    }\n",
       "</style>\n",
       "<table border=\"1\" class=\"dataframe\">\n",
       "  <thead>\n",
       "    <tr style=\"text-align: right;\">\n",
       "      <th></th>\n",
       "      <th>rank</th>\n",
       "      <th>discipline</th>\n",
       "      <th>phd</th>\n",
       "      <th>service</th>\n",
       "      <th>sex</th>\n",
       "      <th>salary</th>\n",
       "    </tr>\n",
       "  </thead>\n",
       "  <tbody>\n",
       "    <tr>\n",
       "      <th>0</th>\n",
       "      <td>Prof</td>\n",
       "      <td>B</td>\n",
       "      <td>56</td>\n",
       "      <td>49</td>\n",
       "      <td>Male</td>\n",
       "      <td>186960</td>\n",
       "    </tr>\n",
       "    <tr>\n",
       "      <th>1</th>\n",
       "      <td>Prof</td>\n",
       "      <td>A</td>\n",
       "      <td>12</td>\n",
       "      <td>6</td>\n",
       "      <td>Male</td>\n",
       "      <td>93000</td>\n",
       "    </tr>\n",
       "    <tr>\n",
       "      <th>2</th>\n",
       "      <td>Prof</td>\n",
       "      <td>A</td>\n",
       "      <td>23</td>\n",
       "      <td>20</td>\n",
       "      <td>Male</td>\n",
       "      <td>110515</td>\n",
       "    </tr>\n",
       "    <tr>\n",
       "      <th>3</th>\n",
       "      <td>Prof</td>\n",
       "      <td>A</td>\n",
       "      <td>40</td>\n",
       "      <td>31</td>\n",
       "      <td>Male</td>\n",
       "      <td>131205</td>\n",
       "    </tr>\n",
       "    <tr>\n",
       "      <th>4</th>\n",
       "      <td>Prof</td>\n",
       "      <td>B</td>\n",
       "      <td>20</td>\n",
       "      <td>18</td>\n",
       "      <td>Male</td>\n",
       "      <td>104800</td>\n",
       "    </tr>\n",
       "  </tbody>\n",
       "</table>\n",
       "</div>"
      ],
      "text/plain": [
       "   rank discipline  phd  service   sex  salary\n",
       "0  Prof          B   56       49  Male  186960\n",
       "1  Prof          A   12        6  Male   93000\n",
       "2  Prof          A   23       20  Male  110515\n",
       "3  Prof          A   40       31  Male  131205\n",
       "4  Prof          B   20       18  Male  104800"
      ]
     },
     "execution_count": 111,
     "metadata": {},
     "output_type": "execute_result"
    }
   ],
   "source": [
    "# Restore the original order (by sorting using index)\n",
    "df.sort_index(axis=0, ascending = True, inplace = True)\n",
    "df.head()"
   ]
  },
  {
   "cell_type": "markdown",
   "metadata": {},
   "source": [
    "*Excersize*"
   ]
  },
  {
   "cell_type": "code",
   "execution_count": 115,
   "metadata": {},
   "outputs": [
    {
     "data": {
      "text/html": [
       "<div>\n",
       "<style scoped>\n",
       "    .dataframe tbody tr th:only-of-type {\n",
       "        vertical-align: middle;\n",
       "    }\n",
       "\n",
       "    .dataframe tbody tr th {\n",
       "        vertical-align: top;\n",
       "    }\n",
       "\n",
       "    .dataframe thead th {\n",
       "        text-align: right;\n",
       "    }\n",
       "</style>\n",
       "<table border=\"1\" class=\"dataframe\">\n",
       "  <thead>\n",
       "    <tr style=\"text-align: right;\">\n",
       "      <th></th>\n",
       "      <th>rank</th>\n",
       "      <th>discipline</th>\n",
       "      <th>phd</th>\n",
       "      <th>service</th>\n",
       "      <th>sex</th>\n",
       "      <th>salary</th>\n",
       "    </tr>\n",
       "  </thead>\n",
       "  <tbody>\n",
       "    <tr>\n",
       "      <th>0</th>\n",
       "      <td>Prof</td>\n",
       "      <td>B</td>\n",
       "      <td>56</td>\n",
       "      <td>49</td>\n",
       "      <td>Male</td>\n",
       "      <td>186960</td>\n",
       "    </tr>\n",
       "    <tr>\n",
       "      <th>13</th>\n",
       "      <td>Prof</td>\n",
       "      <td>B</td>\n",
       "      <td>35</td>\n",
       "      <td>33</td>\n",
       "      <td>Male</td>\n",
       "      <td>162200</td>\n",
       "    </tr>\n",
       "    <tr>\n",
       "      <th>72</th>\n",
       "      <td>Prof</td>\n",
       "      <td>B</td>\n",
       "      <td>24</td>\n",
       "      <td>15</td>\n",
       "      <td>Female</td>\n",
       "      <td>161101</td>\n",
       "    </tr>\n",
       "    <tr>\n",
       "      <th>27</th>\n",
       "      <td>Prof</td>\n",
       "      <td>A</td>\n",
       "      <td>45</td>\n",
       "      <td>43</td>\n",
       "      <td>Male</td>\n",
       "      <td>155865</td>\n",
       "    </tr>\n",
       "    <tr>\n",
       "      <th>31</th>\n",
       "      <td>Prof</td>\n",
       "      <td>B</td>\n",
       "      <td>22</td>\n",
       "      <td>21</td>\n",
       "      <td>Male</td>\n",
       "      <td>155750</td>\n",
       "    </tr>\n",
       "  </tbody>\n",
       "</table>\n",
       "</div>"
      ],
      "text/plain": [
       "    rank discipline  phd  service     sex  salary\n",
       "0   Prof          B   56       49    Male  186960\n",
       "13  Prof          B   35       33    Male  162200\n",
       "72  Prof          B   24       15  Female  161101\n",
       "27  Prof          A   45       43    Male  155865\n",
       "31  Prof          B   22       21    Male  155750"
      ]
     },
     "execution_count": 115,
     "metadata": {},
     "output_type": "execute_result"
    }
   ],
   "source": [
    "# Sort data frame by the salary (in descending order) and display the first few records of the output (head)\n",
    "df.sort_values(by = 'salary', ascending = False, inplace = True)\n",
    "df.head()"
   ]
  },
  {
   "cell_type": "markdown",
   "metadata": {},
   "source": [
    "---"
   ]
  },
  {
   "cell_type": "code",
   "execution_count": 116,
   "metadata": {},
   "outputs": [
    {
     "data": {
      "text/html": [
       "<div>\n",
       "<style scoped>\n",
       "    .dataframe tbody tr th:only-of-type {\n",
       "        vertical-align: middle;\n",
       "    }\n",
       "\n",
       "    .dataframe tbody tr th {\n",
       "        vertical-align: top;\n",
       "    }\n",
       "\n",
       "    .dataframe thead th {\n",
       "        text-align: right;\n",
       "    }\n",
       "</style>\n",
       "<table border=\"1\" class=\"dataframe\">\n",
       "  <thead>\n",
       "    <tr style=\"text-align: right;\">\n",
       "      <th></th>\n",
       "      <th>rank</th>\n",
       "      <th>discipline</th>\n",
       "      <th>phd</th>\n",
       "      <th>service</th>\n",
       "      <th>sex</th>\n",
       "      <th>salary</th>\n",
       "    </tr>\n",
       "  </thead>\n",
       "  <tbody>\n",
       "    <tr>\n",
       "      <th>52</th>\n",
       "      <td>Prof</td>\n",
       "      <td>A</td>\n",
       "      <td>12</td>\n",
       "      <td>0</td>\n",
       "      <td>Female</td>\n",
       "      <td>105000</td>\n",
       "    </tr>\n",
       "    <tr>\n",
       "      <th>17</th>\n",
       "      <td>AsstProf</td>\n",
       "      <td>B</td>\n",
       "      <td>4</td>\n",
       "      <td>0</td>\n",
       "      <td>Male</td>\n",
       "      <td>92000</td>\n",
       "    </tr>\n",
       "    <tr>\n",
       "      <th>12</th>\n",
       "      <td>AsstProf</td>\n",
       "      <td>B</td>\n",
       "      <td>1</td>\n",
       "      <td>0</td>\n",
       "      <td>Male</td>\n",
       "      <td>88000</td>\n",
       "    </tr>\n",
       "    <tr>\n",
       "      <th>23</th>\n",
       "      <td>AsstProf</td>\n",
       "      <td>A</td>\n",
       "      <td>2</td>\n",
       "      <td>0</td>\n",
       "      <td>Male</td>\n",
       "      <td>85000</td>\n",
       "    </tr>\n",
       "    <tr>\n",
       "      <th>43</th>\n",
       "      <td>AsstProf</td>\n",
       "      <td>B</td>\n",
       "      <td>5</td>\n",
       "      <td>0</td>\n",
       "      <td>Female</td>\n",
       "      <td>77000</td>\n",
       "    </tr>\n",
       "    <tr>\n",
       "      <th>55</th>\n",
       "      <td>AsstProf</td>\n",
       "      <td>A</td>\n",
       "      <td>2</td>\n",
       "      <td>0</td>\n",
       "      <td>Female</td>\n",
       "      <td>72500</td>\n",
       "    </tr>\n",
       "    <tr>\n",
       "      <th>57</th>\n",
       "      <td>AsstProf</td>\n",
       "      <td>A</td>\n",
       "      <td>3</td>\n",
       "      <td>1</td>\n",
       "      <td>Female</td>\n",
       "      <td>72500</td>\n",
       "    </tr>\n",
       "    <tr>\n",
       "      <th>28</th>\n",
       "      <td>AsstProf</td>\n",
       "      <td>B</td>\n",
       "      <td>7</td>\n",
       "      <td>2</td>\n",
       "      <td>Male</td>\n",
       "      <td>91300</td>\n",
       "    </tr>\n",
       "    <tr>\n",
       "      <th>42</th>\n",
       "      <td>AsstProf</td>\n",
       "      <td>B</td>\n",
       "      <td>4</td>\n",
       "      <td>2</td>\n",
       "      <td>Female</td>\n",
       "      <td>80225</td>\n",
       "    </tr>\n",
       "    <tr>\n",
       "      <th>68</th>\n",
       "      <td>AsstProf</td>\n",
       "      <td>A</td>\n",
       "      <td>4</td>\n",
       "      <td>2</td>\n",
       "      <td>Female</td>\n",
       "      <td>77500</td>\n",
       "    </tr>\n",
       "  </tbody>\n",
       "</table>\n",
       "</div>"
      ],
      "text/plain": [
       "        rank discipline  phd  service     sex  salary\n",
       "52      Prof          A   12        0  Female  105000\n",
       "17  AsstProf          B    4        0    Male   92000\n",
       "12  AsstProf          B    1        0    Male   88000\n",
       "23  AsstProf          A    2        0    Male   85000\n",
       "43  AsstProf          B    5        0  Female   77000\n",
       "55  AsstProf          A    2        0  Female   72500\n",
       "57  AsstProf          A    3        1  Female   72500\n",
       "28  AsstProf          B    7        2    Male   91300\n",
       "42  AsstProf          B    4        2  Female   80225\n",
       "68  AsstProf          A    4        2  Female   77500"
      ]
     },
     "execution_count": 116,
     "metadata": {},
     "output_type": "execute_result"
    }
   ],
   "source": [
    "#Sort the data frame using 2 or more columns:\n",
    "df_sorted = df.sort_values(by = ['service', 'salary'], ascending = [True,False])\n",
    "df_sorted.head(10)"
   ]
  },
  {
   "cell_type": "markdown",
   "metadata": {},
   "source": [
    "### Missing Values"
   ]
  },
  {
   "cell_type": "code",
   "execution_count": 123,
   "metadata": {},
   "outputs": [
    {
     "data": {
      "text/html": [
       "<div>\n",
       "<style scoped>\n",
       "    .dataframe tbody tr th:only-of-type {\n",
       "        vertical-align: middle;\n",
       "    }\n",
       "\n",
       "    .dataframe tbody tr th {\n",
       "        vertical-align: top;\n",
       "    }\n",
       "\n",
       "    .dataframe thead th {\n",
       "        text-align: right;\n",
       "    }\n",
       "</style>\n",
       "<table border=\"1\" class=\"dataframe\">\n",
       "  <thead>\n",
       "    <tr style=\"text-align: right;\">\n",
       "      <th></th>\n",
       "      <th>year</th>\n",
       "      <th>month</th>\n",
       "      <th>day</th>\n",
       "      <th>dep_time</th>\n",
       "      <th>dep_delay</th>\n",
       "      <th>arr_time</th>\n",
       "      <th>arr_delay</th>\n",
       "      <th>carrier</th>\n",
       "      <th>tailnum</th>\n",
       "      <th>flight</th>\n",
       "      <th>origin</th>\n",
       "      <th>dest</th>\n",
       "      <th>air_time</th>\n",
       "      <th>distance</th>\n",
       "      <th>hour</th>\n",
       "      <th>minute</th>\n",
       "    </tr>\n",
       "  </thead>\n",
       "  <tbody>\n",
       "    <tr>\n",
       "      <th>0</th>\n",
       "      <td>2013</td>\n",
       "      <td>1</td>\n",
       "      <td>1</td>\n",
       "      <td>517.0</td>\n",
       "      <td>2.0</td>\n",
       "      <td>830.0</td>\n",
       "      <td>11.0</td>\n",
       "      <td>UA</td>\n",
       "      <td>N14228</td>\n",
       "      <td>1545</td>\n",
       "      <td>EWR</td>\n",
       "      <td>IAH</td>\n",
       "      <td>227.0</td>\n",
       "      <td>1400</td>\n",
       "      <td>5.0</td>\n",
       "      <td>17.0</td>\n",
       "    </tr>\n",
       "    <tr>\n",
       "      <th>1</th>\n",
       "      <td>2013</td>\n",
       "      <td>1</td>\n",
       "      <td>1</td>\n",
       "      <td>533.0</td>\n",
       "      <td>4.0</td>\n",
       "      <td>850.0</td>\n",
       "      <td>20.0</td>\n",
       "      <td>UA</td>\n",
       "      <td>N24211</td>\n",
       "      <td>1714</td>\n",
       "      <td>LGA</td>\n",
       "      <td>IAH</td>\n",
       "      <td>227.0</td>\n",
       "      <td>1416</td>\n",
       "      <td>5.0</td>\n",
       "      <td>33.0</td>\n",
       "    </tr>\n",
       "    <tr>\n",
       "      <th>2</th>\n",
       "      <td>2013</td>\n",
       "      <td>1</td>\n",
       "      <td>1</td>\n",
       "      <td>542.0</td>\n",
       "      <td>2.0</td>\n",
       "      <td>923.0</td>\n",
       "      <td>33.0</td>\n",
       "      <td>AA</td>\n",
       "      <td>N619AA</td>\n",
       "      <td>1141</td>\n",
       "      <td>JFK</td>\n",
       "      <td>MIA</td>\n",
       "      <td>160.0</td>\n",
       "      <td>1089</td>\n",
       "      <td>5.0</td>\n",
       "      <td>42.0</td>\n",
       "    </tr>\n",
       "    <tr>\n",
       "      <th>3</th>\n",
       "      <td>2013</td>\n",
       "      <td>1</td>\n",
       "      <td>1</td>\n",
       "      <td>554.0</td>\n",
       "      <td>-6.0</td>\n",
       "      <td>812.0</td>\n",
       "      <td>-25.0</td>\n",
       "      <td>DL</td>\n",
       "      <td>N668DN</td>\n",
       "      <td>461</td>\n",
       "      <td>LGA</td>\n",
       "      <td>ATL</td>\n",
       "      <td>116.0</td>\n",
       "      <td>762</td>\n",
       "      <td>5.0</td>\n",
       "      <td>54.0</td>\n",
       "    </tr>\n",
       "    <tr>\n",
       "      <th>4</th>\n",
       "      <td>2013</td>\n",
       "      <td>1</td>\n",
       "      <td>1</td>\n",
       "      <td>554.0</td>\n",
       "      <td>-4.0</td>\n",
       "      <td>740.0</td>\n",
       "      <td>12.0</td>\n",
       "      <td>UA</td>\n",
       "      <td>N39463</td>\n",
       "      <td>1696</td>\n",
       "      <td>EWR</td>\n",
       "      <td>ORD</td>\n",
       "      <td>150.0</td>\n",
       "      <td>719</td>\n",
       "      <td>5.0</td>\n",
       "      <td>54.0</td>\n",
       "    </tr>\n",
       "  </tbody>\n",
       "</table>\n",
       "</div>"
      ],
      "text/plain": [
       "   year  month  day  dep_time  dep_delay  arr_time  arr_delay carrier tailnum  \\\n",
       "0  2013      1    1     517.0        2.0     830.0       11.0      UA  N14228   \n",
       "1  2013      1    1     533.0        4.0     850.0       20.0      UA  N24211   \n",
       "2  2013      1    1     542.0        2.0     923.0       33.0      AA  N619AA   \n",
       "3  2013      1    1     554.0       -6.0     812.0      -25.0      DL  N668DN   \n",
       "4  2013      1    1     554.0       -4.0     740.0       12.0      UA  N39463   \n",
       "\n",
       "   flight origin dest  air_time  distance  hour  minute  \n",
       "0    1545    EWR  IAH     227.0      1400   5.0    17.0  \n",
       "1    1714    LGA  IAH     227.0      1416   5.0    33.0  \n",
       "2    1141    JFK  MIA     160.0      1089   5.0    42.0  \n",
       "3     461    LGA  ATL     116.0       762   5.0    54.0  \n",
       "4    1696    EWR  ORD     150.0       719   5.0    54.0  "
      ]
     },
     "execution_count": 123,
     "metadata": {},
     "output_type": "execute_result"
    }
   ],
   "source": [
    "# Read a dataset with missing values\n",
    "flights = pd.read_csv(\"http://rcs.bu.edu/examples/python/data_analysis/flights.csv\")\n",
    "flights.head()"
   ]
  },
  {
   "cell_type": "code",
   "execution_count": 119,
   "metadata": {
    "scrolled": true
   },
   "outputs": [
    {
     "data": {
      "text/html": [
       "<div>\n",
       "<style scoped>\n",
       "    .dataframe tbody tr th:only-of-type {\n",
       "        vertical-align: middle;\n",
       "    }\n",
       "\n",
       "    .dataframe tbody tr th {\n",
       "        vertical-align: top;\n",
       "    }\n",
       "\n",
       "    .dataframe thead th {\n",
       "        text-align: right;\n",
       "    }\n",
       "</style>\n",
       "<table border=\"1\" class=\"dataframe\">\n",
       "  <thead>\n",
       "    <tr style=\"text-align: right;\">\n",
       "      <th></th>\n",
       "      <th>year</th>\n",
       "      <th>month</th>\n",
       "      <th>day</th>\n",
       "      <th>dep_time</th>\n",
       "      <th>dep_delay</th>\n",
       "      <th>arr_time</th>\n",
       "      <th>arr_delay</th>\n",
       "      <th>carrier</th>\n",
       "      <th>tailnum</th>\n",
       "      <th>flight</th>\n",
       "      <th>origin</th>\n",
       "      <th>dest</th>\n",
       "      <th>air_time</th>\n",
       "      <th>distance</th>\n",
       "      <th>hour</th>\n",
       "      <th>minute</th>\n",
       "    </tr>\n",
       "  </thead>\n",
       "  <tbody>\n",
       "    <tr>\n",
       "      <th>330</th>\n",
       "      <td>2013</td>\n",
       "      <td>1</td>\n",
       "      <td>1</td>\n",
       "      <td>1807.0</td>\n",
       "      <td>29.0</td>\n",
       "      <td>2251.0</td>\n",
       "      <td>NaN</td>\n",
       "      <td>UA</td>\n",
       "      <td>N31412</td>\n",
       "      <td>1228</td>\n",
       "      <td>EWR</td>\n",
       "      <td>SAN</td>\n",
       "      <td>NaN</td>\n",
       "      <td>2425</td>\n",
       "      <td>18.0</td>\n",
       "      <td>7.0</td>\n",
       "    </tr>\n",
       "    <tr>\n",
       "      <th>403</th>\n",
       "      <td>2013</td>\n",
       "      <td>1</td>\n",
       "      <td>1</td>\n",
       "      <td>NaN</td>\n",
       "      <td>NaN</td>\n",
       "      <td>NaN</td>\n",
       "      <td>NaN</td>\n",
       "      <td>AA</td>\n",
       "      <td>N3EHAA</td>\n",
       "      <td>791</td>\n",
       "      <td>LGA</td>\n",
       "      <td>DFW</td>\n",
       "      <td>NaN</td>\n",
       "      <td>1389</td>\n",
       "      <td>NaN</td>\n",
       "      <td>NaN</td>\n",
       "    </tr>\n",
       "    <tr>\n",
       "      <th>404</th>\n",
       "      <td>2013</td>\n",
       "      <td>1</td>\n",
       "      <td>1</td>\n",
       "      <td>NaN</td>\n",
       "      <td>NaN</td>\n",
       "      <td>NaN</td>\n",
       "      <td>NaN</td>\n",
       "      <td>AA</td>\n",
       "      <td>N3EVAA</td>\n",
       "      <td>1925</td>\n",
       "      <td>LGA</td>\n",
       "      <td>MIA</td>\n",
       "      <td>NaN</td>\n",
       "      <td>1096</td>\n",
       "      <td>NaN</td>\n",
       "      <td>NaN</td>\n",
       "    </tr>\n",
       "    <tr>\n",
       "      <th>855</th>\n",
       "      <td>2013</td>\n",
       "      <td>1</td>\n",
       "      <td>2</td>\n",
       "      <td>2145.0</td>\n",
       "      <td>16.0</td>\n",
       "      <td>NaN</td>\n",
       "      <td>NaN</td>\n",
       "      <td>UA</td>\n",
       "      <td>N12221</td>\n",
       "      <td>1299</td>\n",
       "      <td>EWR</td>\n",
       "      <td>RSW</td>\n",
       "      <td>NaN</td>\n",
       "      <td>1068</td>\n",
       "      <td>21.0</td>\n",
       "      <td>45.0</td>\n",
       "    </tr>\n",
       "    <tr>\n",
       "      <th>858</th>\n",
       "      <td>2013</td>\n",
       "      <td>1</td>\n",
       "      <td>2</td>\n",
       "      <td>NaN</td>\n",
       "      <td>NaN</td>\n",
       "      <td>NaN</td>\n",
       "      <td>NaN</td>\n",
       "      <td>AA</td>\n",
       "      <td>NaN</td>\n",
       "      <td>133</td>\n",
       "      <td>JFK</td>\n",
       "      <td>LAX</td>\n",
       "      <td>NaN</td>\n",
       "      <td>2475</td>\n",
       "      <td>NaN</td>\n",
       "      <td>NaN</td>\n",
       "    </tr>\n",
       "  </tbody>\n",
       "</table>\n",
       "</div>"
      ],
      "text/plain": [
       "     year  month  day  dep_time  dep_delay  arr_time  arr_delay carrier  \\\n",
       "330  2013      1    1    1807.0       29.0    2251.0        NaN      UA   \n",
       "403  2013      1    1       NaN        NaN       NaN        NaN      AA   \n",
       "404  2013      1    1       NaN        NaN       NaN        NaN      AA   \n",
       "855  2013      1    2    2145.0       16.0       NaN        NaN      UA   \n",
       "858  2013      1    2       NaN        NaN       NaN        NaN      AA   \n",
       "\n",
       "    tailnum  flight origin dest  air_time  distance  hour  minute  \n",
       "330  N31412    1228    EWR  SAN       NaN      2425  18.0     7.0  \n",
       "403  N3EHAA     791    LGA  DFW       NaN      1389   NaN     NaN  \n",
       "404  N3EVAA    1925    LGA  MIA       NaN      1096   NaN     NaN  \n",
       "855  N12221    1299    EWR  RSW       NaN      1068  21.0    45.0  \n",
       "858     NaN     133    JFK  LAX       NaN      2475   NaN     NaN  "
      ]
     },
     "execution_count": 119,
     "metadata": {},
     "output_type": "execute_result"
    }
   ],
   "source": [
    "# Select the rows that have at least one missing value\n",
    "flights[flights.isnull().any(axis=1)].head()"
   ]
  },
  {
   "cell_type": "code",
   "execution_count": 124,
   "metadata": {},
   "outputs": [
    {
     "data": {
      "text/html": [
       "<div>\n",
       "<style scoped>\n",
       "    .dataframe tbody tr th:only-of-type {\n",
       "        vertical-align: middle;\n",
       "    }\n",
       "\n",
       "    .dataframe tbody tr th {\n",
       "        vertical-align: top;\n",
       "    }\n",
       "\n",
       "    .dataframe thead th {\n",
       "        text-align: right;\n",
       "    }\n",
       "</style>\n",
       "<table border=\"1\" class=\"dataframe\">\n",
       "  <thead>\n",
       "    <tr style=\"text-align: right;\">\n",
       "      <th></th>\n",
       "      <th>year</th>\n",
       "      <th>month</th>\n",
       "      <th>day</th>\n",
       "      <th>dep_time</th>\n",
       "      <th>dep_delay</th>\n",
       "      <th>arr_time</th>\n",
       "      <th>arr_delay</th>\n",
       "      <th>carrier</th>\n",
       "      <th>tailnum</th>\n",
       "      <th>flight</th>\n",
       "      <th>origin</th>\n",
       "      <th>dest</th>\n",
       "      <th>air_time</th>\n",
       "      <th>distance</th>\n",
       "      <th>hour</th>\n",
       "      <th>minute</th>\n",
       "    </tr>\n",
       "  </thead>\n",
       "  <tbody>\n",
       "    <tr>\n",
       "      <th>0</th>\n",
       "      <td>2013</td>\n",
       "      <td>1</td>\n",
       "      <td>1</td>\n",
       "      <td>517.0</td>\n",
       "      <td>2.0</td>\n",
       "      <td>830.0</td>\n",
       "      <td>11.0</td>\n",
       "      <td>UA</td>\n",
       "      <td>N14228</td>\n",
       "      <td>1545</td>\n",
       "      <td>EWR</td>\n",
       "      <td>IAH</td>\n",
       "      <td>227.0</td>\n",
       "      <td>1400</td>\n",
       "      <td>5.0</td>\n",
       "      <td>17.0</td>\n",
       "    </tr>\n",
       "    <tr>\n",
       "      <th>1</th>\n",
       "      <td>2013</td>\n",
       "      <td>1</td>\n",
       "      <td>1</td>\n",
       "      <td>533.0</td>\n",
       "      <td>4.0</td>\n",
       "      <td>850.0</td>\n",
       "      <td>20.0</td>\n",
       "      <td>UA</td>\n",
       "      <td>N24211</td>\n",
       "      <td>1714</td>\n",
       "      <td>LGA</td>\n",
       "      <td>IAH</td>\n",
       "      <td>227.0</td>\n",
       "      <td>1416</td>\n",
       "      <td>5.0</td>\n",
       "      <td>33.0</td>\n",
       "    </tr>\n",
       "    <tr>\n",
       "      <th>2</th>\n",
       "      <td>2013</td>\n",
       "      <td>1</td>\n",
       "      <td>1</td>\n",
       "      <td>542.0</td>\n",
       "      <td>2.0</td>\n",
       "      <td>923.0</td>\n",
       "      <td>33.0</td>\n",
       "      <td>AA</td>\n",
       "      <td>N619AA</td>\n",
       "      <td>1141</td>\n",
       "      <td>JFK</td>\n",
       "      <td>MIA</td>\n",
       "      <td>160.0</td>\n",
       "      <td>1089</td>\n",
       "      <td>5.0</td>\n",
       "      <td>42.0</td>\n",
       "    </tr>\n",
       "    <tr>\n",
       "      <th>3</th>\n",
       "      <td>2013</td>\n",
       "      <td>1</td>\n",
       "      <td>1</td>\n",
       "      <td>554.0</td>\n",
       "      <td>-6.0</td>\n",
       "      <td>812.0</td>\n",
       "      <td>-25.0</td>\n",
       "      <td>DL</td>\n",
       "      <td>N668DN</td>\n",
       "      <td>461</td>\n",
       "      <td>LGA</td>\n",
       "      <td>ATL</td>\n",
       "      <td>116.0</td>\n",
       "      <td>762</td>\n",
       "      <td>5.0</td>\n",
       "      <td>54.0</td>\n",
       "    </tr>\n",
       "    <tr>\n",
       "      <th>4</th>\n",
       "      <td>2013</td>\n",
       "      <td>1</td>\n",
       "      <td>1</td>\n",
       "      <td>554.0</td>\n",
       "      <td>-4.0</td>\n",
       "      <td>740.0</td>\n",
       "      <td>12.0</td>\n",
       "      <td>UA</td>\n",
       "      <td>N39463</td>\n",
       "      <td>1696</td>\n",
       "      <td>EWR</td>\n",
       "      <td>ORD</td>\n",
       "      <td>150.0</td>\n",
       "      <td>719</td>\n",
       "      <td>5.0</td>\n",
       "      <td>54.0</td>\n",
       "    </tr>\n",
       "  </tbody>\n",
       "</table>\n",
       "</div>"
      ],
      "text/plain": [
       "   year  month  day  dep_time  dep_delay  arr_time  arr_delay carrier tailnum  \\\n",
       "0  2013      1    1     517.0        2.0     830.0       11.0      UA  N14228   \n",
       "1  2013      1    1     533.0        4.0     850.0       20.0      UA  N24211   \n",
       "2  2013      1    1     542.0        2.0     923.0       33.0      AA  N619AA   \n",
       "3  2013      1    1     554.0       -6.0     812.0      -25.0      DL  N668DN   \n",
       "4  2013      1    1     554.0       -4.0     740.0       12.0      UA  N39463   \n",
       "\n",
       "   flight origin dest  air_time  distance  hour  minute  \n",
       "0    1545    EWR  IAH     227.0      1400   5.0    17.0  \n",
       "1    1714    LGA  IAH     227.0      1416   5.0    33.0  \n",
       "2    1141    JFK  MIA     160.0      1089   5.0    42.0  \n",
       "3     461    LGA  ATL     116.0       762   5.0    54.0  \n",
       "4    1696    EWR  ORD     150.0       719   5.0    54.0  "
      ]
     },
     "execution_count": 124,
     "metadata": {},
     "output_type": "execute_result"
    }
   ],
   "source": [
    "# Filter all the rows where arr_delay value is missing:\n",
    "flights1 = flights[ flights['arr_delay'].notnull( )]\n",
    "flights1.head()"
   ]
  },
  {
   "cell_type": "code",
   "execution_count": 126,
   "metadata": {},
   "outputs": [],
   "source": [
    "# Remove all the observations with missing values\n",
    "flights2 = flights.dropna()"
   ]
  },
  {
   "cell_type": "code",
   "execution_count": 127,
   "metadata": {},
   "outputs": [
    {
     "data": {
      "text/plain": [
       "False"
      ]
     },
     "execution_count": 127,
     "metadata": {},
     "output_type": "execute_result"
    }
   ],
   "source": [
    "# Fill missing values with zeros\n",
    "nomiss =flights['dep_delay'].fillna(0)\n",
    "nomiss.isnull().any()"
   ]
  },
  {
   "cell_type": "markdown",
   "metadata": {},
   "source": [
    "---\n",
    "*Excersize*"
   ]
  },
  {
   "cell_type": "code",
   "execution_count": 132,
   "metadata": {},
   "outputs": [
    {
     "data": {
      "text/plain": [
       "2336"
      ]
     },
     "execution_count": 132,
     "metadata": {},
     "output_type": "execute_result"
    }
   ],
   "source": [
    "# Count how many missing data are in dep_delay and arr_delay columns\n",
    "len(flights[flights['dep_delay'].isnull()])"
   ]
  },
  {
   "cell_type": "markdown",
   "metadata": {},
   "source": [
    "---\n",
    "### Common Aggregation Functions:\n",
    "\n",
    "|Function|Description\n",
    "|-------|--------\n",
    "|min   | minimum\n",
    "|max   | maximum\n",
    "|count   | number of non-null observations\n",
    "|sum   | sum of values\n",
    "|mean  | arithmetic mean of values\n",
    "|median | median\n",
    "|mad | mean absolute deviation\n",
    "|mode | mode\n",
    "|prod   | product of values\n",
    "|std  | standard deviation\n",
    "|var | unbiased variance\n",
    "\n"
   ]
  },
  {
   "cell_type": "code",
   "execution_count": 133,
   "metadata": {},
   "outputs": [
    {
     "data": {
      "text/html": [
       "<div>\n",
       "<style scoped>\n",
       "    .dataframe tbody tr th:only-of-type {\n",
       "        vertical-align: middle;\n",
       "    }\n",
       "\n",
       "    .dataframe tbody tr th {\n",
       "        vertical-align: top;\n",
       "    }\n",
       "\n",
       "    .dataframe thead th {\n",
       "        text-align: right;\n",
       "    }\n",
       "</style>\n",
       "<table border=\"1\" class=\"dataframe\">\n",
       "  <thead>\n",
       "    <tr style=\"text-align: right;\">\n",
       "      <th></th>\n",
       "      <th>year</th>\n",
       "      <th>month</th>\n",
       "      <th>day</th>\n",
       "      <th>dep_time</th>\n",
       "      <th>dep_delay</th>\n",
       "      <th>arr_time</th>\n",
       "      <th>arr_delay</th>\n",
       "      <th>flight</th>\n",
       "      <th>air_time</th>\n",
       "      <th>distance</th>\n",
       "      <th>hour</th>\n",
       "      <th>minute</th>\n",
       "    </tr>\n",
       "  </thead>\n",
       "  <tbody>\n",
       "    <tr>\n",
       "      <th>count</th>\n",
       "      <td>160754.0</td>\n",
       "      <td>160754.000000</td>\n",
       "      <td>160754.000000</td>\n",
       "      <td>158418.000000</td>\n",
       "      <td>158418.000000</td>\n",
       "      <td>158275.000000</td>\n",
       "      <td>157927.000000</td>\n",
       "      <td>160754.000000</td>\n",
       "      <td>157927.000000</td>\n",
       "      <td>160754.000000</td>\n",
       "      <td>158418.000000</td>\n",
       "      <td>158418.000000</td>\n",
       "    </tr>\n",
       "    <tr>\n",
       "      <th>mean</th>\n",
       "      <td>2013.0</td>\n",
       "      <td>6.547395</td>\n",
       "      <td>15.716567</td>\n",
       "      <td>1316.146006</td>\n",
       "      <td>9.463773</td>\n",
       "      <td>1517.471161</td>\n",
       "      <td>2.094537</td>\n",
       "      <td>1156.344987</td>\n",
       "      <td>180.685158</td>\n",
       "      <td>1282.445420</td>\n",
       "      <td>12.837582</td>\n",
       "      <td>32.387847</td>\n",
       "    </tr>\n",
       "    <tr>\n",
       "      <th>std</th>\n",
       "      <td>0.0</td>\n",
       "      <td>3.410001</td>\n",
       "      <td>8.762794</td>\n",
       "      <td>470.823715</td>\n",
       "      <td>36.545109</td>\n",
       "      <td>510.695413</td>\n",
       "      <td>41.479349</td>\n",
       "      <td>695.884283</td>\n",
       "      <td>97.507866</td>\n",
       "      <td>765.895383</td>\n",
       "      <td>4.725552</td>\n",
       "      <td>18.687423</td>\n",
       "    </tr>\n",
       "    <tr>\n",
       "      <th>min</th>\n",
       "      <td>2013.0</td>\n",
       "      <td>1.000000</td>\n",
       "      <td>1.000000</td>\n",
       "      <td>1.000000</td>\n",
       "      <td>-33.000000</td>\n",
       "      <td>1.000000</td>\n",
       "      <td>-75.000000</td>\n",
       "      <td>1.000000</td>\n",
       "      <td>21.000000</td>\n",
       "      <td>17.000000</td>\n",
       "      <td>0.000000</td>\n",
       "      <td>0.000000</td>\n",
       "    </tr>\n",
       "    <tr>\n",
       "      <th>25%</th>\n",
       "      <td>2013.0</td>\n",
       "      <td>4.000000</td>\n",
       "      <td>8.000000</td>\n",
       "      <td>855.000000</td>\n",
       "      <td>-5.000000</td>\n",
       "      <td>1112.000000</td>\n",
       "      <td>-19.000000</td>\n",
       "      <td>504.000000</td>\n",
       "      <td>111.000000</td>\n",
       "      <td>733.000000</td>\n",
       "      <td>8.000000</td>\n",
       "      <td>16.000000</td>\n",
       "    </tr>\n",
       "    <tr>\n",
       "      <th>50%</th>\n",
       "      <td>2013.0</td>\n",
       "      <td>7.000000</td>\n",
       "      <td>16.000000</td>\n",
       "      <td>1345.000000</td>\n",
       "      <td>-2.000000</td>\n",
       "      <td>1541.000000</td>\n",
       "      <td>-7.000000</td>\n",
       "      <td>1157.000000</td>\n",
       "      <td>153.000000</td>\n",
       "      <td>1076.000000</td>\n",
       "      <td>13.000000</td>\n",
       "      <td>32.000000</td>\n",
       "    </tr>\n",
       "    <tr>\n",
       "      <th>75%</th>\n",
       "      <td>2013.0</td>\n",
       "      <td>10.000000</td>\n",
       "      <td>23.000000</td>\n",
       "      <td>1725.000000</td>\n",
       "      <td>7.000000</td>\n",
       "      <td>1944.000000</td>\n",
       "      <td>9.000000</td>\n",
       "      <td>1715.000000</td>\n",
       "      <td>258.000000</td>\n",
       "      <td>1728.000000</td>\n",
       "      <td>17.000000</td>\n",
       "      <td>51.000000</td>\n",
       "    </tr>\n",
       "    <tr>\n",
       "      <th>max</th>\n",
       "      <td>2013.0</td>\n",
       "      <td>12.000000</td>\n",
       "      <td>31.000000</td>\n",
       "      <td>2400.000000</td>\n",
       "      <td>1014.000000</td>\n",
       "      <td>2400.000000</td>\n",
       "      <td>1007.000000</td>\n",
       "      <td>2599.000000</td>\n",
       "      <td>695.000000</td>\n",
       "      <td>4963.000000</td>\n",
       "      <td>24.000000</td>\n",
       "      <td>59.000000</td>\n",
       "    </tr>\n",
       "  </tbody>\n",
       "</table>\n",
       "</div>"
      ],
      "text/plain": [
       "           year          month            day       dep_time      dep_delay  \\\n",
       "count  160754.0  160754.000000  160754.000000  158418.000000  158418.000000   \n",
       "mean     2013.0       6.547395      15.716567    1316.146006       9.463773   \n",
       "std         0.0       3.410001       8.762794     470.823715      36.545109   \n",
       "min      2013.0       1.000000       1.000000       1.000000     -33.000000   \n",
       "25%      2013.0       4.000000       8.000000     855.000000      -5.000000   \n",
       "50%      2013.0       7.000000      16.000000    1345.000000      -2.000000   \n",
       "75%      2013.0      10.000000      23.000000    1725.000000       7.000000   \n",
       "max      2013.0      12.000000      31.000000    2400.000000    1014.000000   \n",
       "\n",
       "            arr_time      arr_delay         flight       air_time  \\\n",
       "count  158275.000000  157927.000000  160754.000000  157927.000000   \n",
       "mean     1517.471161       2.094537    1156.344987     180.685158   \n",
       "std       510.695413      41.479349     695.884283      97.507866   \n",
       "min         1.000000     -75.000000       1.000000      21.000000   \n",
       "25%      1112.000000     -19.000000     504.000000     111.000000   \n",
       "50%      1541.000000      -7.000000    1157.000000     153.000000   \n",
       "75%      1944.000000       9.000000    1715.000000     258.000000   \n",
       "max      2400.000000    1007.000000    2599.000000     695.000000   \n",
       "\n",
       "            distance           hour         minute  \n",
       "count  160754.000000  158418.000000  158418.000000  \n",
       "mean     1282.445420      12.837582      32.387847  \n",
       "std       765.895383       4.725552      18.687423  \n",
       "min        17.000000       0.000000       0.000000  \n",
       "25%       733.000000       8.000000      16.000000  \n",
       "50%      1076.000000      13.000000      32.000000  \n",
       "75%      1728.000000      17.000000      51.000000  \n",
       "max      4963.000000      24.000000      59.000000  "
      ]
     },
     "execution_count": 133,
     "metadata": {},
     "output_type": "execute_result"
    }
   ],
   "source": [
    "# Find the number of non-missing values in each column\n",
    "flights.describe()"
   ]
  },
  {
   "cell_type": "code",
   "execution_count": 134,
   "metadata": {},
   "outputs": [
    {
     "data": {
      "text/plain": [
       "year         2013.000000\n",
       "month           6.547395\n",
       "day            15.716567\n",
       "dep_time     1316.146006\n",
       "dep_delay       9.463773\n",
       "arr_time     1517.471161\n",
       "arr_delay       2.094537\n",
       "flight       1156.344987\n",
       "air_time      180.685158\n",
       "distance     1282.445420\n",
       "hour           12.837582\n",
       "minute         32.387847\n",
       "dtype: float64"
      ]
     },
     "execution_count": 134,
     "metadata": {},
     "output_type": "execute_result"
    }
   ],
   "source": [
    "# Find mean value for all the columns in the dataset\n",
    "flights.mean()"
   ]
  },
  {
   "cell_type": "code",
   "execution_count": 136,
   "metadata": {},
   "outputs": [
    {
     "data": {
      "text/html": [
       "<div>\n",
       "<style scoped>\n",
       "    .dataframe tbody tr th:only-of-type {\n",
       "        vertical-align: middle;\n",
       "    }\n",
       "\n",
       "    .dataframe tbody tr th {\n",
       "        vertical-align: top;\n",
       "    }\n",
       "\n",
       "    .dataframe thead tr th {\n",
       "        text-align: left;\n",
       "    }\n",
       "\n",
       "    .dataframe thead tr:last-of-type th {\n",
       "        text-align: right;\n",
       "    }\n",
       "</style>\n",
       "<table border=\"1\" class=\"dataframe\">\n",
       "  <thead>\n",
       "    <tr>\n",
       "      <th></th>\n",
       "      <th colspan=\"8\" halign=\"left\">air_time</th>\n",
       "      <th colspan=\"2\" halign=\"left\">arr_delay</th>\n",
       "      <th>...</th>\n",
       "      <th colspan=\"2\" halign=\"left\">month</th>\n",
       "      <th colspan=\"8\" halign=\"left\">year</th>\n",
       "    </tr>\n",
       "    <tr>\n",
       "      <th></th>\n",
       "      <th>count</th>\n",
       "      <th>mean</th>\n",
       "      <th>std</th>\n",
       "      <th>min</th>\n",
       "      <th>25%</th>\n",
       "      <th>50%</th>\n",
       "      <th>75%</th>\n",
       "      <th>max</th>\n",
       "      <th>count</th>\n",
       "      <th>mean</th>\n",
       "      <th>...</th>\n",
       "      <th>75%</th>\n",
       "      <th>max</th>\n",
       "      <th>count</th>\n",
       "      <th>mean</th>\n",
       "      <th>std</th>\n",
       "      <th>min</th>\n",
       "      <th>25%</th>\n",
       "      <th>50%</th>\n",
       "      <th>75%</th>\n",
       "      <th>max</th>\n",
       "    </tr>\n",
       "    <tr>\n",
       "      <th>carrier</th>\n",
       "      <th></th>\n",
       "      <th></th>\n",
       "      <th></th>\n",
       "      <th></th>\n",
       "      <th></th>\n",
       "      <th></th>\n",
       "      <th></th>\n",
       "      <th></th>\n",
       "      <th></th>\n",
       "      <th></th>\n",
       "      <th></th>\n",
       "      <th></th>\n",
       "      <th></th>\n",
       "      <th></th>\n",
       "      <th></th>\n",
       "      <th></th>\n",
       "      <th></th>\n",
       "      <th></th>\n",
       "      <th></th>\n",
       "      <th></th>\n",
       "      <th></th>\n",
       "    </tr>\n",
       "  </thead>\n",
       "  <tbody>\n",
       "    <tr>\n",
       "      <th>AA</th>\n",
       "      <td>31947.0</td>\n",
       "      <td>188.822299</td>\n",
       "      <td>81.680950</td>\n",
       "      <td>29.0</td>\n",
       "      <td>134.0</td>\n",
       "      <td>169.0</td>\n",
       "      <td>215.0</td>\n",
       "      <td>426.0</td>\n",
       "      <td>31947.0</td>\n",
       "      <td>0.364291</td>\n",
       "      <td>...</td>\n",
       "      <td>9.0</td>\n",
       "      <td>12.0</td>\n",
       "      <td>32729.0</td>\n",
       "      <td>2013.0</td>\n",
       "      <td>0.0</td>\n",
       "      <td>2013.0</td>\n",
       "      <td>2013.0</td>\n",
       "      <td>2013.0</td>\n",
       "      <td>2013.0</td>\n",
       "      <td>2013.0</td>\n",
       "    </tr>\n",
       "    <tr>\n",
       "      <th>AS</th>\n",
       "      <td>709.0</td>\n",
       "      <td>325.617772</td>\n",
       "      <td>16.166656</td>\n",
       "      <td>277.0</td>\n",
       "      <td>314.0</td>\n",
       "      <td>324.0</td>\n",
       "      <td>336.0</td>\n",
       "      <td>392.0</td>\n",
       "      <td>709.0</td>\n",
       "      <td>-9.930889</td>\n",
       "      <td>...</td>\n",
       "      <td>9.0</td>\n",
       "      <td>12.0</td>\n",
       "      <td>714.0</td>\n",
       "      <td>2013.0</td>\n",
       "      <td>0.0</td>\n",
       "      <td>2013.0</td>\n",
       "      <td>2013.0</td>\n",
       "      <td>2013.0</td>\n",
       "      <td>2013.0</td>\n",
       "      <td>2013.0</td>\n",
       "    </tr>\n",
       "    <tr>\n",
       "      <th>DL</th>\n",
       "      <td>47658.0</td>\n",
       "      <td>173.688804</td>\n",
       "      <td>84.820967</td>\n",
       "      <td>26.0</td>\n",
       "      <td>115.0</td>\n",
       "      <td>145.0</td>\n",
       "      <td>216.0</td>\n",
       "      <td>490.0</td>\n",
       "      <td>47658.0</td>\n",
       "      <td>1.644341</td>\n",
       "      <td>...</td>\n",
       "      <td>10.0</td>\n",
       "      <td>12.0</td>\n",
       "      <td>48110.0</td>\n",
       "      <td>2013.0</td>\n",
       "      <td>0.0</td>\n",
       "      <td>2013.0</td>\n",
       "      <td>2013.0</td>\n",
       "      <td>2013.0</td>\n",
       "      <td>2013.0</td>\n",
       "      <td>2013.0</td>\n",
       "    </tr>\n",
       "    <tr>\n",
       "      <th>UA</th>\n",
       "      <td>57782.0</td>\n",
       "      <td>211.791354</td>\n",
       "      <td>101.029678</td>\n",
       "      <td>23.0</td>\n",
       "      <td>135.0</td>\n",
       "      <td>197.0</td>\n",
       "      <td>313.0</td>\n",
       "      <td>695.0</td>\n",
       "      <td>57782.0</td>\n",
       "      <td>3.558011</td>\n",
       "      <td>...</td>\n",
       "      <td>10.0</td>\n",
       "      <td>12.0</td>\n",
       "      <td>58665.0</td>\n",
       "      <td>2013.0</td>\n",
       "      <td>0.0</td>\n",
       "      <td>2013.0</td>\n",
       "      <td>2013.0</td>\n",
       "      <td>2013.0</td>\n",
       "      <td>2013.0</td>\n",
       "      <td>2013.0</td>\n",
       "    </tr>\n",
       "    <tr>\n",
       "      <th>US</th>\n",
       "      <td>19831.0</td>\n",
       "      <td>88.573799</td>\n",
       "      <td>75.171535</td>\n",
       "      <td>21.0</td>\n",
       "      <td>42.0</td>\n",
       "      <td>76.0</td>\n",
       "      <td>89.0</td>\n",
       "      <td>359.0</td>\n",
       "      <td>19831.0</td>\n",
       "      <td>2.129595</td>\n",
       "      <td>...</td>\n",
       "      <td>10.0</td>\n",
       "      <td>12.0</td>\n",
       "      <td>20536.0</td>\n",
       "      <td>2013.0</td>\n",
       "      <td>0.0</td>\n",
       "      <td>2013.0</td>\n",
       "      <td>2013.0</td>\n",
       "      <td>2013.0</td>\n",
       "      <td>2013.0</td>\n",
       "      <td>2013.0</td>\n",
       "    </tr>\n",
       "  </tbody>\n",
       "</table>\n",
       "<p>5 rows × 96 columns</p>\n",
       "</div>"
      ],
      "text/plain": [
       "        air_time                                                             \\\n",
       "           count        mean         std    min    25%    50%    75%    max   \n",
       "carrier                                                                       \n",
       "AA       31947.0  188.822299   81.680950   29.0  134.0  169.0  215.0  426.0   \n",
       "AS         709.0  325.617772   16.166656  277.0  314.0  324.0  336.0  392.0   \n",
       "DL       47658.0  173.688804   84.820967   26.0  115.0  145.0  216.0  490.0   \n",
       "UA       57782.0  211.791354  101.029678   23.0  135.0  197.0  313.0  695.0   \n",
       "US       19831.0   88.573799   75.171535   21.0   42.0   76.0   89.0  359.0   \n",
       "\n",
       "        arr_delay             ...   month           year                       \\\n",
       "            count      mean   ...     75%   max    count    mean  std     min   \n",
       "carrier                       ...                                               \n",
       "AA        31947.0  0.364291   ...     9.0  12.0  32729.0  2013.0  0.0  2013.0   \n",
       "AS          709.0 -9.930889   ...     9.0  12.0    714.0  2013.0  0.0  2013.0   \n",
       "DL        47658.0  1.644341   ...    10.0  12.0  48110.0  2013.0  0.0  2013.0   \n",
       "UA        57782.0  3.558011   ...    10.0  12.0  58665.0  2013.0  0.0  2013.0   \n",
       "US        19831.0  2.129595   ...    10.0  12.0  20536.0  2013.0  0.0  2013.0   \n",
       "\n",
       "                                         \n",
       "            25%     50%     75%     max  \n",
       "carrier                                  \n",
       "AA       2013.0  2013.0  2013.0  2013.0  \n",
       "AS       2013.0  2013.0  2013.0  2013.0  \n",
       "DL       2013.0  2013.0  2013.0  2013.0  \n",
       "UA       2013.0  2013.0  2013.0  2013.0  \n",
       "US       2013.0  2013.0  2013.0  2013.0  \n",
       "\n",
       "[5 rows x 96 columns]"
      ]
     },
     "execution_count": 136,
     "metadata": {},
     "output_type": "execute_result"
    }
   ],
   "source": [
    "# Let's compute summary statistic per a group':\n",
    "flights.groupby('carrier').describe()"
   ]
  },
  {
   "cell_type": "code",
   "execution_count": 137,
   "metadata": {},
   "outputs": [
    {
     "data": {
      "text/html": [
       "<div>\n",
       "<style scoped>\n",
       "    .dataframe tbody tr th:only-of-type {\n",
       "        vertical-align: middle;\n",
       "    }\n",
       "\n",
       "    .dataframe tbody tr th {\n",
       "        vertical-align: top;\n",
       "    }\n",
       "\n",
       "    .dataframe thead th {\n",
       "        text-align: right;\n",
       "    }\n",
       "</style>\n",
       "<table border=\"1\" class=\"dataframe\">\n",
       "  <thead>\n",
       "    <tr style=\"text-align: right;\">\n",
       "      <th></th>\n",
       "      <th>dep_delay</th>\n",
       "      <th>arr_delay</th>\n",
       "    </tr>\n",
       "  </thead>\n",
       "  <tbody>\n",
       "    <tr>\n",
       "      <th>min</th>\n",
       "      <td>-33.000000</td>\n",
       "      <td>-75.000000</td>\n",
       "    </tr>\n",
       "    <tr>\n",
       "      <th>mean</th>\n",
       "      <td>9.463773</td>\n",
       "      <td>2.094537</td>\n",
       "    </tr>\n",
       "    <tr>\n",
       "      <th>max</th>\n",
       "      <td>1014.000000</td>\n",
       "      <td>1007.000000</td>\n",
       "    </tr>\n",
       "  </tbody>\n",
       "</table>\n",
       "</div>"
      ],
      "text/plain": [
       "        dep_delay    arr_delay\n",
       "min    -33.000000   -75.000000\n",
       "mean     9.463773     2.094537\n",
       "max   1014.000000  1007.000000"
      ]
     },
     "execution_count": 137,
     "metadata": {},
     "output_type": "execute_result"
    }
   ],
   "source": [
    "# We can use agg() methods for aggregation:\n",
    "flights[['dep_delay','arr_delay']].agg(['min','mean','max'])"
   ]
  },
  {
   "cell_type": "code",
   "execution_count": 138,
   "metadata": {},
   "outputs": [
    {
     "data": {
      "text/html": [
       "<div>\n",
       "<style scoped>\n",
       "    .dataframe tbody tr th:only-of-type {\n",
       "        vertical-align: middle;\n",
       "    }\n",
       "\n",
       "    .dataframe tbody tr th {\n",
       "        vertical-align: top;\n",
       "    }\n",
       "\n",
       "    .dataframe thead th {\n",
       "        text-align: right;\n",
       "    }\n",
       "</style>\n",
       "<table border=\"1\" class=\"dataframe\">\n",
       "  <thead>\n",
       "    <tr style=\"text-align: right;\">\n",
       "      <th></th>\n",
       "      <th>dep_delay</th>\n",
       "      <th>carrier</th>\n",
       "    </tr>\n",
       "  </thead>\n",
       "  <tbody>\n",
       "    <tr>\n",
       "      <th>max</th>\n",
       "      <td>1014.000000</td>\n",
       "      <td>NaN</td>\n",
       "    </tr>\n",
       "    <tr>\n",
       "      <th>mean</th>\n",
       "      <td>9.463773</td>\n",
       "      <td>NaN</td>\n",
       "    </tr>\n",
       "    <tr>\n",
       "      <th>min</th>\n",
       "      <td>-33.000000</td>\n",
       "      <td>NaN</td>\n",
       "    </tr>\n",
       "    <tr>\n",
       "      <th>nunique</th>\n",
       "      <td>NaN</td>\n",
       "      <td>5.0</td>\n",
       "    </tr>\n",
       "  </tbody>\n",
       "</table>\n",
       "</div>"
      ],
      "text/plain": [
       "           dep_delay  carrier\n",
       "max      1014.000000      NaN\n",
       "mean        9.463773      NaN\n",
       "min       -33.000000      NaN\n",
       "nunique          NaN      5.0"
      ]
     },
     "execution_count": 138,
     "metadata": {},
     "output_type": "execute_result"
    }
   ],
   "source": [
    "# An example of computing different statistics for different columns\n",
    "flights.agg({'dep_delay':['min','mean',max], 'carrier':['nunique']})"
   ]
  },
  {
   "cell_type": "markdown",
   "metadata": {},
   "source": [
    "### Basic descriptive statistics"
   ]
  },
  {
   "cell_type": "markdown",
   "metadata": {},
   "source": [
    "|Function|Description\n",
    "|-------|--------\n",
    "|min   | minimum\n",
    "|max   | maximum\n",
    "|mean  | arithmetic mean of values\n",
    "|median | median\n",
    "|mad | mean absolute deviation\n",
    "|mode | mode\n",
    "|std  | standard deviation\n",
    "|var | unbiased variance\n",
    "|sem | standard error of the mean\n",
    "|skew| sample skewness\n",
    "|kurt|kurtosis\n",
    "|quantile| value at %\n"
   ]
  },
  {
   "cell_type": "code",
   "execution_count": 139,
   "metadata": {},
   "outputs": [
    {
     "data": {
      "text/plain": [
       "count    158418.000000\n",
       "mean          9.463773\n",
       "std          36.545109\n",
       "min         -33.000000\n",
       "25%          -5.000000\n",
       "50%          -2.000000\n",
       "75%           7.000000\n",
       "max        1014.000000\n",
       "Name: dep_delay, dtype: float64"
      ]
     },
     "execution_count": 139,
     "metadata": {},
     "output_type": "execute_result"
    }
   ],
   "source": [
    "# Convinient describe() function computes a veriety of statistics\n",
    "flights.dep_delay.describe()"
   ]
  },
  {
   "cell_type": "code",
   "execution_count": 140,
   "metadata": {},
   "outputs": [
    {
     "data": {
      "text/plain": [
       "54111"
      ]
     },
     "execution_count": 140,
     "metadata": {},
     "output_type": "execute_result"
    }
   ],
   "source": [
    "# find the index of the maximum or minimum value\n",
    "# if there are multiple values matching idxmin() and idxmax() will return the first match\n",
    "flights['dep_delay'].idxmin()  #minimum value"
   ]
  },
  {
   "cell_type": "code",
   "execution_count": 141,
   "metadata": {},
   "outputs": [
    {
     "data": {
      "text/plain": [
       "UA    58665\n",
       "DL    48110\n",
       "AA    32729\n",
       "US    20536\n",
       "AS      714\n",
       "Name: carrier, dtype: int64"
      ]
     },
     "execution_count": 141,
     "metadata": {},
     "output_type": "execute_result"
    }
   ],
   "source": [
    "# Count the number of records for each different value in a vector\n",
    "flights['carrier'].value_counts()"
   ]
  },
  {
   "cell_type": "markdown",
   "metadata": {},
   "source": [
    "### Explore data using graphics"
   ]
  },
  {
   "cell_type": "code",
   "execution_count": 142,
   "metadata": {},
   "outputs": [],
   "source": [
    "#Show graphs withint Python notebook\n",
    "%matplotlib inline"
   ]
  },
  {
   "cell_type": "code",
   "execution_count": 144,
   "metadata": {},
   "outputs": [
    {
     "data": {
      "text/plain": [
       "(array([7.14677085e-06, 8.73494215e-06, 1.74698843e-05, 8.73494215e-06,\n",
       "        9.52902780e-06, 6.35268520e-06, 3.17634260e-06, 7.94085650e-07]),\n",
       " array([ 57800.,  73945.,  90090., 106235., 122380., 138525., 154670.,\n",
       "        170815., 186960.]),\n",
       " <a list of 8 Patch objects>)"
      ]
     },
     "execution_count": 144,
     "metadata": {},
     "output_type": "execute_result"
    },
    {
     "data": {
      "image/png": "[encoded data removed]",
      "text/plain": [
       "<Figure size 432x288 with 1 Axes>"
      ]
     },
     "metadata": {
      "needs_background": "light"
     },
     "output_type": "display_data"
    }
   ],
   "source": [
    "#Use matplotlib to draw a histogram of a salary data\n",
    "plt.hist(df['salary'],bins=8, density=1)"
   ]
  },
  {
   "cell_type": "code",
   "execution_count": 145,
   "metadata": {},
   "outputs": [
    {
     "name": "stderr",
     "output_type": "stream",
     "text": [
      "C:\\Users\\BVERHEY90\\AppData\\Local\\Continuum\\anaconda3\\lib\\site-packages\\scipy\\stats\\stats.py:1713: FutureWarning: Using a non-tuple sequence for multidimensional indexing is deprecated; use `arr[tuple(seq)]` instead of `arr[seq]`. In the future this will be interpreted as an array index, `arr[np.array(seq)]`, which will result either in an error or a different result.\n",
      "  return np.add.reduce(sorted[indexer] * weights, axis=axis) / sumval\n"
     ]
    },
    {
     "data": {
      "image/png": "[encoded data removed]",
      "text/plain": [
       "<Figure size 432x288 with 1 Axes>"
      ]
     },
     "metadata": {
      "needs_background": "light"
     },
     "output_type": "display_data"
    }
   ],
   "source": [
    "#Use seaborn package to draw a histogram\n",
    "sns.distplot(df['salary']);"
   ]
  },
  {
   "cell_type": "code",
   "execution_count": 146,
   "metadata": {},
   "outputs": [
    {
     "data": {
      "text/plain": [
       "<matplotlib.axes._subplots.AxesSubplot at 0x2a802be84e0>"
      ]
     },
     "execution_count": 146,
     "metadata": {},
     "output_type": "execute_result"
    },
    {
     "data": {
      "image/png": "[encoded data removed]",
      "text/plain": [
       "<Figure size 432x288 with 1 Axes>"
      ]
     },
     "metadata": {
      "needs_background": "light"
     },
     "output_type": "display_data"
    }
   ],
   "source": [
    "# Use regular matplotlib function to display a barplot\n",
    "df.groupby(['rank'])['salary'].count().plot(kind='bar')"
   ]
  },
  {
   "cell_type": "code",
   "execution_count": 147,
   "metadata": {
    "scrolled": false
   },
   "outputs": [
    {
     "data": {
      "image/png": "[encoded data removed]",
      "text/plain": [
       "<Figure size 432x288 with 1 Axes>"
      ]
     },
     "metadata": {},
     "output_type": "display_data"
    }
   ],
   "source": [
    "# Use seaborn package to display a barplot\n",
    "sns.set_style(\"whitegrid\")\n",
    "\n",
    "ax = sns.barplot(x='rank',y ='salary', data=df, estimator=len)"
   ]
  },
  {
   "cell_type": "code",
   "execution_count": 148,
   "metadata": {},
   "outputs": [
    {
     "data": {
      "image/png": "[encoded data removed]",
      "text/plain": [
       "<Figure size 432x288 with 1 Axes>"
      ]
     },
     "metadata": {},
     "output_type": "display_data"
    }
   ],
   "source": [
    "# Split into 2 groups:\n",
    "ax = sns.barplot(x='rank',y ='salary', hue='sex', data=df, estimator=len)"
   ]
  },
  {
   "cell_type": "code",
   "execution_count": 149,
   "metadata": {},
   "outputs": [
    {
     "data": {
      "text/plain": [
       "<matplotlib.axes._subplots.AxesSubplot at 0x2a802cf2cc0>"
      ]
     },
     "execution_count": 149,
     "metadata": {},
     "output_type": "execute_result"
    },
    {
     "data": {
      "image/png": "[encoded data removed]",
      "text/plain": [
       "<Figure size 432x288 with 1 Axes>"
      ]
     },
     "metadata": {},
     "output_type": "display_data"
    }
   ],
   "source": [
    "#Violinplot\n",
    "sns.violinplot(x = \"salary\", data=df)"
   ]
  },
  {
   "cell_type": "code",
   "execution_count": 150,
   "metadata": {},
   "outputs": [
    {
     "data": {
      "text/plain": [
       "<seaborn.axisgrid.JointGrid at 0x2a802c810b8>"
      ]
     },
     "execution_count": 150,
     "metadata": {},
     "output_type": "execute_result"
    },
    {
     "data": {
      "image/png": "[encoded data removed]",
      "text/plain": [
       "<Figure size 432x432 with 3 Axes>"
      ]
     },
     "metadata": {},
     "output_type": "display_data"
    }
   ],
   "source": [
    "#Scatterplot in seaborn\n",
    "sns.jointplot(x='service', y='salary', data=df)"
   ]
  },
  {
   "cell_type": "code",
   "execution_count": 151,
   "metadata": {},
   "outputs": [
    {
     "data": {
      "text/plain": [
       "<matplotlib.axes._subplots.AxesSubplot at 0x2a8001a9860>"
      ]
     },
     "execution_count": 151,
     "metadata": {},
     "output_type": "execute_result"
    },
    {
     "data": {
      "image/png": "[encoded data removed]",
      "text/plain": [
       "<Figure size 432x288 with 1 Axes>"
      ]
     },
     "metadata": {},
     "output_type": "display_data"
    }
   ],
   "source": [
    "#If we are interested in linear regression plot for 2 numeric variables we can use regplot\n",
    "sns.regplot(x='service', y='salary', data=df)"
   ]
  },
  {
   "cell_type": "code",
   "execution_count": 152,
   "metadata": {},
   "outputs": [
    {
     "data": {
      "text/plain": [
       "<matplotlib.axes._subplots.AxesSubplot at 0x2a802dc6e10>"
      ]
     },
     "execution_count": 152,
     "metadata": {},
     "output_type": "execute_result"
    },
    {
     "data": {
      "image/png": "[encoded data removed]",
      "text/plain": [
       "<Figure size 432x288 with 1 Axes>"
      ]
     },
     "metadata": {},
     "output_type": "display_data"
    }
   ],
   "source": [
    "# box plot\n",
    "sns.boxplot(x='rank',y='salary', data=df)"
   ]
  },
  {
   "cell_type": "code",
   "execution_count": 153,
   "metadata": {},
   "outputs": [
    {
     "data": {
      "text/plain": [
       "<matplotlib.axes._subplots.AxesSubplot at 0x2a802e44e10>"
      ]
     },
     "execution_count": 153,
     "metadata": {},
     "output_type": "execute_result"
    },
    {
     "data": {
      "image/png": "[encoded data removed]",
      "text/plain": [
       "<Figure size 432x288 with 1 Axes>"
      ]
     },
     "metadata": {},
     "output_type": "display_data"
    }
   ],
   "source": [
    "# side-by-side box plot\n",
    "sns.boxplot(x='rank',y='salary', data=df, hue='sex')"
   ]
  },
  {
   "cell_type": "code",
   "execution_count": 154,
   "metadata": {},
   "outputs": [
    {
     "data": {
      "text/plain": [
       "<matplotlib.axes._subplots.AxesSubplot at 0x2a802e29748>"
      ]
     },
     "execution_count": 154,
     "metadata": {},
     "output_type": "execute_result"
    },
    {
     "data": {
      "image/png": "[encoded data removed]",
      "text/plain": [
       "<Figure size 432x288 with 1 Axes>"
      ]
     },
     "metadata": {},
     "output_type": "display_data"
    }
   ],
   "source": [
    "# swarm plot\n",
    "sns.swarmplot(x='rank',y='salary', data=df)"
   ]
  },
  {
   "cell_type": "code",
   "execution_count": 155,
   "metadata": {},
   "outputs": [
    {
     "name": "stderr",
     "output_type": "stream",
     "text": [
      "C:\\Users\\BVERHEY90\\AppData\\Local\\Continuum\\anaconda3\\lib\\site-packages\\seaborn\\categorical.py:3666: UserWarning: The `factorplot` function has been renamed to `catplot`. The original name will be removed in a future release. Please update your code. Note that the default `kind` in `factorplot` (`'point'`) has changed `'strip'` in `catplot`.\n",
      "  warnings.warn(msg)\n"
     ]
    },
    {
     "data": {
      "text/plain": [
       "<seaborn.axisgrid.FacetGrid at 0x2a802ee3550>"
      ]
     },
     "execution_count": 155,
     "metadata": {},
     "output_type": "execute_result"
    },
    {
     "data": {
      "image/png": "[encoded data removed]",
      "text/plain": [
       "<Figure size 360x360 with 1 Axes>"
      ]
     },
     "metadata": {},
     "output_type": "display_data"
    }
   ],
   "source": [
    "#factorplot\n",
    "sns.factorplot(x='carrier',y='dep_delay', data=flights, kind='bar')"
   ]
  },
  {
   "cell_type": "code",
   "execution_count": 156,
   "metadata": {},
   "outputs": [
    {
     "data": {
      "text/plain": [
       "<seaborn.axisgrid.PairGrid at 0x2a802e3b940>"
      ]
     },
     "execution_count": 156,
     "metadata": {},
     "output_type": "execute_result"
    },
    {
     "data": {
      "image/png": "[encoded data removed]",
      "text/plain": [
       "<Figure size 540x540 with 12 Axes>"
      ]
     },
     "metadata": {},
     "output_type": "display_data"
    }
   ],
   "source": [
    "# Pairplot \n",
    "sns.pairplot(df)"
   ]
  },
  {
   "cell_type": "markdown",
   "metadata": {},
   "source": [
    "---\n",
    "*Excersize*"
   ]
  },
  {
   "cell_type": "code",
   "execution_count": 157,
   "metadata": {},
   "outputs": [
    {
     "data": {
      "text/plain": [
       "<matplotlib.axes._subplots.AxesSubplot at 0x2a803917780>"
      ]
     },
     "execution_count": 157,
     "metadata": {},
     "output_type": "execute_result"
    },
    {
     "data": {
      "image/png": "[encoded data removed]",
      "text/plain": [
       "<Figure size 432x288 with 1 Axes>"
      ]
     },
     "metadata": {},
     "output_type": "display_data"
    }
   ],
   "source": [
    "#Using seaborn package explore the dependency of arr_delay on dep_delay (scatterplot or regplot) using flights dataset\n",
    "sns.regplot(x='arr_delay', y='dep_delay', data=flights)"
   ]
  },
  {
   "cell_type": "markdown",
   "metadata": {},
   "source": [
    "---\n",
    "## Basic statistical Analysis"
   ]
  },
  {
   "cell_type": "markdown",
   "metadata": {},
   "source": [
    "### Linear Regression"
   ]
  },
  {
   "cell_type": "code",
   "execution_count": 158,
   "metadata": {},
   "outputs": [],
   "source": [
    "# Import Statsmodel functions:\n",
    "import statsmodels.formula.api as smf"
   ]
  },
  {
   "cell_type": "code",
   "execution_count": 159,
   "metadata": {},
   "outputs": [
    {
     "name": "stdout",
     "output_type": "stream",
     "text": [
      "                            OLS Regression Results                            \n",
      "==============================================================================\n",
      "Dep. Variable:                 salary   R-squared:                       0.283\n",
      "Model:                            OLS   Adj. R-squared:                  0.274\n",
      "Method:                 Least Squares   F-statistic:                     30.03\n",
      "Date:                Mon, 21 Jan 2019   Prob (F-statistic):           5.31e-07\n",
      "Time:                        13:54:57   Log-Likelihood:                -896.72\n",
      "No. Observations:                  78   AIC:                             1797.\n",
      "Df Residuals:                      76   BIC:                             1802.\n",
      "Df Model:                           1                                         \n",
      "Covariance Type:            nonrobust                                         \n",
      "==============================================================================\n",
      "                 coef    std err          t      P>|t|      [0.025      0.975]\n",
      "------------------------------------------------------------------------------\n",
      "Intercept   8.935e+04   4365.651     20.468      0.000    8.07e+04     9.8e+04\n",
      "service     1240.3567    226.341      5.480      0.000     789.560    1691.153\n",
      "==============================================================================\n",
      "Omnibus:                       12.741   Durbin-Watson:                   0.476\n",
      "Prob(Omnibus):                  0.002   Jarque-Bera (JB):               21.944\n",
      "Skew:                          -0.576   Prob(JB):                     1.72e-05\n",
      "Kurtosis:                       5.329   Cond. No.                         30.9\n",
      "==============================================================================\n",
      "\n",
      "Warnings:\n",
      "[1] Standard Errors assume that the covariance matrix of the errors is correctly specified.\n"
     ]
    }
   ],
   "source": [
    "# create a fitted model\n",
    "lm = smf.ols(formula='salary ~ service', data=df).fit()\n",
    "\n",
    "#print model summary\n",
    "print(lm.summary())"
   ]
  },
  {
   "cell_type": "code",
   "execution_count": 160,
   "metadata": {},
   "outputs": [
    {
     "data": {
      "text/plain": [
       "Intercept    89354.824215\n",
       "service       1240.356654\n",
       "dtype: float64"
      ]
     },
     "execution_count": 160,
     "metadata": {},
     "output_type": "execute_result"
    }
   ],
   "source": [
    "# print the coefficients\n",
    "lm.params"
   ]
  },
  {
   "cell_type": "code",
   "execution_count": 161,
   "metadata": {},
   "outputs": [
    {
     "name": "stdout",
     "output_type": "stream",
     "text": [
      "Coef: [[1240.3566535]] \n",
      "Intercept: [89354.82421525]\n"
     ]
    }
   ],
   "source": [
    "#using scikit-learn:\n",
    "from sklearn import linear_model\n",
    "est = linear_model.LinearRegression(fit_intercept = True)   # create estimator object\n",
    "est.fit(df[['service']], df[['salary']])\n",
    "\n",
    "#print result\n",
    "print(\"Coef:\", est.coef_, \"\\nIntercept:\", est.intercept_)\n"
   ]
  },
  {
   "cell_type": "markdown",
   "metadata": {},
   "source": [
    "---\n",
    "*Excersize*"
   ]
  },
  {
   "cell_type": "code",
   "execution_count": 163,
   "metadata": {},
   "outputs": [
    {
     "name": "stdout",
     "output_type": "stream",
     "text": [
      "                            OLS Regression Results                            \n",
      "==============================================================================\n",
      "Dep. Variable:              arr_delay   R-squared:                       0.794\n",
      "Model:                            OLS   Adj. R-squared:                  0.794\n",
      "Method:                 Least Squares   F-statistic:                 6.074e+05\n",
      "Date:                Mon, 21 Jan 2019   Prob (F-statistic):               0.00\n",
      "Time:                        13:56:38   Log-Likelihood:            -6.8778e+05\n",
      "No. Observations:              157927   AIC:                         1.376e+06\n",
      "Df Residuals:                  157925   BIC:                         1.376e+06\n",
      "Df Model:                           1                                         \n",
      "Covariance Type:            nonrobust                                         \n",
      "==============================================================================\n",
      "                 coef    std err          t      P>|t|      [0.025      0.975]\n",
      "------------------------------------------------------------------------------\n",
      "Intercept     -7.4457      0.049   -152.050      0.000      -7.542      -7.350\n",
      "dep_delay      1.0138      0.001    779.358      0.000       1.011       1.016\n",
      "==============================================================================\n",
      "Omnibus:                    38155.693   Durbin-Watson:                   1.467\n",
      "Prob(Omnibus):                  0.000   Jarque-Bera (JB):           159178.104\n",
      "Skew:                           1.141   Prob(JB):                         0.00\n",
      "Kurtosis:                       7.357   Cond. No.                         38.9\n",
      "==============================================================================\n",
      "\n",
      "Warnings:\n",
      "[1] Standard Errors assume that the covariance matrix of the errors is correctly specified.\n"
     ]
    }
   ],
   "source": [
    "# Build a linear model for arr_delay ~ dep_delay\n",
    "lm = smf.ols(formula='arr_delay ~ dep_delay', data=flights).fit()\n",
    "\n",
    "#print model summary\n",
    "print(lm.summary())"
   ]
  },
  {
   "cell_type": "markdown",
   "metadata": {
    "collapsed": true
   },
   "source": [
    "---\n",
    "### Student T-test"
   ]
  },
  {
   "cell_type": "code",
   "execution_count": 164,
   "metadata": {},
   "outputs": [
    {
     "data": {
      "text/plain": [
       "Ttest_indResult(statistic=-2.2486865976699053, pvalue=0.027429778657910103)"
      ]
     },
     "execution_count": 164,
     "metadata": {},
     "output_type": "execute_result"
    }
   ],
   "source": [
    "# Using scipy package:\n",
    "from scipy import stats\n",
    "df_w = df[ df['sex'] == 'Female']['salary']\n",
    "df_m = df[ df['sex'] == 'Male']['salary']\n",
    "stats.ttest_ind(df_w, df_m)   "
   ]
  },
  {
   "cell_type": "code",
   "execution_count": null,
   "metadata": {},
   "outputs": [],
   "source": []
  }
 ],
 "metadata": {
  "kernelspec": {
   "display_name": "Python 3",
   "language": "python",
   "name": "python3"
  },
  "language_info": {
   "codemirror_mode": {
    "name": "ipython",
    "version": 3
   },
   "file_extension": ".py",
   "mimetype": "text/x-python",
   "name": "python",
   "nbconvert_exporter": "python",
   "pygments_lexer": "ipython3",
   "version": "3.7.1"
  }
 },
 "nbformat": 4,
 "nbformat_minor": 2
}
